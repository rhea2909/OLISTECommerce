{
 "cells": [
  {
   "cell_type": "markdown",
   "metadata": {},
   "source": [
    "# Linear and Logistic Regression with Regularization and addressing Multicollinearity"
   ]
  },
  {
   "cell_type": "markdown",
   "metadata": {},
   "source": [
    "###### This project aims to predict total sales per month for OLIST e-commerce website. The dependent variables are freight value and difference in sales between two months. We are predicting total sales by using linear regression and also performing Lasso and Ridge regularization techniques to remove insignificant variables with the least coefficients\n",
    "\n",
    "###### This project also aims to predict whether a customer will purchase multiple orders from OLIST based on the customer's first purchase predictors. This will be done using Logistic Regression. This can help the company decide which customers are capable of doing multiple purchases and focus on the ones which are one-time purchasers and increase their sales by influencing them to do more than one purchase."
   ]
  },
  {
   "cell_type": "markdown",
   "metadata": {},
   "source": [
    "##### Please note: This project is done on a custom conda environment with the following packages:<br>\n",
    "1) Pandas ver 1.1<br>\n",
    "2) Numpy<br>\n",
    "3) Scikitlearn 0.24.1<br>\n",
    "4) Python version 3.7.6<br>\n",
    "5) imbalanced-learn 0.7<br>\n",
    "6)statsmodels<br>"
   ]
  },
  {
   "cell_type": "code",
   "execution_count": 4,
   "metadata": {},
   "outputs": [],
   "source": [
    "#import neccesarry libraries\n",
    "import pandas as pd\n",
    "import numpy as np\n",
    "from sklearn.linear_model import LogisticRegression\n",
    "from sklearn.model_selection import train_test_split\n",
    "from sklearn.metrics import confusion_matrix\n",
    "from sklearn.metrics import classification_report\n",
    "from sklearn.metrics import r2_score\n",
    "from statsmodels.stats.outliers_influence import variance_inflation_factor \n",
    "from sklearn.feature_selection import RFE\n",
    "\n",
    "\n",
    "from sklearn.metrics import roc_auc_score\n",
    "from sklearn.metrics import roc_curve\n",
    "from imblearn.over_sampling import SMOTE\n",
    "import matplotlib.pyplot as plt"
   ]
  },
  {
   "cell_type": "code",
   "execution_count": 5,
   "metadata": {},
   "outputs": [],
   "source": [
    "#to remove warning and display all columns in the dataframe\n",
    "import warnings\n",
    "warnings.filterwarnings('ignore') #remove warnings from outputs\n",
    "pd.set_option('display.max_columns', 100) #display 100 columns\n",
    "pd.set_option('display.max_rows', 100)"
   ]
  },
  {
   "cell_type": "markdown",
   "metadata": {},
   "source": [
    "#### Please note to replace path of CSVs to your local computer paths where these files are downloaded"
   ]
  },
  {
   "cell_type": "code",
   "execution_count": 6,
   "metadata": {},
   "outputs": [],
   "source": [
    "#read all the datasets into different variables\n",
    "cust = pd.read_csv('~/Data_mining/DataArchives/olist_customers_dataset.csv') #customer data cust id PK\n",
    "loc = pd.read_csv('~/Data_mining/DataArchives/olist_geolocation_dataset.csv') #location details zip code PK\n",
    "order = pd.read_csv('~/Data_mining/DataArchives/olist_order_items_dataset.csv') #orders order id PK\n",
    "pay = pd.read_csv('~/Data_mining/DataArchives/olist_order_payments_dataset.csv')#payment info Payment id PK\n",
    "review = pd.read_csv('~/Data_mining/DataArchives/olist_order_reviews_dataset.csv') #reviews review id PK\n",
    "ord_cust = pd.read_csv('~/Data_mining/DataArchives/olist_orders_dataset.csv') # order and cust id PK\n",
    "product = pd.read_csv('~/Data_mining/DataArchives/olist_products_dataset.csv')# product id PK\n",
    "sellers = pd.read_csv('~/Data_mining/DataArchives/olist_sellers_dataset.csv')# seller id PK\n",
    "prd_name = pd.read_csv('~/Data_mining/DataArchives/product_category_name_translation.csv') #translation data"
   ]
  },
  {
   "cell_type": "code",
   "execution_count": 7,
   "metadata": {},
   "outputs": [
    {
     "data": {
      "text/html": [
       "<div>\n",
       "<style scoped>\n",
       "    .dataframe tbody tr th:only-of-type {\n",
       "        vertical-align: middle;\n",
       "    }\n",
       "\n",
       "    .dataframe tbody tr th {\n",
       "        vertical-align: top;\n",
       "    }\n",
       "\n",
       "    .dataframe thead th {\n",
       "        text-align: right;\n",
       "    }\n",
       "</style>\n",
       "<table border=\"1\" class=\"dataframe\">\n",
       "  <thead>\n",
       "    <tr style=\"text-align: right;\">\n",
       "      <th></th>\n",
       "      <th>order_id</th>\n",
       "      <th>order_item_id</th>\n",
       "      <th>product_id</th>\n",
       "      <th>seller_id</th>\n",
       "      <th>shipping_limit_date</th>\n",
       "      <th>price</th>\n",
       "      <th>freight_value</th>\n",
       "    </tr>\n",
       "  </thead>\n",
       "  <tbody>\n",
       "    <tr>\n",
       "      <th>0</th>\n",
       "      <td>00010242fe8c5a6d1ba2dd792cb16214</td>\n",
       "      <td>1</td>\n",
       "      <td>4244733e06e7ecb4970a6e2683c13e61</td>\n",
       "      <td>48436dade18ac8b2bce089ec2a041202</td>\n",
       "      <td>2017-09-19 09:45:35</td>\n",
       "      <td>58.9</td>\n",
       "      <td>13.29</td>\n",
       "    </tr>\n",
       "    <tr>\n",
       "      <th>1</th>\n",
       "      <td>00018f77f2f0320c557190d7a144bdd3</td>\n",
       "      <td>1</td>\n",
       "      <td>e5f2d52b802189ee658865ca93d83a8f</td>\n",
       "      <td>dd7ddc04e1b6c2c614352b383efe2d36</td>\n",
       "      <td>2017-05-03 11:05:13</td>\n",
       "      <td>239.9</td>\n",
       "      <td>19.93</td>\n",
       "    </tr>\n",
       "  </tbody>\n",
       "</table>\n",
       "</div>"
      ],
      "text/plain": [
       "                           order_id  order_item_id  \\\n",
       "0  00010242fe8c5a6d1ba2dd792cb16214              1   \n",
       "1  00018f77f2f0320c557190d7a144bdd3              1   \n",
       "\n",
       "                         product_id                         seller_id  \\\n",
       "0  4244733e06e7ecb4970a6e2683c13e61  48436dade18ac8b2bce089ec2a041202   \n",
       "1  e5f2d52b802189ee658865ca93d83a8f  dd7ddc04e1b6c2c614352b383efe2d36   \n",
       "\n",
       "   shipping_limit_date  price  freight_value  \n",
       "0  2017-09-19 09:45:35   58.9          13.29  \n",
       "1  2017-05-03 11:05:13  239.9          19.93  "
      ]
     },
     "execution_count": 7,
     "metadata": {},
     "output_type": "execute_result"
    }
   ],
   "source": [
    "d_set = order\n",
    "d_set.head(2)"
   ]
  },
  {
   "cell_type": "code",
   "execution_count": 8,
   "metadata": {},
   "outputs": [],
   "source": [
    "d_set = d_set[['shipping_limit_date', 'price', 'freight_value']]\n",
    "d_set = d_set.sort_values('shipping_limit_date')"
   ]
  },
  {
   "cell_type": "code",
   "execution_count": 9,
   "metadata": {},
   "outputs": [
    {
     "data": {
      "text/plain": [
       "shipping_limit_date    datetime64[ns]\n",
       "price                         float64\n",
       "freight_value                 float64\n",
       "dtype: object"
      ]
     },
     "execution_count": 9,
     "metadata": {},
     "output_type": "execute_result"
    }
   ],
   "source": [
    "d_set['shipping_limit_date'] = pd.to_datetime(d_set['shipping_limit_date'])\n",
    "d_set.dtypes"
   ]
  },
  {
   "cell_type": "code",
   "execution_count": 10,
   "metadata": {},
   "outputs": [],
   "source": [
    "#https://stackoverflow.com/questions/26646191/pandas-groupby-month-and-year\n",
    "d_set.set_index('shipping_limit_date', inplace=True)\n",
    "d_set = d_set.resample(\"M\").sum()"
   ]
  },
  {
   "cell_type": "code",
   "execution_count": 11,
   "metadata": {},
   "outputs": [
    {
     "data": {
      "text/html": [
       "<div>\n",
       "<style scoped>\n",
       "    .dataframe tbody tr th:only-of-type {\n",
       "        vertical-align: middle;\n",
       "    }\n",
       "\n",
       "    .dataframe tbody tr th {\n",
       "        vertical-align: top;\n",
       "    }\n",
       "\n",
       "    .dataframe thead th {\n",
       "        text-align: right;\n",
       "    }\n",
       "</style>\n",
       "<table border=\"1\" class=\"dataframe\">\n",
       "  <thead>\n",
       "    <tr style=\"text-align: right;\">\n",
       "      <th></th>\n",
       "      <th>price</th>\n",
       "      <th>freight_value</th>\n",
       "    </tr>\n",
       "    <tr>\n",
       "      <th>shipping_limit_date</th>\n",
       "      <th></th>\n",
       "      <th></th>\n",
       "    </tr>\n",
       "  </thead>\n",
       "  <tbody>\n",
       "    <tr>\n",
       "      <th>2016-09-30</th>\n",
       "      <td>194.47</td>\n",
       "      <td>24.05</td>\n",
       "    </tr>\n",
       "    <tr>\n",
       "      <th>2016-10-31</th>\n",
       "      <td>49580.55</td>\n",
       "      <td>7364.52</td>\n",
       "    </tr>\n",
       "    <tr>\n",
       "      <th>2016-11-30</th>\n",
       "      <td>0.00</td>\n",
       "      <td>0.00</td>\n",
       "    </tr>\n",
       "    <tr>\n",
       "      <th>2016-12-31</th>\n",
       "      <td>10.90</td>\n",
       "      <td>8.72</td>\n",
       "    </tr>\n",
       "    <tr>\n",
       "      <th>2017-01-31</th>\n",
       "      <td>80124.74</td>\n",
       "      <td>12073.67</td>\n",
       "    </tr>\n",
       "  </tbody>\n",
       "</table>\n",
       "</div>"
      ],
      "text/plain": [
       "                        price  freight_value\n",
       "shipping_limit_date                         \n",
       "2016-09-30             194.47          24.05\n",
       "2016-10-31           49580.55        7364.52\n",
       "2016-11-30               0.00           0.00\n",
       "2016-12-31              10.90           8.72\n",
       "2017-01-31           80124.74       12073.67"
      ]
     },
     "execution_count": 11,
     "metadata": {},
     "output_type": "execute_result"
    }
   ],
   "source": [
    "d_set.head()"
   ]
  },
  {
   "cell_type": "markdown",
   "metadata": {},
   "source": [
    "> We can observe there are many Outliers, so assuming the months with no sales to be Outliers we remove them"
   ]
  },
  {
   "cell_type": "code",
   "execution_count": 12,
   "metadata": {},
   "outputs": [],
   "source": [
    "#https://www.geeksforgeeks.org/how-to-drop-rows-in-dataframe-by-conditions-on-column-values/\n",
    "d_set = d_set.drop(d_set[d_set['price'] == 0.00].index, axis= 0)"
   ]
  },
  {
   "cell_type": "markdown",
   "metadata": {},
   "source": [
    "> Removing months with too low sum of Monthly prices since they look like outliers"
   ]
  },
  {
   "cell_type": "code",
   "execution_count": 13,
   "metadata": {},
   "outputs": [],
   "source": [
    "#Remove months with less than 1000 price, they might be outliers\n",
    "d_set = d_set[d_set['price'] > 1000]"
   ]
  },
  {
   "cell_type": "code",
   "execution_count": 14,
   "metadata": {},
   "outputs": [
    {
     "data": {
      "text/html": [
       "<div>\n",
       "<style scoped>\n",
       "    .dataframe tbody tr th:only-of-type {\n",
       "        vertical-align: middle;\n",
       "    }\n",
       "\n",
       "    .dataframe tbody tr th {\n",
       "        vertical-align: top;\n",
       "    }\n",
       "\n",
       "    .dataframe thead th {\n",
       "        text-align: right;\n",
       "    }\n",
       "</style>\n",
       "<table border=\"1\" class=\"dataframe\">\n",
       "  <thead>\n",
       "    <tr style=\"text-align: right;\">\n",
       "      <th></th>\n",
       "      <th>price</th>\n",
       "      <th>freight_value</th>\n",
       "    </tr>\n",
       "    <tr>\n",
       "      <th>shipping_limit_date</th>\n",
       "      <th></th>\n",
       "      <th></th>\n",
       "    </tr>\n",
       "  </thead>\n",
       "  <tbody>\n",
       "    <tr>\n",
       "      <th>2016-10-31</th>\n",
       "      <td>49580.55</td>\n",
       "      <td>7364.52</td>\n",
       "    </tr>\n",
       "    <tr>\n",
       "      <th>2017-01-31</th>\n",
       "      <td>80124.74</td>\n",
       "      <td>12073.67</td>\n",
       "    </tr>\n",
       "    <tr>\n",
       "      <th>2017-02-28</th>\n",
       "      <td>245982.01</td>\n",
       "      <td>36749.51</td>\n",
       "    </tr>\n",
       "    <tr>\n",
       "      <th>2017-03-31</th>\n",
       "      <td>343242.60</td>\n",
       "      <td>53299.79</td>\n",
       "    </tr>\n",
       "    <tr>\n",
       "      <th>2017-04-30</th>\n",
       "      <td>308148.32</td>\n",
       "      <td>44697.44</td>\n",
       "    </tr>\n",
       "  </tbody>\n",
       "</table>\n",
       "</div>"
      ],
      "text/plain": [
       "                         price  freight_value\n",
       "shipping_limit_date                          \n",
       "2016-10-31            49580.55        7364.52\n",
       "2017-01-31            80124.74       12073.67\n",
       "2017-02-28           245982.01       36749.51\n",
       "2017-03-31           343242.60       53299.79\n",
       "2017-04-30           308148.32       44697.44"
      ]
     },
     "execution_count": 14,
     "metadata": {},
     "output_type": "execute_result"
    }
   ],
   "source": [
    "d_set.head()"
   ]
  },
  {
   "cell_type": "code",
   "execution_count": 15,
   "metadata": {},
   "outputs": [],
   "source": [
    "d_set.rename(columns= {'price': 'Total sales'}, inplace= True)\n",
    "d_set.index.names = ['Monthly Shipping']"
   ]
  },
  {
   "cell_type": "code",
   "execution_count": 16,
   "metadata": {},
   "outputs": [
    {
     "data": {
      "text/html": [
       "<div>\n",
       "<style scoped>\n",
       "    .dataframe tbody tr th:only-of-type {\n",
       "        vertical-align: middle;\n",
       "    }\n",
       "\n",
       "    .dataframe tbody tr th {\n",
       "        vertical-align: top;\n",
       "    }\n",
       "\n",
       "    .dataframe thead th {\n",
       "        text-align: right;\n",
       "    }\n",
       "</style>\n",
       "<table border=\"1\" class=\"dataframe\">\n",
       "  <thead>\n",
       "    <tr style=\"text-align: right;\">\n",
       "      <th></th>\n",
       "      <th>Total sales</th>\n",
       "      <th>freight_value</th>\n",
       "    </tr>\n",
       "    <tr>\n",
       "      <th>Monthly Shipping</th>\n",
       "      <th></th>\n",
       "      <th></th>\n",
       "    </tr>\n",
       "  </thead>\n",
       "  <tbody>\n",
       "    <tr>\n",
       "      <th>2016-10-31</th>\n",
       "      <td>49580.55</td>\n",
       "      <td>7364.52</td>\n",
       "    </tr>\n",
       "    <tr>\n",
       "      <th>2017-01-31</th>\n",
       "      <td>80124.74</td>\n",
       "      <td>12073.67</td>\n",
       "    </tr>\n",
       "  </tbody>\n",
       "</table>\n",
       "</div>"
      ],
      "text/plain": [
       "                  Total sales  freight_value\n",
       "Monthly Shipping                            \n",
       "2016-10-31           49580.55        7364.52\n",
       "2017-01-31           80124.74       12073.67"
      ]
     },
     "execution_count": 16,
     "metadata": {},
     "output_type": "execute_result"
    }
   ],
   "source": [
    "d_set.head(2)"
   ]
  },
  {
   "cell_type": "code",
   "execution_count": 17,
   "metadata": {},
   "outputs": [
    {
     "data": {
      "text/plain": [
       "<matplotlib.axes._subplots.AxesSubplot at 0x2b318add29d0>"
      ]
     },
     "execution_count": 17,
     "metadata": {},
     "output_type": "execute_result"
    },
    {
     "data": {
      "image/png": "[encoded data removed]",
      "text/plain": [
       "<Figure size 432x288 with 1 Axes>"
      ]
     },
     "metadata": {
      "needs_background": "light"
     },
     "output_type": "display_data"
    }
   ],
   "source": [
    "d_set.plot()"
   ]
  },
  {
   "cell_type": "code",
   "execution_count": 18,
   "metadata": {},
   "outputs": [],
   "source": [
    "# Testing whether the data is Stationary or not\n",
    "from statsmodels.tsa.stattools import adfuller"
   ]
  },
  {
   "cell_type": "code",
   "execution_count": 19,
   "metadata": {},
   "outputs": [],
   "source": [
    "test_result= adfuller(d_set['Total sales'])"
   ]
  },
  {
   "cell_type": "code",
   "execution_count": 20,
   "metadata": {},
   "outputs": [],
   "source": [
    "#https://github.com/krishnaik06/ARIMA-And-Seasonal-ARIMA/blob/master/Untitled.ipynb\n",
    "#Ho: It is non stationary\n",
    "#H1: It is stationary\n",
    "\n",
    "def adfuller_test(sales):\n",
    "    result=adfuller(sales)\n",
    "    labels = ['ADF Test Statistic','p-value','#Lags Used','Number of Observations Used']\n",
    "    for value,label in zip(result,labels):\n",
    "        print(label+' : '+str(value) )\n",
    "    if result[1] <= 0.05:\n",
    "        print(\"strong evidence against the null hypothesis(Ho), reject the null hypothesis. Data has no unit root and is stationary\")\n",
    "    else:\n",
    "        print(\"weak evidence against null hypothesis, time series has a unit root, indicating it is non-stationary \")"
   ]
  },
  {
   "cell_type": "code",
   "execution_count": 21,
   "metadata": {},
   "outputs": [
    {
     "name": "stdout",
     "output_type": "stream",
     "text": [
      "ADF Test Statistic : -2.1829965125890682\n",
      "p-value : 0.21247451728902073\n",
      "#Lags Used : 1\n",
      "Number of Observations Used : 20\n",
      "weak evidence against null hypothesis, time series has a unit root, indicating it is non-stationary \n"
     ]
    }
   ],
   "source": [
    "adfuller_test(d_set['Total sales'])"
   ]
  },
  {
   "cell_type": "markdown",
   "metadata": {},
   "source": [
    "> Data looks like Stationary, but our test says data is non-stationary based on p-value"
   ]
  },
  {
   "cell_type": "markdown",
   "metadata": {},
   "source": [
    "### Differencing (Making the data Stationary)"
   ]
  },
  {
   "cell_type": "code",
   "execution_count": 22,
   "metadata": {},
   "outputs": [],
   "source": [
    "d_set['Seasonal First Difference'] = d_set['Total sales'] - d_set['Total sales'].shift(1)"
   ]
  },
  {
   "cell_type": "code",
   "execution_count": 23,
   "metadata": {},
   "outputs": [
    {
     "data": {
      "text/html": [
       "<div>\n",
       "<style scoped>\n",
       "    .dataframe tbody tr th:only-of-type {\n",
       "        vertical-align: middle;\n",
       "    }\n",
       "\n",
       "    .dataframe tbody tr th {\n",
       "        vertical-align: top;\n",
       "    }\n",
       "\n",
       "    .dataframe thead th {\n",
       "        text-align: right;\n",
       "    }\n",
       "</style>\n",
       "<table border=\"1\" class=\"dataframe\">\n",
       "  <thead>\n",
       "    <tr style=\"text-align: right;\">\n",
       "      <th></th>\n",
       "      <th>Total sales</th>\n",
       "      <th>freight_value</th>\n",
       "      <th>Seasonal First Difference</th>\n",
       "    </tr>\n",
       "    <tr>\n",
       "      <th>Monthly Shipping</th>\n",
       "      <th></th>\n",
       "      <th></th>\n",
       "      <th></th>\n",
       "    </tr>\n",
       "  </thead>\n",
       "  <tbody>\n",
       "    <tr>\n",
       "      <th>2016-10-31</th>\n",
       "      <td>49580.55</td>\n",
       "      <td>7364.52</td>\n",
       "      <td>NaN</td>\n",
       "    </tr>\n",
       "    <tr>\n",
       "      <th>2017-01-31</th>\n",
       "      <td>80124.74</td>\n",
       "      <td>12073.67</td>\n",
       "      <td>30544.19</td>\n",
       "    </tr>\n",
       "    <tr>\n",
       "      <th>2017-02-28</th>\n",
       "      <td>245982.01</td>\n",
       "      <td>36749.51</td>\n",
       "      <td>165857.27</td>\n",
       "    </tr>\n",
       "    <tr>\n",
       "      <th>2017-03-31</th>\n",
       "      <td>343242.60</td>\n",
       "      <td>53299.79</td>\n",
       "      <td>97260.59</td>\n",
       "    </tr>\n",
       "    <tr>\n",
       "      <th>2017-04-30</th>\n",
       "      <td>308148.32</td>\n",
       "      <td>44697.44</td>\n",
       "      <td>-35094.28</td>\n",
       "    </tr>\n",
       "  </tbody>\n",
       "</table>\n",
       "</div>"
      ],
      "text/plain": [
       "                  Total sales  freight_value  Seasonal First Difference\n",
       "Monthly Shipping                                                       \n",
       "2016-10-31           49580.55        7364.52                        NaN\n",
       "2017-01-31           80124.74       12073.67                   30544.19\n",
       "2017-02-28          245982.01       36749.51                  165857.27\n",
       "2017-03-31          343242.60       53299.79                   97260.59\n",
       "2017-04-30          308148.32       44697.44                  -35094.28"
      ]
     },
     "execution_count": 23,
     "metadata": {},
     "output_type": "execute_result"
    }
   ],
   "source": [
    "d_set.head()"
   ]
  },
  {
   "cell_type": "code",
   "execution_count": 24,
   "metadata": {},
   "outputs": [
    {
     "name": "stdout",
     "output_type": "stream",
     "text": [
      "ADF Test Statistic : -4.475210170584723\n",
      "p-value : 0.0002179473056285036\n",
      "#Lags Used : 0\n",
      "Number of Observations Used : 20\n",
      "strong evidence against the null hypothesis(Ho), reject the null hypothesis. Data has no unit root and is stationary\n"
     ]
    }
   ],
   "source": [
    "## Again test dickey fuller test\n",
    "adfuller_test(d_set['Seasonal First Difference'].dropna())"
   ]
  },
  {
   "cell_type": "markdown",
   "metadata": {},
   "source": [
    "> p-value reduced significantly, Hence our data is stationary now"
   ]
  },
  {
   "cell_type": "code",
   "execution_count": 25,
   "metadata": {},
   "outputs": [
    {
     "data": {
      "text/plain": [
       "<matplotlib.axes._subplots.AxesSubplot at 0x2b319834a1d0>"
      ]
     },
     "execution_count": 25,
     "metadata": {},
     "output_type": "execute_result"
    },
    {
     "data": {
      "image/png": "[encoded data removed]",
      "text/plain": [
       "<Figure size 432x288 with 1 Axes>"
      ]
     },
     "metadata": {
      "needs_background": "light"
     },
     "output_type": "display_data"
    }
   ],
   "source": [
    "d_set['Seasonal First Difference'].plot()"
   ]
  },
  {
   "cell_type": "code",
   "execution_count": 26,
   "metadata": {},
   "outputs": [],
   "source": [
    "X = d_set.dropna().drop(['Total sales'], axis= 1)\n",
    "y = d_set.dropna().drop(['freight_value', 'Seasonal First Difference'], axis= 1)"
   ]
  },
  {
   "cell_type": "code",
   "execution_count": 27,
   "metadata": {},
   "outputs": [
    {
     "data": {
      "text/html": [
       "<div>\n",
       "<style scoped>\n",
       "    .dataframe tbody tr th:only-of-type {\n",
       "        vertical-align: middle;\n",
       "    }\n",
       "\n",
       "    .dataframe tbody tr th {\n",
       "        vertical-align: top;\n",
       "    }\n",
       "\n",
       "    .dataframe thead th {\n",
       "        text-align: right;\n",
       "    }\n",
       "</style>\n",
       "<table border=\"1\" class=\"dataframe\">\n",
       "  <thead>\n",
       "    <tr style=\"text-align: right;\">\n",
       "      <th></th>\n",
       "      <th>freight_value</th>\n",
       "      <th>Seasonal First Difference</th>\n",
       "    </tr>\n",
       "    <tr>\n",
       "      <th>Monthly Shipping</th>\n",
       "      <th></th>\n",
       "      <th></th>\n",
       "    </tr>\n",
       "  </thead>\n",
       "  <tbody>\n",
       "    <tr>\n",
       "      <th>2017-01-31</th>\n",
       "      <td>12073.67</td>\n",
       "      <td>30544.19</td>\n",
       "    </tr>\n",
       "    <tr>\n",
       "      <th>2017-02-28</th>\n",
       "      <td>36749.51</td>\n",
       "      <td>165857.27</td>\n",
       "    </tr>\n",
       "  </tbody>\n",
       "</table>\n",
       "</div>"
      ],
      "text/plain": [
       "                  freight_value  Seasonal First Difference\n",
       "Monthly Shipping                                          \n",
       "2017-01-31             12073.67                   30544.19\n",
       "2017-02-28             36749.51                  165857.27"
      ]
     },
     "execution_count": 27,
     "metadata": {},
     "output_type": "execute_result"
    }
   ],
   "source": [
    "X.head(2)"
   ]
  },
  {
   "cell_type": "code",
   "execution_count": 28,
   "metadata": {},
   "outputs": [
    {
     "data": {
      "text/html": [
       "<div>\n",
       "<style scoped>\n",
       "    .dataframe tbody tr th:only-of-type {\n",
       "        vertical-align: middle;\n",
       "    }\n",
       "\n",
       "    .dataframe tbody tr th {\n",
       "        vertical-align: top;\n",
       "    }\n",
       "\n",
       "    .dataframe thead th {\n",
       "        text-align: right;\n",
       "    }\n",
       "</style>\n",
       "<table border=\"1\" class=\"dataframe\">\n",
       "  <thead>\n",
       "    <tr style=\"text-align: right;\">\n",
       "      <th></th>\n",
       "      <th>Total sales</th>\n",
       "    </tr>\n",
       "    <tr>\n",
       "      <th>Monthly Shipping</th>\n",
       "      <th></th>\n",
       "    </tr>\n",
       "  </thead>\n",
       "  <tbody>\n",
       "    <tr>\n",
       "      <th>2017-01-31</th>\n",
       "      <td>80124.74</td>\n",
       "    </tr>\n",
       "    <tr>\n",
       "      <th>2017-02-28</th>\n",
       "      <td>245982.01</td>\n",
       "    </tr>\n",
       "  </tbody>\n",
       "</table>\n",
       "</div>"
      ],
      "text/plain": [
       "                  Total sales\n",
       "Monthly Shipping             \n",
       "2017-01-31           80124.74\n",
       "2017-02-28          245982.01"
      ]
     },
     "execution_count": 28,
     "metadata": {},
     "output_type": "execute_result"
    }
   ],
   "source": [
    "y.head(2)"
   ]
  },
  {
   "cell_type": "code",
   "execution_count": 29,
   "metadata": {},
   "outputs": [],
   "source": [
    "#Standardizing the data\n",
    "from sklearn.preprocessing import StandardScaler\n",
    "sc_x = StandardScaler()\n",
    "X = sc_x.fit_transform(X)\n",
    "X = pd.DataFrame(X)"
   ]
  },
  {
   "cell_type": "code",
   "execution_count": 30,
   "metadata": {},
   "outputs": [
    {
     "data": {
      "text/html": [
       "<div>\n",
       "<style scoped>\n",
       "    .dataframe tbody tr th:only-of-type {\n",
       "        vertical-align: middle;\n",
       "    }\n",
       "\n",
       "    .dataframe tbody tr th {\n",
       "        vertical-align: top;\n",
       "    }\n",
       "\n",
       "    .dataframe thead th {\n",
       "        text-align: right;\n",
       "    }\n",
       "</style>\n",
       "<table border=\"1\" class=\"dataframe\">\n",
       "  <thead>\n",
       "    <tr style=\"text-align: right;\">\n",
       "      <th></th>\n",
       "      <th>0</th>\n",
       "      <th>1</th>\n",
       "    </tr>\n",
       "  </thead>\n",
       "  <tbody>\n",
       "    <tr>\n",
       "      <th>0</th>\n",
       "      <td>-1.747387</td>\n",
       "      <td>0.122620</td>\n",
       "    </tr>\n",
       "    <tr>\n",
       "      <th>1</th>\n",
       "      <td>-1.292556</td>\n",
       "      <td>0.637670</td>\n",
       "    </tr>\n",
       "    <tr>\n",
       "      <th>2</th>\n",
       "      <td>-0.987498</td>\n",
       "      <td>0.376567</td>\n",
       "    </tr>\n",
       "    <tr>\n",
       "      <th>3</th>\n",
       "      <td>-1.146058</td>\n",
       "      <td>-0.127223</td>\n",
       "    </tr>\n",
       "    <tr>\n",
       "      <th>4</th>\n",
       "      <td>-0.484914</td>\n",
       "      <td>0.758141</td>\n",
       "    </tr>\n",
       "  </tbody>\n",
       "</table>\n",
       "</div>"
      ],
      "text/plain": [
       "          0         1\n",
       "0 -1.747387  0.122620\n",
       "1 -1.292556  0.637670\n",
       "2 -0.987498  0.376567\n",
       "3 -1.146058 -0.127223\n",
       "4 -0.484914  0.758141"
      ]
     },
     "execution_count": 30,
     "metadata": {},
     "output_type": "execute_result"
    }
   ],
   "source": [
    "X.head() #Data is into the same scales"
   ]
  },
  {
   "cell_type": "code",
   "execution_count": 31,
   "metadata": {},
   "outputs": [],
   "source": [
    "#https://www.kaggle.com/antoinekrajnc/simplest-time-series-using-linear-regression\n",
    "def TimeSeriesTrainTestSplit(x, y, test_size):\n",
    "    \n",
    "        test_index = int(len(X)*(1-test_size))\n",
    "    \n",
    "        X_train = X.iloc[:test_index]\n",
    "        y_train = y.iloc[:test_index]\n",
    "        X_test = X.iloc[test_index:]\n",
    "        y_test = y.iloc[test_index:]\n",
    "        return X_train, y_train, X_test, y_test\n",
    "    \n",
    "X_train, y_train, X_test, y_test = TimeSeriesTrainTestSplit(X,y, 0.2)"
   ]
  },
  {
   "cell_type": "code",
   "execution_count": 32,
   "metadata": {},
   "outputs": [
    {
     "data": {
      "text/html": [
       "<div>\n",
       "<style scoped>\n",
       "    .dataframe tbody tr th:only-of-type {\n",
       "        vertical-align: middle;\n",
       "    }\n",
       "\n",
       "    .dataframe tbody tr th {\n",
       "        vertical-align: top;\n",
       "    }\n",
       "\n",
       "    .dataframe thead th {\n",
       "        text-align: right;\n",
       "    }\n",
       "</style>\n",
       "<table border=\"1\" class=\"dataframe\">\n",
       "  <thead>\n",
       "    <tr style=\"text-align: right;\">\n",
       "      <th></th>\n",
       "      <th>0</th>\n",
       "      <th>1</th>\n",
       "    </tr>\n",
       "  </thead>\n",
       "  <tbody>\n",
       "    <tr>\n",
       "      <th>0</th>\n",
       "      <td>-1.747387</td>\n",
       "      <td>0.122620</td>\n",
       "    </tr>\n",
       "    <tr>\n",
       "      <th>1</th>\n",
       "      <td>-1.292556</td>\n",
       "      <td>0.637670</td>\n",
       "    </tr>\n",
       "    <tr>\n",
       "      <th>2</th>\n",
       "      <td>-0.987498</td>\n",
       "      <td>0.376567</td>\n",
       "    </tr>\n",
       "    <tr>\n",
       "      <th>3</th>\n",
       "      <td>-1.146058</td>\n",
       "      <td>-0.127223</td>\n",
       "    </tr>\n",
       "    <tr>\n",
       "      <th>4</th>\n",
       "      <td>-0.484914</td>\n",
       "      <td>0.758141</td>\n",
       "    </tr>\n",
       "  </tbody>\n",
       "</table>\n",
       "</div>"
      ],
      "text/plain": [
       "          0         1\n",
       "0 -1.747387  0.122620\n",
       "1 -1.292556  0.637670\n",
       "2 -0.987498  0.376567\n",
       "3 -1.146058 -0.127223\n",
       "4 -0.484914  0.758141"
      ]
     },
     "execution_count": 32,
     "metadata": {},
     "output_type": "execute_result"
    }
   ],
   "source": [
    "X_train.head()"
   ]
  },
  {
   "cell_type": "code",
   "execution_count": 33,
   "metadata": {},
   "outputs": [
    {
     "data": {
      "text/html": [
       "<div>\n",
       "<style scoped>\n",
       "    .dataframe tbody tr th:only-of-type {\n",
       "        vertical-align: middle;\n",
       "    }\n",
       "\n",
       "    .dataframe tbody tr th {\n",
       "        vertical-align: top;\n",
       "    }\n",
       "\n",
       "    .dataframe thead th {\n",
       "        text-align: right;\n",
       "    }\n",
       "</style>\n",
       "<table border=\"1\" class=\"dataframe\">\n",
       "  <thead>\n",
       "    <tr style=\"text-align: right;\">\n",
       "      <th></th>\n",
       "      <th>0</th>\n",
       "      <th>1</th>\n",
       "    </tr>\n",
       "  </thead>\n",
       "  <tbody>\n",
       "    <tr>\n",
       "      <th>16</th>\n",
       "      <td>1.132942</td>\n",
       "      <td>0.484546</td>\n",
       "    </tr>\n",
       "    <tr>\n",
       "      <th>17</th>\n",
       "      <td>0.806779</td>\n",
       "      <td>-0.806763</td>\n",
       "    </tr>\n",
       "    <tr>\n",
       "      <th>18</th>\n",
       "      <td>0.863410</td>\n",
       "      <td>-0.220519</td>\n",
       "    </tr>\n",
       "    <tr>\n",
       "      <th>19</th>\n",
       "      <td>1.477417</td>\n",
       "      <td>0.999877</td>\n",
       "    </tr>\n",
       "    <tr>\n",
       "      <th>20</th>\n",
       "      <td>-1.941844</td>\n",
       "      <td>-4.019418</td>\n",
       "    </tr>\n",
       "  </tbody>\n",
       "</table>\n",
       "</div>"
      ],
      "text/plain": [
       "           0         1\n",
       "16  1.132942  0.484546\n",
       "17  0.806779 -0.806763\n",
       "18  0.863410 -0.220519\n",
       "19  1.477417  0.999877\n",
       "20 -1.941844 -4.019418"
      ]
     },
     "execution_count": 33,
     "metadata": {},
     "output_type": "execute_result"
    }
   ],
   "source": [
    "X_test"
   ]
  },
  {
   "cell_type": "markdown",
   "metadata": {},
   "source": [
    "## Linear Regression"
   ]
  },
  {
   "cell_type": "code",
   "execution_count": 34,
   "metadata": {},
   "outputs": [
    {
     "data": {
      "text/plain": [
       "LinearRegression()"
      ]
     },
     "execution_count": 34,
     "metadata": {},
     "output_type": "execute_result"
    }
   ],
   "source": [
    "from sklearn.linear_model import LinearRegression\n",
    "regressor = LinearRegression()\n",
    "regressor.fit(X_train, y_train)"
   ]
  },
  {
   "cell_type": "code",
   "execution_count": 35,
   "metadata": {},
   "outputs": [],
   "source": [
    "from sklearn.model_selection import TimeSeriesSplit\n",
    "ts_cross_val = TimeSeriesSplit(n_splits=5)"
   ]
  },
  {
   "cell_type": "code",
   "execution_count": 36,
   "metadata": {},
   "outputs": [],
   "source": [
    "from sklearn.model_selection import cross_val_score\n",
    "cv = cross_val_score(regressor, X_train, y_train, cv = ts_cross_val, scoring= \"neg_mean_squared_error\")"
   ]
  },
  {
   "cell_type": "code",
   "execution_count": 37,
   "metadata": {},
   "outputs": [
    {
     "data": {
      "text/plain": [
       "array([-1.90360408e+09, -2.06600618e+09, -1.61524235e+07, -9.50810892e+08,\n",
       "       -1.47053876e+09])"
      ]
     },
     "execution_count": 37,
     "metadata": {},
     "output_type": "execute_result"
    }
   ],
   "source": [
    "cv"
   ]
  },
  {
   "cell_type": "code",
   "execution_count": 38,
   "metadata": {},
   "outputs": [],
   "source": [
    "y_pred = regressor.predict(X_test)"
   ]
  },
  {
   "cell_type": "code",
   "execution_count": 39,
   "metadata": {},
   "outputs": [
    {
     "data": {
      "text/html": [
       "<div>\n",
       "<style scoped>\n",
       "    .dataframe tbody tr th:only-of-type {\n",
       "        vertical-align: middle;\n",
       "    }\n",
       "\n",
       "    .dataframe tbody tr th {\n",
       "        vertical-align: top;\n",
       "    }\n",
       "\n",
       "    .dataframe thead th {\n",
       "        text-align: right;\n",
       "    }\n",
       "</style>\n",
       "<table border=\"1\" class=\"dataframe\">\n",
       "  <thead>\n",
       "    <tr style=\"text-align: right;\">\n",
       "      <th></th>\n",
       "      <th>Total sales</th>\n",
       "    </tr>\n",
       "    <tr>\n",
       "      <th>Monthly Shipping</th>\n",
       "      <th></th>\n",
       "    </tr>\n",
       "  </thead>\n",
       "  <tbody>\n",
       "    <tr>\n",
       "      <th>2018-05-31</th>\n",
       "      <td>1084358.55</td>\n",
       "    </tr>\n",
       "    <tr>\n",
       "      <th>2018-06-30</th>\n",
       "      <td>870736.84</td>\n",
       "    </tr>\n",
       "    <tr>\n",
       "      <th>2018-07-31</th>\n",
       "      <td>811132.08</td>\n",
       "    </tr>\n",
       "    <tr>\n",
       "      <th>2018-08-31</th>\n",
       "      <td>1072147.70</td>\n",
       "    </tr>\n",
       "    <tr>\n",
       "      <th>2018-09-30</th>\n",
       "      <td>14502.50</td>\n",
       "    </tr>\n",
       "  </tbody>\n",
       "</table>\n",
       "</div>"
      ],
      "text/plain": [
       "                  Total sales\n",
       "Monthly Shipping             \n",
       "2018-05-31         1084358.55\n",
       "2018-06-30          870736.84\n",
       "2018-07-31          811132.08\n",
       "2018-08-31         1072147.70\n",
       "2018-09-30           14502.50"
      ]
     },
     "execution_count": 39,
     "metadata": {},
     "output_type": "execute_result"
    }
   ],
   "source": [
    "y_test"
   ]
  },
  {
   "cell_type": "code",
   "execution_count": 40,
   "metadata": {},
   "outputs": [
    {
     "data": {
      "text/plain": [
       "array([[1005041.87829122],\n",
       "       [ 909275.2147516 ],\n",
       "       [ 924098.5214149 ],\n",
       "       [1110414.04002306],\n",
       "       [  64010.6319375 ]])"
      ]
     },
     "execution_count": 40,
     "metadata": {},
     "output_type": "execute_result"
    }
   ],
   "source": [
    "y_pred"
   ]
  },
  {
   "cell_type": "code",
   "execution_count": 41,
   "metadata": {},
   "outputs": [],
   "source": [
    "y1 = y_test.reset_index()"
   ]
  },
  {
   "cell_type": "code",
   "execution_count": 42,
   "metadata": {},
   "outputs": [
    {
     "data": {
      "text/html": [
       "<div>\n",
       "<style scoped>\n",
       "    .dataframe tbody tr th:only-of-type {\n",
       "        vertical-align: middle;\n",
       "    }\n",
       "\n",
       "    .dataframe tbody tr th {\n",
       "        vertical-align: top;\n",
       "    }\n",
       "\n",
       "    .dataframe thead th {\n",
       "        text-align: right;\n",
       "    }\n",
       "</style>\n",
       "<table border=\"1\" class=\"dataframe\">\n",
       "  <thead>\n",
       "    <tr style=\"text-align: right;\">\n",
       "      <th></th>\n",
       "      <th>Monthly Shipping</th>\n",
       "      <th>Total sales</th>\n",
       "    </tr>\n",
       "  </thead>\n",
       "  <tbody>\n",
       "    <tr>\n",
       "      <th>0</th>\n",
       "      <td>2018-05-31</td>\n",
       "      <td>1084358.55</td>\n",
       "    </tr>\n",
       "    <tr>\n",
       "      <th>1</th>\n",
       "      <td>2018-06-30</td>\n",
       "      <td>870736.84</td>\n",
       "    </tr>\n",
       "    <tr>\n",
       "      <th>2</th>\n",
       "      <td>2018-07-31</td>\n",
       "      <td>811132.08</td>\n",
       "    </tr>\n",
       "    <tr>\n",
       "      <th>3</th>\n",
       "      <td>2018-08-31</td>\n",
       "      <td>1072147.70</td>\n",
       "    </tr>\n",
       "    <tr>\n",
       "      <th>4</th>\n",
       "      <td>2018-09-30</td>\n",
       "      <td>14502.50</td>\n",
       "    </tr>\n",
       "  </tbody>\n",
       "</table>\n",
       "</div>"
      ],
      "text/plain": [
       "  Monthly Shipping  Total sales\n",
       "0       2018-05-31   1084358.55\n",
       "1       2018-06-30    870736.84\n",
       "2       2018-07-31    811132.08\n",
       "3       2018-08-31   1072147.70\n",
       "4       2018-09-30     14502.50"
      ]
     },
     "execution_count": 42,
     "metadata": {},
     "output_type": "execute_result"
    }
   ],
   "source": [
    "y1"
   ]
  },
  {
   "cell_type": "code",
   "execution_count": 43,
   "metadata": {},
   "outputs": [
    {
     "data": {
      "text/plain": [
       "<matplotlib.legend.Legend at 0x2b319841e7d0>"
      ]
     },
     "execution_count": 43,
     "metadata": {},
     "output_type": "execute_result"
    },
    {
     "data": {
      "image/png": "[encoded data removed]",
      "text/plain": [
       "<Figure size 1440x576 with 1 Axes>"
      ]
     },
     "metadata": {
      "needs_background": "light"
     },
     "output_type": "display_data"
    }
   ],
   "source": [
    "plt.figure(figsize=(20,8))\n",
    "plt.plot(y_pred, \"y\", label=\"prediction\", linewidth=2.0)\n",
    "plt.plot(y_test.values, \"g\", label=\"real_values\", linewidth=2.0)\n",
    "plt.legend(loc=\"best\")"
   ]
  },
  {
   "cell_type": "markdown",
   "metadata": {},
   "source": [
    "## Regression Evaluation Metrics\n",
    "Here are three common evaluation metrics for regression problems:\n",
    "\n",
    "Mean Absolute Error (MAE) is the mean of the absolute value of the errors:\n",
    "\n",
    "$$\\frac 1n\\sum_{i=1}^n|y_i-\\hat{y}_i|$$\n",
    "Mean Squared Error (MSE) is the mean of the squared errors:\n",
    "\n",
    "$$\\frac 1n\\sum_{i=1}^n(y_i-\\hat{y}_i)^2$$\n",
    "Root Mean Squared Error (RMSE) is the square root of the mean of the squared errors:\n",
    "\n",
    "$$\\sqrt{\\frac 1n\\sum_{i=1}^n(y_i-\\hat{y}_i)^2}$$\n",
    "Comparing these metrics:\n",
    "\n",
    "* MAE is the easiest to understand, because it's the average error.\n",
    "* MSE is more popular than MAE, because MSE \"punishes\" larger errors, which tends to be useful in the real world.\n",
    "* RMSE is even more popular than MSE, because RMSE is interpretable in the \"y\" units.\n",
    "\n",
    "> All of these are loss functions, because we want to minimize them."
   ]
  },
  {
   "cell_type": "code",
   "execution_count": 44,
   "metadata": {},
   "outputs": [],
   "source": [
    "from sklearn import metrics"
   ]
  },
  {
   "cell_type": "code",
   "execution_count": 45,
   "metadata": {},
   "outputs": [
    {
     "name": "stdout",
     "output_type": "stream",
     "text": [
      "MAE:  63719.19196716291\n",
      "MSE:  4890625106.419729\n",
      "RMSE:  69933.00441436596\n"
     ]
    }
   ],
   "source": [
    "print('MAE: ', metrics.mean_absolute_error(y_test, y_pred))\n",
    "print('MSE: ', metrics.mean_squared_error(y_test, y_pred))\n",
    "print('RMSE: ', np.sqrt(metrics.mean_squared_error(y_test, y_pred)))"
   ]
  },
  {
   "cell_type": "markdown",
   "metadata": {},
   "source": [
    "There is an error of price on an average of 69933 units/currecy, since the amount are in Lakhs, our model might not have performed well, but not bad"
   ]
  },
  {
   "cell_type": "code",
   "execution_count": 46,
   "metadata": {},
   "outputs": [
    {
     "name": "stdout",
     "output_type": "stream",
     "text": [
      "0.9683548537930171\n"
     ]
    }
   ],
   "source": [
    "# Evaluating the Linear Regression model, R-square\n",
    "print(regressor.score(X_test, y_test)) "
   ]
  },
  {
   "cell_type": "markdown",
   "metadata": {},
   "source": [
    "> We have a very good R-square value, hence almost 96.8% of the variability in Total monthley sales is explained by the predictors"
   ]
  },
  {
   "cell_type": "markdown",
   "metadata": {},
   "source": [
    "### Ridge(L2) Regression:\n",
    "#### https://www.geeksforgeeks.org/ml-implementing-l1-and-l2-regularization-using-sklearn/"
   ]
  },
  {
   "cell_type": "code",
   "execution_count": 47,
   "metadata": {},
   "outputs": [],
   "source": [
    "from sklearn.linear_model import Ridge, Lasso\n",
    "from statistics import mean "
   ]
  },
  {
   "cell_type": "code",
   "execution_count": 48,
   "metadata": {},
   "outputs": [
    {
     "name": "stdout",
     "output_type": "stream",
     "text": [
      "0.25 : -1201.440227086318\n",
      "0.5 : -1377.9712914206625\n",
      "0.75 : -1584.0227227782223\n",
      "1.0 : -1816.6617116873244\n",
      "1.25 : -2073.2497776037144\n",
      "1.5 : -2351.408919597267\n",
      "1.75 : -2648.992274971372\n",
      "2.0 : -2964.058589541308\n"
     ]
    }
   ],
   "source": [
    "# List to maintain the different cross-validation scores \n",
    "cross_val_scores_ridge = [] \n",
    "  \n",
    "# List to maintain the different values of alpha \n",
    "alpha = [] \n",
    "  \n",
    "# Loop to compute the different values of cross-validation scores \n",
    "for i in range(1, 9): \n",
    "    ridgeModel = Ridge(alpha = i * 0.25) \n",
    "    ridgeModel.fit(X_train, y_train) \n",
    "    scores = cross_val_score(ridgeModel, X, y, cv = 10) \n",
    "    avg_cross_val_score = mean(scores)*100\n",
    "    cross_val_scores_ridge.append(avg_cross_val_score) \n",
    "    alpha.append(i * 0.25) \n",
    "  \n",
    "#Loop to print the different values of cross-validation scores\n",
    "\n",
    "for i in range(0, len(alpha)): \n",
    "    print(str(alpha[i])+' : '+str(cross_val_scores_ridge[i]))"
   ]
  },
  {
   "cell_type": "code",
   "execution_count": 49,
   "metadata": {},
   "outputs": [
    {
     "name": "stdout",
     "output_type": "stream",
     "text": [
      "0.9523062120170963\n"
     ]
    }
   ],
   "source": [
    "# Building and fitting the Ridge Regression model \n",
    "ridgeModelChosen = Ridge(alpha = 2) \n",
    "ridgeModelChosen.fit(X_train, y_train) \n",
    "  \n",
    "# Evaluating the Ridge Regression model \n",
    "print(ridgeModelChosen.score(X_test, y_test))"
   ]
  },
  {
   "cell_type": "markdown",
   "metadata": {},
   "source": [
    "### Lasso(L1) Regression:"
   ]
  },
  {
   "cell_type": "code",
   "execution_count": 50,
   "metadata": {},
   "outputs": [
    {
     "name": "stdout",
     "output_type": "stream",
     "text": [
      "0.25 : -1037.5923493033204\n",
      "0.5 : -1037.5968970711674\n",
      "0.75 : -1037.6014449281101\n",
      "1.0 : -1037.6059928741602\n",
      "1.25 : -1037.6105409093084\n",
      "1.5 : -1037.6150890335687\n",
      "1.75 : -1037.6196372469224\n",
      "2.0 : -1037.62418554938\n"
     ]
    }
   ],
   "source": [
    "# List to maintain the cross-validation scores \n",
    "cross_val_scores_lasso = [] \n",
    "  \n",
    "# List to maintain the different values of Lambda \n",
    "Lambda = [] \n",
    "  \n",
    "# Loop to compute the cross-validation scores \n",
    "for i in range(1, 9): \n",
    "    lassoModel = Lasso(alpha = i * 0.25, tol = 0.0925) \n",
    "    lassoModel.fit(X_train, y_train) \n",
    "    scores = cross_val_score(lassoModel, X, y, cv = 10) \n",
    "    avg_cross_val_score = mean(scores)*100\n",
    "    cross_val_scores_lasso.append(avg_cross_val_score) \n",
    "    Lambda.append(i * 0.25) \n",
    "  \n",
    "# Loop to print the different values of cross-validation scores \n",
    "for i in range(0, len(alpha)): \n",
    "    print(str(alpha[i])+' : '+str(cross_val_scores_lasso[i])) "
   ]
  },
  {
   "cell_type": "code",
   "execution_count": 51,
   "metadata": {},
   "outputs": [
    {
     "name": "stdout",
     "output_type": "stream",
     "text": [
      "0.9683665054854449\n"
     ]
    }
   ],
   "source": [
    "# Building and fitting the Lasso Regression Model \n",
    "lassoModelChosen = Lasso(alpha = 2, tol = 0.0925) \n",
    "lassoModelChosen.fit(X_train, y_train) \n",
    "  \n",
    "# Evaluating the Lasso Regression model \n",
    "print(lassoModelChosen.score(X_test, y_test)) "
   ]
  },
  {
   "cell_type": "markdown",
   "metadata": {},
   "source": [
    "### Comparing and Visualizing the results"
   ]
  },
  {
   "cell_type": "code",
   "execution_count": 52,
   "metadata": {},
   "outputs": [
    {
     "name": "stdout",
     "output_type": "stream",
     "text": [
      "Linear Regreesion : 0.9683548537930171\n",
      "Ridge Regreesion : 0.9523062120170963\n",
      "Lasso Regression : 0.9683665054854449\n"
     ]
    }
   ],
   "source": [
    "print(\"Linear Regreesion :\", regressor.score(X_test, y_test)) \n",
    "print(\"Ridge Regreesion :\", ridgeModelChosen.score(X_test, y_test)) \n",
    "print(\"Lasso Regression :\", lassoModelChosen.score(X_test, y_test)) "
   ]
  },
  {
   "cell_type": "code",
   "execution_count": 53,
   "metadata": {},
   "outputs": [
    {
     "data": {
      "image/png": "[encoded data removed]",
      "text/plain": [
       "<Figure size 432x288 with 1 Axes>"
      ]
     },
     "metadata": {
      "needs_background": "light"
     },
     "output_type": "display_data"
    }
   ],
   "source": [
    "# Plotting the scores \n",
    "models = ['Linear Regression', 'Ridge Regression', 'Lasso Regression'] \n",
    "scores = [regressor.score(X_test, y_test), \n",
    "         ridgeModelChosen.score(X_test, y_test), \n",
    "         lassoModelChosen.score(X_test, y_test)]\n",
    "\n",
    "plt.bar(models, scores) \n",
    "plt.xlabel('Regression Models') \n",
    "plt.ylabel('Score') \n",
    "plt.show() "
   ]
  },
  {
   "cell_type": "markdown",
   "metadata": {},
   "source": [
    "## Prepare the data for Logistic regression"
   ]
  },
  {
   "cell_type": "code",
   "execution_count": 54,
   "metadata": {},
   "outputs": [],
   "source": [
    "#change the data type of date formats to datetime\n",
    "ord_cust['order_purchase_timestamp'] = pd.to_datetime(ord_cust['order_purchase_timestamp'])\n",
    "ord_cust['order_delivered_customer_date'] = pd.to_datetime(ord_cust['order_delivered_customer_date'])"
   ]
  },
  {
   "cell_type": "code",
   "execution_count": 55,
   "metadata": {},
   "outputs": [],
   "source": [
    "#create a new column to calculate the numbr of days between order placed and order delivered to the customer\n",
    "ord_cust['num_days_delivered_cust'] = (ord_cust['order_delivered_customer_date'] - ord_cust['order_purchase_timestamp'])"
   ]
  },
  {
   "cell_type": "markdown",
   "metadata": {},
   "source": [
    "##### Create a dataframe to feed the algorithm"
   ]
  },
  {
   "cell_type": "code",
   "execution_count": 56,
   "metadata": {},
   "outputs": [],
   "source": [
    "#to count the orders per customer unique id\n",
    "main_df = pd.DataFrame(cust.groupby('customer_unique_id').size(),columns = ['num_of_orders'])\n",
    "main_df = main_df.reset_index()"
   ]
  },
  {
   "cell_type": "markdown",
   "metadata": {},
   "source": [
    "##### Merge all the dataframe into one and then select the features that may depend on our target variable"
   ]
  },
  {
   "cell_type": "code",
   "execution_count": 57,
   "metadata": {},
   "outputs": [],
   "source": [
    "main_df = main_df.merge(cust,left_on='customer_unique_id',right_on='customer_unique_id')\n",
    "main_df = main_df.merge(ord_cust,left_on='customer_id',right_on='customer_id')\n",
    "main_df = order.merge(main_df,left_on='order_id',right_on='order_id')\n",
    "main_df = main_df.merge(product,left_on='product_id',right_on='product_id')\n",
    "main_df = main_df.merge(pay,left_on='order_id',right_on='order_id')\n",
    "main_df = main_df.merge(review,left_on='order_id',right_on='order_id')\n",
    "main_df = main_df.merge(sellers,left_on='seller_id',right_on='seller_id')\n",
    "main_df = main_df.merge(prd_name,left_on='product_category_name',right_on='product_category_name')"
   ]
  },
  {
   "cell_type": "code",
   "execution_count": 58,
   "metadata": {},
   "outputs": [],
   "source": [
    "#select columns to include in our regression model\n",
    "main_df = pd.concat([main_df['customer_unique_id'],main_df['num_of_orders'],main_df['customer_state'],main_df['order_status'],main_df['order_purchase_timestamp'],main_df['num_days_delivered_cust'],main_df['payment_type'],main_df['payment_value'],main_df['review_score'],main_df['product_category_name_english']],axis=1,keys=['cust_id','num_of_orders','cust_loc','order_status','order_purchase_timestamp','num_days_delivered_cust','payment_type','payment_value','review_score','prd_name'])"
   ]
  },
  {
   "cell_type": "markdown",
   "metadata": {},
   "source": [
    "#### Create the target variable. <br>\n",
    "-> 0 indicates the customer has only made one order<br>\n",
    "-> 1 indicates the customer has made multiple orders"
   ]
  },
  {
   "cell_type": "code",
   "execution_count": 59,
   "metadata": {},
   "outputs": [],
   "source": [
    "main_df['multiple_order'] = pd.Series(dtype='int64')\n",
    "main_df['multiple_order'] = np.where(main_df['num_of_orders']==1,0,1)"
   ]
  },
  {
   "cell_type": "markdown",
   "metadata": {},
   "source": [
    "Select data of only the first purchases made by all the customers"
   ]
  },
  {
   "cell_type": "code",
   "execution_count": 60,
   "metadata": {},
   "outputs": [],
   "source": [
    "main_df = pd.DataFrame(main_df.groupby(['cust_id','cust_loc','order_status','num_days_delivered_cust','payment_type','payment_value','review_score','prd_name','multiple_order'])['order_purchase_timestamp'].min())\n",
    "main_df = main_df.reset_index()"
   ]
  },
  {
   "cell_type": "markdown",
   "metadata": {},
   "source": [
    "Reorganizing the columns for better understnading and ease of introducing into the algorithm"
   ]
  },
  {
   "cell_type": "code",
   "execution_count": 61,
   "metadata": {},
   "outputs": [],
   "source": [
    "columns = ['multiple_order','cust_loc','num_days_delivered_cust','order_status','payment_type','payment_value','review_score','prd_name']\n",
    "main_df = main_df.reindex(columns=columns)"
   ]
  },
  {
   "cell_type": "code",
   "execution_count": 62,
   "metadata": {},
   "outputs": [],
   "source": [
    "#just include days data(not days and time) in the column\n",
    "a=[]\n",
    "for index,value in enumerate(main_df['num_days_delivered_cust']):\n",
    "    a.append(value.days)\n",
    "main_df['num_days_delivered_cust'] = a"
   ]
  },
  {
   "cell_type": "markdown",
   "metadata": {},
   "source": [
    "#### Reorganizing Product category and customer location to fewer classes before one-hot encoding"
   ]
  },
  {
   "cell_type": "code",
   "execution_count": 63,
   "metadata": {},
   "outputs": [],
   "source": [
    "main_df['prd_cat'] = pd.Series(dtype='object')\n",
    "main_df['prd_cat'] = np.where(((main_df['prd_name'] == 'bed_bath_table') | (main_df['prd_name'] == 'home_confort') |\n",
    "                              (main_df['prd_name'] == 'housewares') | (main_df['prd_name'] == 'furniture_living_room') |\n",
    "                              (main_df['prd_name'] == 'office_furniture' )| (main_df['prd_name'] == 'furniture_decor') |\n",
    "                              (main_df['prd_name'] == 'kitchen_dining_laundry_garden_furniture' )| \n",
    "                               (main_df['prd_name'] == 'furniture_bedroom') | \n",
    "                               (main_df['prd_name'] == 'furniture_mattress_and_upholstery') | \n",
    "                               (main_df['prd_name'] == 'home_comfort_2')) , 'FURNITURE' , main_df['prd_cat'])\n",
    "main_df['prd_cat'] = np.where(((main_df['prd_name'] == 'garden_tools') | \n",
    "                               (main_df['prd_name'] == 'construction_tools_construction') |\n",
    "                              (main_df['prd_name'] == 'home_construction') | \n",
    "                               (main_df['prd_name'] == 'construction_tools_safety' )|\n",
    "                              (main_df['prd_name'] == 'construction_tools_lights') | \n",
    "                               (main_df['prd_name'] == 'costruction_tools_garden') |\n",
    "                              (main_df['prd_name'] == 'costruction_tools_tools')) ,'CONSTRUCTION',main_df['prd_cat'])\n",
    "main_df['prd_cat'] = np.where(((main_df['prd_name'] == 'telephony') | (main_df['prd_name'] == 'computers_accessories') |\n",
    "                              (main_df['prd_name'] == 'home_appliances') | (main_df['prd_name'] == 'small_appliances' )|\n",
    "                              (main_df['prd_name'] == 'electronics') | (main_df['prd_name'] == 'consoles_games') | \n",
    "                              (main_df['prd_name'] == 'home_appliances_2') | (main_df['prd_name'] == 'fixed_telephony') |\n",
    "                              (main_df['prd_name'] == 'audio') | (main_df['prd_name'] == 'dvds_blu_ray') |\n",
    "                              (main_df['prd_name'] == 'computers') | (main_df['prd_name'] == 'air_conditioning') |\n",
    "                              (main_df['prd_name'] == 'tablets_printing_image' )| \n",
    "                               (main_df['prd_name'] == 'cds_dvds_musicals') |\n",
    "                              (main_df['prd_name'] == 'small_appliances_home_oven_and_coffee' )| \n",
    "                               (main_df['prd_name'] == 'music')) , 'APPLIANCES' , main_df['prd_cat'])\n",
    "main_df['prd_cat'] = np.where(((main_df['prd_name'] == 'health_beauty') | (main_df['prd_name'] == 'sports_leisure') |\n",
    "                              (main_df['prd_name'] == 'fashion_bags_accessories') | (main_df['prd_name'] == 'health_beauty') |\n",
    "                              (main_df['prd_name'] == 'health_beauty') | (main_df['prd_name'] == 'luggage_accessories' )|\n",
    "                              (main_df['prd_name'] == 'fashion_underwear_beach') | (main_df['prd_name'] == 'perfumery' )|\n",
    "                              (main_df['prd_name'] == 'cool_stuff') | (main_df['prd_name'] == 'fashion_shoes') |\n",
    "                              (main_df['prd_name'] == 'fashion_male_clothing' )| (main_df['prd_name'] == 'fashion_sport') |\n",
    "                              (main_df['prd_name'] == 'fashio_female_clothing') | \n",
    "                               (main_df['prd_name'] == 'fashion_childrens_clothes')),'FASHION',main_df['prd_cat'])\n",
    "main_df['prd_cat'] = np.where(((main_df['prd_name'] == 'stationery' )| (main_df['prd_name'] == 'musical_instruments') |\n",
    "                              (main_df['prd_name'] == 'toys') | (main_df['prd_name'] == 'watches_gifts') |\n",
    "                              (main_df['prd_name'] == 'drinks') | (main_df['prd_name'] == 'books_general_interest') |\n",
    "                              (main_df['prd_name'] == 'christmas_supplies') | (main_df['prd_name'] == 'baby') |\n",
    "                              (main_df['prd_name'] == 'pet_shop') | (main_df['prd_name'] == 'flowers') |\n",
    "                              (main_df['prd_name'] == 'art') | (main_df['prd_name'] == 'food_drink') |\n",
    "                              (main_df['prd_name'] == 'food') | (main_df['prd_name'] == 'books_technical') |\n",
    "                              (main_df['prd_name'] == 'books_imported') | (main_df['prd_name'] == 'party_supplies' )|\n",
    "                              (main_df['prd_name'] == 'diapers_and_hygiene') | \n",
    "                               (main_df['prd_name'] == 'arts_and_craftmanship') | (main_df['prd_name'] == 'la_cuisine')),\n",
    "                              'HOUSEHOLD',main_df['prd_cat'])\n",
    "main_df['prd_cat'] = np.where(((main_df['prd_name'] == 'auto') | (main_df['prd_name'] == 'industry_commerce_and_business') |\n",
    "                              (main_df['prd_name'] == 'signaling_and_security') | (main_df['prd_name'] == 'market_place') |\n",
    "                              (main_df['prd_name'] == 'cine_photo') | (main_df['prd_name'] == 'agro_industry_and_commerce') |\n",
    "                              (main_df['prd_name'] == 'security_and_services')),'INDUSTRY',main_df['prd_cat'])"
   ]
  },
  {
   "cell_type": "code",
   "execution_count": 64,
   "metadata": {},
   "outputs": [],
   "source": [
    "main_df['cust_region'] = pd.Series(dtype='object')\n",
    "main_df['cust_region'] = np.where(((main_df['cust_loc'] == 'RO') | (main_df['cust_loc'] == 'AC') |\n",
    "                                   (main_df['cust_loc'] == 'AM') | (main_df['cust_loc'] == 'RR') |\n",
    "                                   (main_df['cust_loc'] == 'PA') | (main_df['cust_loc'] == 'AP') |\n",
    "                                   (main_df['cust_loc'] == 'TO')),'NORTH' , main_df['cust_region'])\n",
    "main_df['cust_region'] = np.where(((main_df['cust_loc'] == 'MA') | (main_df['cust_loc'] == 'PI') |\n",
    "                                   (main_df['cust_loc'] == 'CE') | (main_df['cust_loc'] == 'RN') |\n",
    "                                   (main_df['cust_loc'] == 'PB') | (main_df['cust_loc'] == 'PE') |\n",
    "                                   (main_df['cust_loc'] == 'AL') | (main_df['cust_loc'] == 'SE') |\n",
    "                                  (main_df['cust_loc'] == 'BA')),'NORTHEAST' , main_df['cust_region'])        \n",
    "main_df['cust_region'] = np.where(((main_df['cust_loc'] == 'MG') | (main_df['cust_loc'] == 'ES') |\n",
    "                                   (main_df['cust_loc'] == 'RJ') | (main_df['cust_loc'] == 'SP')),\n",
    "                                   'SOUTHEAST' , main_df['cust_region'])\n",
    "main_df['cust_region'] = np.where(((main_df['cust_loc'] == 'PR') | (main_df['cust_loc'] == 'SC') |\n",
    "                                   (main_df['cust_loc'] == 'RS')) ,'SOUTH' , main_df['cust_region'])\n",
    "main_df['cust_region'] = np.where(((main_df['cust_loc'] == 'MS') | (main_df['cust_loc'] == 'MT') |\n",
    "                                   (main_df['cust_loc'] == 'GO') | (main_df['cust_loc'] == 'DF')),\n",
    "                                   'MIDWEST' , main_df['cust_region'])"
   ]
  },
  {
   "cell_type": "code",
   "execution_count": 65,
   "metadata": {},
   "outputs": [],
   "source": [
    "#Drop older columns\n",
    "main_df = main_df.drop(columns=['cust_loc','prd_name'],axis=1)"
   ]
  },
  {
   "cell_type": "code",
   "execution_count": 66,
   "metadata": {},
   "outputs": [],
   "source": [
    "#one-hot encode the below variables\n",
    "main_df = pd.get_dummies(main_df, columns=['order_status','payment_type','prd_cat','cust_region'])"
   ]
  },
  {
   "cell_type": "markdown",
   "metadata": {},
   "source": [
    "#### The final dataframe"
   ]
  },
  {
   "cell_type": "code",
   "execution_count": 67,
   "metadata": {},
   "outputs": [
    {
     "data": {
      "text/html": [
       "<div>\n",
       "<style scoped>\n",
       "    .dataframe tbody tr th:only-of-type {\n",
       "        vertical-align: middle;\n",
       "    }\n",
       "\n",
       "    .dataframe tbody tr th {\n",
       "        vertical-align: top;\n",
       "    }\n",
       "\n",
       "    .dataframe thead th {\n",
       "        text-align: right;\n",
       "    }\n",
       "</style>\n",
       "<table border=\"1\" class=\"dataframe\">\n",
       "  <thead>\n",
       "    <tr style=\"text-align: right;\">\n",
       "      <th></th>\n",
       "      <th>multiple_order</th>\n",
       "      <th>num_days_delivered_cust</th>\n",
       "      <th>payment_value</th>\n",
       "      <th>review_score</th>\n",
       "      <th>order_status_canceled</th>\n",
       "      <th>order_status_delivered</th>\n",
       "      <th>payment_type_boleto</th>\n",
       "      <th>payment_type_credit_card</th>\n",
       "      <th>payment_type_debit_card</th>\n",
       "      <th>payment_type_voucher</th>\n",
       "      <th>prd_cat_APPLIANCES</th>\n",
       "      <th>prd_cat_CONSTRUCTION</th>\n",
       "      <th>prd_cat_FASHION</th>\n",
       "      <th>prd_cat_FURNITURE</th>\n",
       "      <th>prd_cat_HOUSEHOLD</th>\n",
       "      <th>prd_cat_INDUSTRY</th>\n",
       "      <th>cust_region_MIDWEST</th>\n",
       "      <th>cust_region_NORTH</th>\n",
       "      <th>cust_region_NORTHEAST</th>\n",
       "      <th>cust_region_SOUTH</th>\n",
       "      <th>cust_region_SOUTHEAST</th>\n",
       "    </tr>\n",
       "  </thead>\n",
       "  <tbody>\n",
       "    <tr>\n",
       "      <th>0</th>\n",
       "      <td>0</td>\n",
       "      <td>6</td>\n",
       "      <td>141.90</td>\n",
       "      <td>5</td>\n",
       "      <td>0</td>\n",
       "      <td>1</td>\n",
       "      <td>0</td>\n",
       "      <td>1</td>\n",
       "      <td>0</td>\n",
       "      <td>0</td>\n",
       "      <td>0</td>\n",
       "      <td>0</td>\n",
       "      <td>0</td>\n",
       "      <td>1</td>\n",
       "      <td>0</td>\n",
       "      <td>0</td>\n",
       "      <td>0</td>\n",
       "      <td>0</td>\n",
       "      <td>0</td>\n",
       "      <td>0</td>\n",
       "      <td>1</td>\n",
       "    </tr>\n",
       "    <tr>\n",
       "      <th>1</th>\n",
       "      <td>0</td>\n",
       "      <td>3</td>\n",
       "      <td>27.19</td>\n",
       "      <td>4</td>\n",
       "      <td>0</td>\n",
       "      <td>1</td>\n",
       "      <td>0</td>\n",
       "      <td>1</td>\n",
       "      <td>0</td>\n",
       "      <td>0</td>\n",
       "      <td>0</td>\n",
       "      <td>0</td>\n",
       "      <td>1</td>\n",
       "      <td>0</td>\n",
       "      <td>0</td>\n",
       "      <td>0</td>\n",
       "      <td>0</td>\n",
       "      <td>0</td>\n",
       "      <td>0</td>\n",
       "      <td>0</td>\n",
       "      <td>1</td>\n",
       "    </tr>\n",
       "    <tr>\n",
       "      <th>2</th>\n",
       "      <td>0</td>\n",
       "      <td>25</td>\n",
       "      <td>86.22</td>\n",
       "      <td>3</td>\n",
       "      <td>0</td>\n",
       "      <td>1</td>\n",
       "      <td>0</td>\n",
       "      <td>1</td>\n",
       "      <td>0</td>\n",
       "      <td>0</td>\n",
       "      <td>0</td>\n",
       "      <td>0</td>\n",
       "      <td>0</td>\n",
       "      <td>0</td>\n",
       "      <td>1</td>\n",
       "      <td>0</td>\n",
       "      <td>0</td>\n",
       "      <td>0</td>\n",
       "      <td>0</td>\n",
       "      <td>1</td>\n",
       "      <td>0</td>\n",
       "    </tr>\n",
       "    <tr>\n",
       "      <th>3</th>\n",
       "      <td>0</td>\n",
       "      <td>20</td>\n",
       "      <td>43.62</td>\n",
       "      <td>4</td>\n",
       "      <td>0</td>\n",
       "      <td>1</td>\n",
       "      <td>0</td>\n",
       "      <td>1</td>\n",
       "      <td>0</td>\n",
       "      <td>0</td>\n",
       "      <td>1</td>\n",
       "      <td>0</td>\n",
       "      <td>0</td>\n",
       "      <td>0</td>\n",
       "      <td>0</td>\n",
       "      <td>0</td>\n",
       "      <td>0</td>\n",
       "      <td>1</td>\n",
       "      <td>0</td>\n",
       "      <td>0</td>\n",
       "      <td>0</td>\n",
       "    </tr>\n",
       "    <tr>\n",
       "      <th>4</th>\n",
       "      <td>0</td>\n",
       "      <td>13</td>\n",
       "      <td>196.89</td>\n",
       "      <td>5</td>\n",
       "      <td>0</td>\n",
       "      <td>1</td>\n",
       "      <td>0</td>\n",
       "      <td>1</td>\n",
       "      <td>0</td>\n",
       "      <td>0</td>\n",
       "      <td>1</td>\n",
       "      <td>0</td>\n",
       "      <td>0</td>\n",
       "      <td>0</td>\n",
       "      <td>0</td>\n",
       "      <td>0</td>\n",
       "      <td>0</td>\n",
       "      <td>0</td>\n",
       "      <td>0</td>\n",
       "      <td>0</td>\n",
       "      <td>1</td>\n",
       "    </tr>\n",
       "  </tbody>\n",
       "</table>\n",
       "</div>"
      ],
      "text/plain": [
       "   multiple_order  num_days_delivered_cust  payment_value  review_score  \\\n",
       "0               0                        6         141.90             5   \n",
       "1               0                        3          27.19             4   \n",
       "2               0                       25          86.22             3   \n",
       "3               0                       20          43.62             4   \n",
       "4               0                       13         196.89             5   \n",
       "\n",
       "   order_status_canceled  order_status_delivered  payment_type_boleto  \\\n",
       "0                      0                       1                    0   \n",
       "1                      0                       1                    0   \n",
       "2                      0                       1                    0   \n",
       "3                      0                       1                    0   \n",
       "4                      0                       1                    0   \n",
       "\n",
       "   payment_type_credit_card  payment_type_debit_card  payment_type_voucher  \\\n",
       "0                         1                        0                     0   \n",
       "1                         1                        0                     0   \n",
       "2                         1                        0                     0   \n",
       "3                         1                        0                     0   \n",
       "4                         1                        0                     0   \n",
       "\n",
       "   prd_cat_APPLIANCES  prd_cat_CONSTRUCTION  prd_cat_FASHION  \\\n",
       "0                   0                     0                0   \n",
       "1                   0                     0                1   \n",
       "2                   0                     0                0   \n",
       "3                   1                     0                0   \n",
       "4                   1                     0                0   \n",
       "\n",
       "   prd_cat_FURNITURE  prd_cat_HOUSEHOLD  prd_cat_INDUSTRY  \\\n",
       "0                  1                  0                 0   \n",
       "1                  0                  0                 0   \n",
       "2                  0                  1                 0   \n",
       "3                  0                  0                 0   \n",
       "4                  0                  0                 0   \n",
       "\n",
       "   cust_region_MIDWEST  cust_region_NORTH  cust_region_NORTHEAST  \\\n",
       "0                    0                  0                      0   \n",
       "1                    0                  0                      0   \n",
       "2                    0                  0                      0   \n",
       "3                    0                  1                      0   \n",
       "4                    0                  0                      0   \n",
       "\n",
       "   cust_region_SOUTH  cust_region_SOUTHEAST  \n",
       "0                  0                      1  \n",
       "1                  0                      1  \n",
       "2                  1                      0  \n",
       "3                  0                      0  \n",
       "4                  0                      1  "
      ]
     },
     "execution_count": 67,
     "metadata": {},
     "output_type": "execute_result"
    }
   ],
   "source": [
    "main_df.head()"
   ]
  },
  {
   "cell_type": "markdown",
   "metadata": {},
   "source": [
    "## SMOTE Algorithm\n",
    "This is used when there is imbalance between the proportion of the classes in the target variable. This algorithm does up-sampling the class which has lower number of occurances in the data. Because we have fewer examples of customer having more than one order, we will apply this algorithm to take up random samples and equalize both the classes."
   ]
  },
  {
   "cell_type": "code",
   "execution_count": 68,
   "metadata": {},
   "outputs": [
    {
     "data": {
      "text/plain": [
       "0    93150\n",
       "1     6621\n",
       "Name: multiple_order, dtype: int64"
      ]
     },
     "execution_count": 68,
     "metadata": {},
     "output_type": "execute_result"
    }
   ],
   "source": [
    "main_df['multiple_order'].value_counts()"
   ]
  },
  {
   "cell_type": "code",
   "execution_count": 69,
   "metadata": {},
   "outputs": [
    {
     "name": "stdout",
     "output_type": "stream",
     "text": [
      "length of oversampled data is  130344\n",
      "Number of one time customers in oversampled data 65172\n",
      "Number of multiple order customers 65172\n",
      "Proportion of one-time customers data in oversampled data is  0.5\n",
      "Proportion of multiple-order customers data in oversampled data is  0.5\n"
     ]
    }
   ],
   "source": [
    "X = main_df.loc[:, main_df.columns != 'multiple_order']\n",
    "y = main_df.loc[:, main_df.columns == 'multiple_order']\n",
    "\n",
    "os = SMOTE(random_state=0)\n",
    "X_train, X_test, y_train, y_test = train_test_split(X, y, test_size=0.3, random_state=0)\n",
    "columns = X_train.columns\n",
    "os_data_X,os_data_y=os.fit_sample(X_train, y_train)\n",
    "os_data_X = pd.DataFrame(data=os_data_X,columns=columns )\n",
    "os_data_y= pd.DataFrame(data=os_data_y,columns=['multiple_order'])\n",
    "# we can Check the numbers of our data\n",
    "print(\"length of oversampled data is \",len(os_data_X))\n",
    "print(\"Number of one time customers in oversampled data\",len(os_data_y[os_data_y['multiple_order']==0]))\n",
    "print(\"Number of multiple order customers\",len(os_data_y[os_data_y['multiple_order']==1]))\n",
    "print(\"Proportion of one-time customers data in oversampled data is \",\n",
    "      len(os_data_y[os_data_y['multiple_order']==0])/len(os_data_X))\n",
    "print(\"Proportion of multiple-order customers data in oversampled data is \",\n",
    "      len(os_data_y[os_data_y['multiple_order']==1])/len(os_data_X))"
   ]
  },
  {
   "cell_type": "markdown",
   "metadata": {},
   "source": [
    "## Data Modeling using scikit-learn LogisticRegression()"
   ]
  },
  {
   "cell_type": "code",
   "execution_count": 70,
   "metadata": {},
   "outputs": [
    {
     "data": {
      "text/plain": [
       "LogisticRegression()"
      ]
     },
     "execution_count": 70,
     "metadata": {},
     "output_type": "execute_result"
    }
   ],
   "source": [
    "#Divide the data into train and test\n",
    "X_train, X_test, y_train, y_test = train_test_split(os_data_X, os_data_y, test_size=0.33, random_state=42)\n",
    "logreg = LogisticRegression() #initialize the model\n",
    "logreg.fit(X_train, y_train) #fit the model on training data"
   ]
  },
  {
   "cell_type": "code",
   "execution_count": 71,
   "metadata": {},
   "outputs": [
    {
     "name": "stdout",
     "output_type": "stream",
     "text": [
      "Accuracy of logistic regression classifier on test set: 0.86\n"
     ]
    }
   ],
   "source": [
    "y_pred = logreg.predict(X_test) #calculate predicted values and calculate the accuracy\n",
    "print('Accuracy of logistic regression classifier on test set: {:.2f}'.format(logreg.score(X_test, y_test)))"
   ]
  },
  {
   "cell_type": "markdown",
   "metadata": {},
   "source": [
    "## Metrics"
   ]
  },
  {
   "cell_type": "code",
   "execution_count": 72,
   "metadata": {},
   "outputs": [
    {
     "name": "stdout",
     "output_type": "stream",
     "text": [
      "Coefficient of Determination for logistic regression classifier on test set: 0.46\n"
     ]
    }
   ],
   "source": [
    "#Coefficient of Determination\n",
    "r2Score = r2_score(y_test,y_pred)\n",
    "print('Coefficient of Determination for logistic regression classifier on test set: {:.2f}'.format(r2Score))"
   ]
  },
  {
   "cell_type": "code",
   "execution_count": 73,
   "metadata": {},
   "outputs": [
    {
     "data": {
      "text/html": [
       "<div>\n",
       "<style scoped>\n",
       "    .dataframe tbody tr th:only-of-type {\n",
       "        vertical-align: middle;\n",
       "    }\n",
       "\n",
       "    .dataframe tbody tr th {\n",
       "        vertical-align: top;\n",
       "    }\n",
       "\n",
       "    .dataframe thead th {\n",
       "        text-align: right;\n",
       "    }\n",
       "</style>\n",
       "<table border=\"1\" class=\"dataframe\">\n",
       "  <thead>\n",
       "    <tr style=\"text-align: right;\">\n",
       "      <th></th>\n",
       "      <th>0</th>\n",
       "      <th>1</th>\n",
       "    </tr>\n",
       "  </thead>\n",
       "  <tbody>\n",
       "    <tr>\n",
       "      <th>0</th>\n",
       "      <td>21192</td>\n",
       "      <td>491</td>\n",
       "    </tr>\n",
       "    <tr>\n",
       "      <th>1</th>\n",
       "      <td>5324</td>\n",
       "      <td>16007</td>\n",
       "    </tr>\n",
       "  </tbody>\n",
       "</table>\n",
       "</div>"
      ],
      "text/plain": [
       "       0      1\n",
       "0  21192    491\n",
       "1   5324  16007"
      ]
     },
     "execution_count": 73,
     "metadata": {},
     "output_type": "execute_result"
    }
   ],
   "source": [
    "#Confusion Matrix\n",
    "cm = pd.DataFrame(confusion_matrix(y_test, y_pred))\n",
    "cm"
   ]
  },
  {
   "cell_type": "code",
   "execution_count": 74,
   "metadata": {},
   "outputs": [
    {
     "name": "stdout",
     "output_type": "stream",
     "text": [
      "              precision    recall  f1-score   support\n",
      "\n",
      "           0       0.80      0.98      0.88     21683\n",
      "           1       0.97      0.75      0.85     21331\n",
      "\n",
      "    accuracy                           0.86     43014\n",
      "   macro avg       0.88      0.86      0.86     43014\n",
      "weighted avg       0.88      0.86      0.86     43014\n",
      "\n"
     ]
    }
   ],
   "source": [
    "#Classification Report\n",
    "print(classification_report(y_test, y_pred))"
   ]
  },
  {
   "cell_type": "markdown",
   "metadata": {},
   "source": [
    "## L1 Regularization"
   ]
  },
  {
   "cell_type": "code",
   "execution_count": 75,
   "metadata": {},
   "outputs": [
    {
     "name": "stdout",
     "output_type": "stream",
     "text": [
      "C: 10\n",
      "Coefficient of each feature: [[-2.68811175e-02 -1.20584569e-03 -4.25681781e-02  0.00000000e+00\n",
      "   1.28306499e+01 -8.51385471e+00 -7.96773365e+00 -9.25364401e+00\n",
      "  -7.98377491e+00 -9.71306277e+00 -1.00789173e+01 -9.42113533e+00\n",
      "  -9.10831173e+00 -9.97326329e+00 -1.05787428e+01 -8.99025671e+00\n",
      "  -9.13308342e+00 -8.99107559e+00 -8.87329865e+00 -8.18695264e+00]]\n",
      "Training accuracy: 0.8738119775563953\n",
      "Test accuracy: 0.8745059747989027\n",
      "\n",
      "C: 1\n",
      "Coefficient of each feature: [[-2.68833291e-02 -1.20101855e-03 -4.26360120e-02  0.00000000e+00\n",
      "   1.13089503e+01 -7.92564942e+00 -7.38041017e+00 -8.64791134e+00\n",
      "  -7.39484111e+00 -8.83336751e+00 -9.19707087e+00 -8.54180292e+00\n",
      "  -8.22904654e+00 -9.09351135e+00 -9.69427675e+00 -8.26925127e+00\n",
      "  -8.40040245e+00 -8.27138368e+00 -8.15446599e+00 -7.46943368e+00]]\n",
      "Training accuracy: 0.8738119775563953\n",
      "Test accuracy: 0.8745059747989027\n",
      "\n",
      "C: 0.1\n",
      "Coefficient of each feature: [[-2.58346673e-02 -1.13223759e-03 -3.76943292e-02  0.00000000e+00\n",
      "   8.02988206e+00 -5.71228956e+00 -5.17374421e+00 -6.27594249e+00\n",
      "  -5.17504973e+00 -6.57835323e+00 -6.92463483e+00 -6.29135605e+00\n",
      "  -5.97990258e+00 -6.83765051e+00 -7.39326779e+00 -6.00410787e+00\n",
      "  -6.03443799e+00 -6.01887029e+00 -5.90373070e+00 -5.22933427e+00]]\n",
      "Training accuracy: 0.8738119775563953\n",
      "Test accuracy: 0.8745059747989027\n",
      "\n",
      "C: 0.001\n",
      "Coefficient of each feature: [[ 2.76199050e-03 -1.89681744e-04  8.03910278e-02  0.00000000e+00\n",
      "   4.74467326e-01 -7.39882951e-01 -3.78479011e-01  0.00000000e+00\n",
      "   0.00000000e+00 -1.38939321e+00 -7.39022800e-01 -1.24590452e+00\n",
      "  -9.13515349e-01 -1.64825166e+00 -6.64344427e-01  0.00000000e+00\n",
      "   0.00000000e+00 -3.22103564e-01 -4.06290614e-01 -7.21990944e-02]]\n",
      "Training accuracy: 0.7808084278025879\n",
      "Test accuracy: 0.7795601432091878\n",
      "\n"
     ]
    }
   ],
   "source": [
    "C = [10, 1, .1, .001]\n",
    "\n",
    "for c in C:\n",
    "    clf_l1 = LogisticRegression(penalty='l1', C=c, solver='liblinear')\n",
    "    clf_l1.fit(X_train, y_train)\n",
    "    print('C:', c)\n",
    "    print('Coefficient of each feature:', clf_l1.coef_)\n",
    "    print('Training accuracy:', clf_l1.score(X_train, y_train))\n",
    "    print('Test accuracy:', clf_l1.score(X_test, y_test))\n",
    "    print('')"
   ]
  },
  {
   "cell_type": "markdown",
   "metadata": {},
   "source": [
    "## L2 Regularization"
   ]
  },
  {
   "cell_type": "code",
   "execution_count": 76,
   "metadata": {},
   "outputs": [
    {
     "name": "stdout",
     "output_type": "stream",
     "text": [
      "C: 10\n",
      "Coefficient of each feature: [[-2.67786483e-02 -1.19551848e-03 -4.28139075e-02 -2.90502316e-03\n",
      "   1.07892545e+01 -7.47717554e+00 -6.93161672e+00 -8.18943295e+00\n",
      "  -6.94793398e+00 -8.32645004e+00 -8.68613564e+00 -8.03464276e+00\n",
      "  -7.72193616e+00 -8.58664996e+00 -9.18622350e+00 -7.78865464e+00\n",
      "  -7.93510802e+00 -7.79270641e+00 -7.67354623e+00 -6.98896039e+00]]\n",
      "Training accuracy: 0.8738119775563953\n",
      "Test accuracy: 0.8745059747989027\n",
      "\n",
      "C: 1\n",
      "Coefficient of each feature: [[-2.61783678e-02 -1.15243633e-03 -3.95415857e-02 -2.25683047e-03\n",
      "   8.74833970e+00 -6.15618987e+00 -5.61482285e+00 -6.77005494e+00\n",
      "  -5.62290438e+00 -6.91700879e+00 -7.26884599e+00 -6.62869153e+00\n",
      "  -6.31690474e+00 -7.17650876e+00 -7.74304634e+00 -6.43473664e+00\n",
      "  -6.50589670e+00 -6.44580400e+00 -6.32928805e+00 -5.65078055e+00]]\n",
      "Training accuracy: 0.8738119775563953\n",
      "Test accuracy: 0.8745059747989027\n",
      "\n",
      "C: 0.1\n",
      "Coefficient of each feature: [[-2.23872352e-02 -9.75197749e-04 -2.09577710e-02 -1.85814152e-03\n",
      "   5.69585189e+00 -4.14985930e+00 -3.63229680e+00 -4.28253944e+00\n",
      "  -3.60631194e+00 -4.88512942e+00 -5.15125269e+00 -4.61267575e+00\n",
      "  -4.30581410e+00 -5.13834163e+00 -5.50985287e+00 -4.32878268e+00\n",
      "  -4.12145073e+00 -4.38848053e+00 -4.27977771e+00 -3.63959527e+00]]\n",
      "Training accuracy: 0.8738005267376617\n",
      "Test accuracy: 0.8744129818198726\n",
      "\n",
      "C: 0.001\n",
      "Coefficient of each feature: [[-8.79049519e-04 -2.77244507e-04  8.09015797e-02 -8.01669597e-04\n",
      "   7.84797703e-01 -9.80393210e-01 -6.63333971e-01 -2.75546512e-01\n",
      "  -4.22765177e-01 -1.17536493e+00 -8.17283570e-01 -1.10196405e+00\n",
      "  -8.41752868e-01 -1.34561885e+00 -8.07241813e-01 -6.30618418e-01\n",
      "  -2.95437673e-01 -8.48467332e-01 -8.77406164e-01 -5.24364888e-01]]\n",
      "Training accuracy: 0.8538188480476354\n",
      "Test accuracy: 0.8540940159017995\n",
      "\n"
     ]
    }
   ],
   "source": [
    "C = [10, 1, .1, .001]\n",
    "\n",
    "for c in C:\n",
    "    clf_l2 = LogisticRegression(penalty='l2', C=c, solver='liblinear')\n",
    "    clf_l2.fit(X_train, y_train)\n",
    "    print('C:', c)\n",
    "    print('Coefficient of each feature:', clf_l2.coef_)\n",
    "    print('Training accuracy:', clf_l2.score(X_train, y_train))\n",
    "    print('Test accuracy:', clf_l2.score(X_test, y_test))\n",
    "    print('')"
   ]
  },
  {
   "cell_type": "markdown",
   "metadata": {},
   "source": [
    "## ROC Curve"
   ]
  },
  {
   "cell_type": "code",
   "execution_count": 77,
   "metadata": {},
   "outputs": [],
   "source": [
    "p_pred_proba_l2 = clf_l2.predict_proba(X_test)[::,1]\n",
    "fpr_l2, tpr_l2, _ = roc_curve(y_test,  p_pred_proba_l2)\n",
    "auc_l2 = roc_auc_score(y_test, p_pred_proba_l2)"
   ]
  },
  {
   "cell_type": "code",
   "execution_count": 78,
   "metadata": {},
   "outputs": [],
   "source": [
    "p_pred_proba_l1 = clf_l1.predict_proba(X_test)[::,1]\n",
    "fpr_l1, tpr_l1, _ = roc_curve(y_test,  p_pred_proba_l1)\n",
    "auc_l1 = roc_auc_score(y_test, p_pred_proba_l1)"
   ]
  },
  {
   "cell_type": "code",
   "execution_count": 79,
   "metadata": {},
   "outputs": [],
   "source": [
    "y_pred_proba = logreg.predict_proba(X_test)[::,1]\n",
    "fpr, tpr, _ = roc_curve(y_test,  y_pred_proba)\n",
    "auc = roc_auc_score(y_test, y_pred_proba)"
   ]
  },
  {
   "cell_type": "code",
   "execution_count": 80,
   "metadata": {},
   "outputs": [
    {
     "data": {
      "image/png": "[encoded data removed]",
      "text/plain": [
       "<Figure size 720x504 with 1 Axes>"
      ]
     },
     "metadata": {
      "needs_background": "light"
     },
     "output_type": "display_data"
    }
   ],
   "source": [
    "plt.figure(figsize=(10,7))\n",
    "plt.plot(fpr,tpr,label=\"Logistic Regression, auc=\"+str(auc))\n",
    "plt.plot(fpr_l2,tpr_l2,label=\"L2 Logistic Regression, auc=\"+str(auc_l2))\n",
    "plt.plot(fpr_l1,tpr_l1,label=\"L1 Logistic Regression, auc=\"+str(auc_l1))\n",
    "\n",
    "\n",
    "plt.legend(loc=4)\n",
    "plt.show()"
   ]
  },
  {
   "cell_type": "markdown",
   "metadata": {},
   "source": [
    "## Addressing multicollinearity using Variance inflation factor (VIF)"
   ]
  },
  {
   "cell_type": "code",
   "execution_count": 81,
   "metadata": {},
   "outputs": [
    {
     "name": "stdout",
     "output_type": "stream",
     "text": [
      "                     feature       VIF\n",
      "0    num_days_delivered_cust  1.269074\n",
      "1              payment_value  1.021900\n",
      "2               review_score  1.131484\n",
      "3      order_status_canceled       inf\n",
      "4     order_status_delivered       inf\n",
      "5        payment_type_boleto       inf\n",
      "6   payment_type_credit_card       inf\n",
      "7    payment_type_debit_card       inf\n",
      "8       payment_type_voucher       inf\n",
      "9         prd_cat_APPLIANCES       inf\n",
      "10      prd_cat_CONSTRUCTION       inf\n",
      "11           prd_cat_FASHION       inf\n",
      "12         prd_cat_FURNITURE       inf\n",
      "13         prd_cat_HOUSEHOLD       inf\n",
      "14          prd_cat_INDUSTRY       inf\n",
      "15       cust_region_MIDWEST       inf\n",
      "16         cust_region_NORTH       inf\n",
      "17     cust_region_NORTHEAST       inf\n",
      "18         cust_region_SOUTH       inf\n",
      "19     cust_region_SOUTHEAST       inf\n"
     ]
    }
   ],
   "source": [
    "vif_data = pd.DataFrame() \n",
    "vif_data[\"feature\"] = X.columns \n",
    "  \n",
    "# calculating VIF for each feature \n",
    "vif_data[\"VIF\"] = [variance_inflation_factor(X.values, i) \n",
    "                          for i in range(len(X.columns))] \n",
    "  \n",
    "print(vif_data)"
   ]
  },
  {
   "cell_type": "markdown",
   "metadata": {},
   "source": [
    "When a dummy variable that represents more than two categories has a high VIF, multicollinearity does not necessarily exist. The variables will always have high VIFs if there is a small portion of cases in the category, regardless of whether the categorical variables are correlated to other variables. In this case we can safely ignore the multicollinearity."
   ]
  },
  {
   "cell_type": "markdown",
   "metadata": {},
   "source": [
    "## Recursive feature elimination\n",
    "Recursive Feature Elimination (RFE) is based on the idea to repeatedly construct a model and choose either the best or worst performing feature, setting the feature aside and then repeating the process with the rest of the features. This process is applied until all features in the dataset are exhausted. The goal of RFE is to select features by recursively considering smaller and smaller sets of features."
   ]
  },
  {
   "cell_type": "code",
   "execution_count": 82,
   "metadata": {},
   "outputs": [
    {
     "name": "stdout",
     "output_type": "stream",
     "text": [
      "[False False False False False  True  True  True  True  True  True  True\n",
      "  True  True  True False False False False False]\n",
      "[ 9 11  8 10  7  1  1  1  1  1  1  1  1  1  1  4  2  3  5  6]\n"
     ]
    }
   ],
   "source": [
    "rfe = RFE(logreg, 10)\n",
    "rfe = rfe.fit(os_data_X, os_data_y.values)\n",
    "print(rfe.support_)\n",
    "print(rfe.ranking_)"
   ]
  },
  {
   "cell_type": "markdown",
   "metadata": {},
   "source": [
    "This RFE algorithm is giving the top 10 features that we can include in our model to get a better accuracy rate. We can re train our model just using the features with the highest ranking and calculate the accuracy."
   ]
  }
 ],
 "metadata": {
  "kernelspec": {
   "display_name": "Python 3",
   "language": "python",
   "name": "python3"
  },
  "language_info": {
   "codemirror_mode": {
    "name": "ipython",
    "version": 3
   },
   "file_extension": ".py",
   "mimetype": "text/x-python",
   "name": "python",
   "nbconvert_exporter": "python",
   "pygments_lexer": "ipython3",
   "version": "3.7.6"
  }
 },
 "nbformat": 4,
 "nbformat_minor": 4
}
