{
 "cells": [
  {
   "cell_type": "markdown",
   "id": "happy-market",
   "metadata": {},
   "source": [
    "## Understanding the OLIST Data"
   ]
  },
  {
   "cell_type": "code",
   "execution_count": 1,
   "id": "architectural-notebook",
   "metadata": {},
   "outputs": [],
   "source": [
    "import numpy as np # linear algebra\n",
    "import pandas as pd # data processing, CSV file I/O (e.g. pd.read_csv)\n",
    "import seaborn as sns; sns.set(rc={'figure.figsize':(16,9)})\n",
    "import matplotlib.pyplot as plt\n",
    "\n",
    "from sklearn.model_selection import train_test_split\n",
    "from sklearn.model_selection import StratifiedShuffleSplit\n",
    "\n",
    "\n",
    "\n",
    "\n",
    "pd.set_option('display.max_columns', 100)\n",
    "pd.set_option('display.max_rows', 100)\n",
    "pd.set_option('max_colwidth', 400)"
   ]
  },
  {
   "cell_type": "code",
   "execution_count": 2,
   "id": "concrete-plymouth",
   "metadata": {},
   "outputs": [],
   "source": [
    "cust = pd.read_csv('~/Data_mining/DataArchives/olist_customers_dataset.csv') #customer data cust id PK\n",
    "loc = pd.read_csv('~/Data_mining/DataArchives/olist_geolocation_dataset.csv') #location details zip code PK\n",
    "order = pd.read_csv('~/Data_mining/DataArchives/olist_order_items_dataset.csv') #orders order id PK\n",
    "pay = pd.read_csv('~/Data_mining/DataArchives/olist_order_payments_dataset.csv')#payment info Payment id PK\n",
    "review = pd.read_csv('~/Data_mining/DataArchives/olist_order_reviews_dataset.csv') #reviews review id PK\n",
    "ord_cust = pd.read_csv('~/Data_mining/DataArchives/olist_orders_dataset.csv') # order and cust id PK\n",
    "product = pd.read_csv('~/Data_mining/DataArchives/olist_products_dataset.csv')# product id PK\n",
    "sellers = pd.read_csv('~/Data_mining/DataArchives/olist_sellers_dataset.csv')# seller id PK\n",
    "prd_name = pd.read_csv('~/Data_mining/DataArchives/product_category_name_translation.csv') #translation data"
   ]
  },
  {
   "cell_type": "code",
   "execution_count": 3,
   "id": "strange-danish",
   "metadata": {},
   "outputs": [
    {
     "data": {
      "text/html": [
       "<div>\n",
       "<style scoped>\n",
       "    .dataframe tbody tr th:only-of-type {\n",
       "        vertical-align: middle;\n",
       "    }\n",
       "\n",
       "    .dataframe tbody tr th {\n",
       "        vertical-align: top;\n",
       "    }\n",
       "\n",
       "    .dataframe thead th {\n",
       "        text-align: right;\n",
       "    }\n",
       "</style>\n",
       "<table border=\"1\" class=\"dataframe\">\n",
       "  <thead>\n",
       "    <tr style=\"text-align: right;\">\n",
       "      <th></th>\n",
       "      <th>customer_id</th>\n",
       "      <th>customer_unique_id</th>\n",
       "      <th>customer_zip_code_prefix</th>\n",
       "      <th>customer_city</th>\n",
       "      <th>customer_state</th>\n",
       "    </tr>\n",
       "  </thead>\n",
       "  <tbody>\n",
       "    <tr>\n",
       "      <th>0</th>\n",
       "      <td>06b8999e2fba1a1fbc88172c00ba8bc7</td>\n",
       "      <td>861eff4711a542e4b93843c6dd7febb0</td>\n",
       "      <td>14409</td>\n",
       "      <td>franca</td>\n",
       "      <td>SP</td>\n",
       "    </tr>\n",
       "    <tr>\n",
       "      <th>1</th>\n",
       "      <td>18955e83d337fd6b2def6b18a428ac77</td>\n",
       "      <td>290c77bc529b7ac935b93aa66c333dc3</td>\n",
       "      <td>9790</td>\n",
       "      <td>sao bernardo do campo</td>\n",
       "      <td>SP</td>\n",
       "    </tr>\n",
       "  </tbody>\n",
       "</table>\n",
       "</div>"
      ],
      "text/plain": [
       "                        customer_id                customer_unique_id  \\\n",
       "0  06b8999e2fba1a1fbc88172c00ba8bc7  861eff4711a542e4b93843c6dd7febb0   \n",
       "1  18955e83d337fd6b2def6b18a428ac77  290c77bc529b7ac935b93aa66c333dc3   \n",
       "\n",
       "   customer_zip_code_prefix          customer_city customer_state  \n",
       "0                     14409                 franca             SP  \n",
       "1                      9790  sao bernardo do campo             SP  "
      ]
     },
     "execution_count": 3,
     "metadata": {},
     "output_type": "execute_result"
    }
   ],
   "source": [
    "cust.head(2)"
   ]
  },
  {
   "cell_type": "code",
   "execution_count": 4,
   "id": "fleet-control",
   "metadata": {},
   "outputs": [
    {
     "data": {
      "text/html": [
       "<div>\n",
       "<style scoped>\n",
       "    .dataframe tbody tr th:only-of-type {\n",
       "        vertical-align: middle;\n",
       "    }\n",
       "\n",
       "    .dataframe tbody tr th {\n",
       "        vertical-align: top;\n",
       "    }\n",
       "\n",
       "    .dataframe thead th {\n",
       "        text-align: right;\n",
       "    }\n",
       "</style>\n",
       "<table border=\"1\" class=\"dataframe\">\n",
       "  <thead>\n",
       "    <tr style=\"text-align: right;\">\n",
       "      <th></th>\n",
       "      <th>geolocation_zip_code_prefix</th>\n",
       "      <th>geolocation_lat</th>\n",
       "      <th>geolocation_lng</th>\n",
       "      <th>geolocation_city</th>\n",
       "      <th>geolocation_state</th>\n",
       "    </tr>\n",
       "  </thead>\n",
       "  <tbody>\n",
       "    <tr>\n",
       "      <th>0</th>\n",
       "      <td>1037</td>\n",
       "      <td>-23.545621</td>\n",
       "      <td>-46.639292</td>\n",
       "      <td>sao paulo</td>\n",
       "      <td>SP</td>\n",
       "    </tr>\n",
       "    <tr>\n",
       "      <th>1</th>\n",
       "      <td>1046</td>\n",
       "      <td>-23.546081</td>\n",
       "      <td>-46.644820</td>\n",
       "      <td>sao paulo</td>\n",
       "      <td>SP</td>\n",
       "    </tr>\n",
       "  </tbody>\n",
       "</table>\n",
       "</div>"
      ],
      "text/plain": [
       "   geolocation_zip_code_prefix  geolocation_lat  geolocation_lng  \\\n",
       "0                         1037       -23.545621       -46.639292   \n",
       "1                         1046       -23.546081       -46.644820   \n",
       "\n",
       "  geolocation_city geolocation_state  \n",
       "0        sao paulo                SP  \n",
       "1        sao paulo                SP  "
      ]
     },
     "execution_count": 4,
     "metadata": {},
     "output_type": "execute_result"
    }
   ],
   "source": [
    "loc.head(2)"
   ]
  },
  {
   "cell_type": "code",
   "execution_count": 5,
   "id": "educational-lesbian",
   "metadata": {},
   "outputs": [
    {
     "data": {
      "text/html": [
       "<div>\n",
       "<style scoped>\n",
       "    .dataframe tbody tr th:only-of-type {\n",
       "        vertical-align: middle;\n",
       "    }\n",
       "\n",
       "    .dataframe tbody tr th {\n",
       "        vertical-align: top;\n",
       "    }\n",
       "\n",
       "    .dataframe thead th {\n",
       "        text-align: right;\n",
       "    }\n",
       "</style>\n",
       "<table border=\"1\" class=\"dataframe\">\n",
       "  <thead>\n",
       "    <tr style=\"text-align: right;\">\n",
       "      <th></th>\n",
       "      <th>order_id</th>\n",
       "      <th>order_item_id</th>\n",
       "      <th>product_id</th>\n",
       "      <th>seller_id</th>\n",
       "      <th>shipping_limit_date</th>\n",
       "      <th>price</th>\n",
       "      <th>freight_value</th>\n",
       "    </tr>\n",
       "  </thead>\n",
       "  <tbody>\n",
       "    <tr>\n",
       "      <th>0</th>\n",
       "      <td>00010242fe8c5a6d1ba2dd792cb16214</td>\n",
       "      <td>1</td>\n",
       "      <td>4244733e06e7ecb4970a6e2683c13e61</td>\n",
       "      <td>48436dade18ac8b2bce089ec2a041202</td>\n",
       "      <td>2017-09-19 09:45:35</td>\n",
       "      <td>58.9</td>\n",
       "      <td>13.29</td>\n",
       "    </tr>\n",
       "    <tr>\n",
       "      <th>1</th>\n",
       "      <td>00018f77f2f0320c557190d7a144bdd3</td>\n",
       "      <td>1</td>\n",
       "      <td>e5f2d52b802189ee658865ca93d83a8f</td>\n",
       "      <td>dd7ddc04e1b6c2c614352b383efe2d36</td>\n",
       "      <td>2017-05-03 11:05:13</td>\n",
       "      <td>239.9</td>\n",
       "      <td>19.93</td>\n",
       "    </tr>\n",
       "  </tbody>\n",
       "</table>\n",
       "</div>"
      ],
      "text/plain": [
       "                           order_id  order_item_id  \\\n",
       "0  00010242fe8c5a6d1ba2dd792cb16214              1   \n",
       "1  00018f77f2f0320c557190d7a144bdd3              1   \n",
       "\n",
       "                         product_id                         seller_id  \\\n",
       "0  4244733e06e7ecb4970a6e2683c13e61  48436dade18ac8b2bce089ec2a041202   \n",
       "1  e5f2d52b802189ee658865ca93d83a8f  dd7ddc04e1b6c2c614352b383efe2d36   \n",
       "\n",
       "   shipping_limit_date  price  freight_value  \n",
       "0  2017-09-19 09:45:35   58.9          13.29  \n",
       "1  2017-05-03 11:05:13  239.9          19.93  "
      ]
     },
     "execution_count": 5,
     "metadata": {},
     "output_type": "execute_result"
    }
   ],
   "source": [
    "order.head(2)"
   ]
  },
  {
   "cell_type": "code",
   "execution_count": 6,
   "id": "cubic-swedish",
   "metadata": {},
   "outputs": [
    {
     "data": {
      "text/html": [
       "<div>\n",
       "<style scoped>\n",
       "    .dataframe tbody tr th:only-of-type {\n",
       "        vertical-align: middle;\n",
       "    }\n",
       "\n",
       "    .dataframe tbody tr th {\n",
       "        vertical-align: top;\n",
       "    }\n",
       "\n",
       "    .dataframe thead th {\n",
       "        text-align: right;\n",
       "    }\n",
       "</style>\n",
       "<table border=\"1\" class=\"dataframe\">\n",
       "  <thead>\n",
       "    <tr style=\"text-align: right;\">\n",
       "      <th></th>\n",
       "      <th>order_id</th>\n",
       "      <th>payment_sequential</th>\n",
       "      <th>payment_type</th>\n",
       "      <th>payment_installments</th>\n",
       "      <th>payment_value</th>\n",
       "    </tr>\n",
       "  </thead>\n",
       "  <tbody>\n",
       "    <tr>\n",
       "      <th>0</th>\n",
       "      <td>b81ef226f3fe1789b1e8b2acac839d17</td>\n",
       "      <td>1</td>\n",
       "      <td>credit_card</td>\n",
       "      <td>8</td>\n",
       "      <td>99.33</td>\n",
       "    </tr>\n",
       "    <tr>\n",
       "      <th>1</th>\n",
       "      <td>a9810da82917af2d9aefd1278f1dcfa0</td>\n",
       "      <td>1</td>\n",
       "      <td>credit_card</td>\n",
       "      <td>1</td>\n",
       "      <td>24.39</td>\n",
       "    </tr>\n",
       "  </tbody>\n",
       "</table>\n",
       "</div>"
      ],
      "text/plain": [
       "                           order_id  payment_sequential payment_type  \\\n",
       "0  b81ef226f3fe1789b1e8b2acac839d17                   1  credit_card   \n",
       "1  a9810da82917af2d9aefd1278f1dcfa0                   1  credit_card   \n",
       "\n",
       "   payment_installments  payment_value  \n",
       "0                     8          99.33  \n",
       "1                     1          24.39  "
      ]
     },
     "execution_count": 6,
     "metadata": {},
     "output_type": "execute_result"
    }
   ],
   "source": [
    "pay.head(2)"
   ]
  },
  {
   "cell_type": "code",
   "execution_count": 7,
   "id": "clean-royal",
   "metadata": {},
   "outputs": [
    {
     "data": {
      "text/html": [
       "<div>\n",
       "<style scoped>\n",
       "    .dataframe tbody tr th:only-of-type {\n",
       "        vertical-align: middle;\n",
       "    }\n",
       "\n",
       "    .dataframe tbody tr th {\n",
       "        vertical-align: top;\n",
       "    }\n",
       "\n",
       "    .dataframe thead th {\n",
       "        text-align: right;\n",
       "    }\n",
       "</style>\n",
       "<table border=\"1\" class=\"dataframe\">\n",
       "  <thead>\n",
       "    <tr style=\"text-align: right;\">\n",
       "      <th></th>\n",
       "      <th>review_id</th>\n",
       "      <th>order_id</th>\n",
       "      <th>review_score</th>\n",
       "      <th>review_comment_title</th>\n",
       "      <th>review_comment_message</th>\n",
       "      <th>review_creation_date</th>\n",
       "      <th>review_answer_timestamp</th>\n",
       "    </tr>\n",
       "  </thead>\n",
       "  <tbody>\n",
       "    <tr>\n",
       "      <th>0</th>\n",
       "      <td>7bc2406110b926393aa56f80a40eba40</td>\n",
       "      <td>73fc7af87114b39712e6da79b0a377eb</td>\n",
       "      <td>4</td>\n",
       "      <td>NaN</td>\n",
       "      <td>NaN</td>\n",
       "      <td>2018-01-18 00:00:00</td>\n",
       "      <td>2018-01-18 21:46:59</td>\n",
       "    </tr>\n",
       "    <tr>\n",
       "      <th>1</th>\n",
       "      <td>80e641a11e56f04c1ad469d5645fdfde</td>\n",
       "      <td>a548910a1c6147796b98fdf73dbeba33</td>\n",
       "      <td>5</td>\n",
       "      <td>NaN</td>\n",
       "      <td>NaN</td>\n",
       "      <td>2018-03-10 00:00:00</td>\n",
       "      <td>2018-03-11 03:05:13</td>\n",
       "    </tr>\n",
       "  </tbody>\n",
       "</table>\n",
       "</div>"
      ],
      "text/plain": [
       "                          review_id                          order_id  \\\n",
       "0  7bc2406110b926393aa56f80a40eba40  73fc7af87114b39712e6da79b0a377eb   \n",
       "1  80e641a11e56f04c1ad469d5645fdfde  a548910a1c6147796b98fdf73dbeba33   \n",
       "\n",
       "   review_score review_comment_title review_comment_message  \\\n",
       "0             4                  NaN                    NaN   \n",
       "1             5                  NaN                    NaN   \n",
       "\n",
       "  review_creation_date review_answer_timestamp  \n",
       "0  2018-01-18 00:00:00     2018-01-18 21:46:59  \n",
       "1  2018-03-10 00:00:00     2018-03-11 03:05:13  "
      ]
     },
     "execution_count": 7,
     "metadata": {},
     "output_type": "execute_result"
    }
   ],
   "source": [
    "review.head(2)"
   ]
  },
  {
   "cell_type": "code",
   "execution_count": 8,
   "id": "spare-michael",
   "metadata": {},
   "outputs": [
    {
     "data": {
      "text/html": [
       "<div>\n",
       "<style scoped>\n",
       "    .dataframe tbody tr th:only-of-type {\n",
       "        vertical-align: middle;\n",
       "    }\n",
       "\n",
       "    .dataframe tbody tr th {\n",
       "        vertical-align: top;\n",
       "    }\n",
       "\n",
       "    .dataframe thead th {\n",
       "        text-align: right;\n",
       "    }\n",
       "</style>\n",
       "<table border=\"1\" class=\"dataframe\">\n",
       "  <thead>\n",
       "    <tr style=\"text-align: right;\">\n",
       "      <th></th>\n",
       "      <th>order_id</th>\n",
       "      <th>customer_id</th>\n",
       "      <th>order_status</th>\n",
       "      <th>order_purchase_timestamp</th>\n",
       "      <th>order_approved_at</th>\n",
       "      <th>order_delivered_carrier_date</th>\n",
       "      <th>order_delivered_customer_date</th>\n",
       "      <th>order_estimated_delivery_date</th>\n",
       "    </tr>\n",
       "  </thead>\n",
       "  <tbody>\n",
       "    <tr>\n",
       "      <th>0</th>\n",
       "      <td>e481f51cbdc54678b7cc49136f2d6af7</td>\n",
       "      <td>9ef432eb6251297304e76186b10a928d</td>\n",
       "      <td>delivered</td>\n",
       "      <td>2017-10-02 10:56:33</td>\n",
       "      <td>2017-10-02 11:07:15</td>\n",
       "      <td>2017-10-04 19:55:00</td>\n",
       "      <td>2017-10-10 21:25:13</td>\n",
       "      <td>2017-10-18 00:00:00</td>\n",
       "    </tr>\n",
       "    <tr>\n",
       "      <th>1</th>\n",
       "      <td>53cdb2fc8bc7dce0b6741e2150273451</td>\n",
       "      <td>b0830fb4747a6c6d20dea0b8c802d7ef</td>\n",
       "      <td>delivered</td>\n",
       "      <td>2018-07-24 20:41:37</td>\n",
       "      <td>2018-07-26 03:24:27</td>\n",
       "      <td>2018-07-26 14:31:00</td>\n",
       "      <td>2018-08-07 15:27:45</td>\n",
       "      <td>2018-08-13 00:00:00</td>\n",
       "    </tr>\n",
       "  </tbody>\n",
       "</table>\n",
       "</div>"
      ],
      "text/plain": [
       "                           order_id                       customer_id  \\\n",
       "0  e481f51cbdc54678b7cc49136f2d6af7  9ef432eb6251297304e76186b10a928d   \n",
       "1  53cdb2fc8bc7dce0b6741e2150273451  b0830fb4747a6c6d20dea0b8c802d7ef   \n",
       "\n",
       "  order_status order_purchase_timestamp    order_approved_at  \\\n",
       "0    delivered      2017-10-02 10:56:33  2017-10-02 11:07:15   \n",
       "1    delivered      2018-07-24 20:41:37  2018-07-26 03:24:27   \n",
       "\n",
       "  order_delivered_carrier_date order_delivered_customer_date  \\\n",
       "0          2017-10-04 19:55:00           2017-10-10 21:25:13   \n",
       "1          2018-07-26 14:31:00           2018-08-07 15:27:45   \n",
       "\n",
       "  order_estimated_delivery_date  \n",
       "0           2017-10-18 00:00:00  \n",
       "1           2018-08-13 00:00:00  "
      ]
     },
     "execution_count": 8,
     "metadata": {},
     "output_type": "execute_result"
    }
   ],
   "source": [
    "ord_cust.head(2)"
   ]
  },
  {
   "cell_type": "code",
   "execution_count": 9,
   "id": "continent-office",
   "metadata": {},
   "outputs": [
    {
     "data": {
      "text/html": [
       "<div>\n",
       "<style scoped>\n",
       "    .dataframe tbody tr th:only-of-type {\n",
       "        vertical-align: middle;\n",
       "    }\n",
       "\n",
       "    .dataframe tbody tr th {\n",
       "        vertical-align: top;\n",
       "    }\n",
       "\n",
       "    .dataframe thead th {\n",
       "        text-align: right;\n",
       "    }\n",
       "</style>\n",
       "<table border=\"1\" class=\"dataframe\">\n",
       "  <thead>\n",
       "    <tr style=\"text-align: right;\">\n",
       "      <th></th>\n",
       "      <th>product_id</th>\n",
       "      <th>product_category_name</th>\n",
       "      <th>product_name_lenght</th>\n",
       "      <th>product_description_lenght</th>\n",
       "      <th>product_photos_qty</th>\n",
       "      <th>product_weight_g</th>\n",
       "      <th>product_length_cm</th>\n",
       "      <th>product_height_cm</th>\n",
       "      <th>product_width_cm</th>\n",
       "    </tr>\n",
       "  </thead>\n",
       "  <tbody>\n",
       "    <tr>\n",
       "      <th>0</th>\n",
       "      <td>1e9e8ef04dbcff4541ed26657ea517e5</td>\n",
       "      <td>perfumaria</td>\n",
       "      <td>40.0</td>\n",
       "      <td>287.0</td>\n",
       "      <td>1.0</td>\n",
       "      <td>225.0</td>\n",
       "      <td>16.0</td>\n",
       "      <td>10.0</td>\n",
       "      <td>14.0</td>\n",
       "    </tr>\n",
       "    <tr>\n",
       "      <th>1</th>\n",
       "      <td>3aa071139cb16b67ca9e5dea641aaa2f</td>\n",
       "      <td>artes</td>\n",
       "      <td>44.0</td>\n",
       "      <td>276.0</td>\n",
       "      <td>1.0</td>\n",
       "      <td>1000.0</td>\n",
       "      <td>30.0</td>\n",
       "      <td>18.0</td>\n",
       "      <td>20.0</td>\n",
       "    </tr>\n",
       "  </tbody>\n",
       "</table>\n",
       "</div>"
      ],
      "text/plain": [
       "                         product_id product_category_name  \\\n",
       "0  1e9e8ef04dbcff4541ed26657ea517e5            perfumaria   \n",
       "1  3aa071139cb16b67ca9e5dea641aaa2f                 artes   \n",
       "\n",
       "   product_name_lenght  product_description_lenght  product_photos_qty  \\\n",
       "0                 40.0                       287.0                 1.0   \n",
       "1                 44.0                       276.0                 1.0   \n",
       "\n",
       "   product_weight_g  product_length_cm  product_height_cm  product_width_cm  \n",
       "0             225.0               16.0               10.0              14.0  \n",
       "1            1000.0               30.0               18.0              20.0  "
      ]
     },
     "execution_count": 9,
     "metadata": {},
     "output_type": "execute_result"
    }
   ],
   "source": [
    "product.head(2)"
   ]
  },
  {
   "cell_type": "code",
   "execution_count": 10,
   "id": "professional-chinese",
   "metadata": {},
   "outputs": [
    {
     "data": {
      "text/html": [
       "<div>\n",
       "<style scoped>\n",
       "    .dataframe tbody tr th:only-of-type {\n",
       "        vertical-align: middle;\n",
       "    }\n",
       "\n",
       "    .dataframe tbody tr th {\n",
       "        vertical-align: top;\n",
       "    }\n",
       "\n",
       "    .dataframe thead th {\n",
       "        text-align: right;\n",
       "    }\n",
       "</style>\n",
       "<table border=\"1\" class=\"dataframe\">\n",
       "  <thead>\n",
       "    <tr style=\"text-align: right;\">\n",
       "      <th></th>\n",
       "      <th>seller_id</th>\n",
       "      <th>seller_zip_code_prefix</th>\n",
       "      <th>seller_city</th>\n",
       "      <th>seller_state</th>\n",
       "    </tr>\n",
       "  </thead>\n",
       "  <tbody>\n",
       "    <tr>\n",
       "      <th>0</th>\n",
       "      <td>3442f8959a84dea7ee197c632cb2df15</td>\n",
       "      <td>13023</td>\n",
       "      <td>campinas</td>\n",
       "      <td>SP</td>\n",
       "    </tr>\n",
       "    <tr>\n",
       "      <th>1</th>\n",
       "      <td>d1b65fc7debc3361ea86b5f14c68d2e2</td>\n",
       "      <td>13844</td>\n",
       "      <td>mogi guacu</td>\n",
       "      <td>SP</td>\n",
       "    </tr>\n",
       "  </tbody>\n",
       "</table>\n",
       "</div>"
      ],
      "text/plain": [
       "                          seller_id  seller_zip_code_prefix seller_city  \\\n",
       "0  3442f8959a84dea7ee197c632cb2df15                   13023    campinas   \n",
       "1  d1b65fc7debc3361ea86b5f14c68d2e2                   13844  mogi guacu   \n",
       "\n",
       "  seller_state  \n",
       "0           SP  \n",
       "1           SP  "
      ]
     },
     "execution_count": 10,
     "metadata": {},
     "output_type": "execute_result"
    }
   ],
   "source": [
    "sellers.head(2)"
   ]
  },
  {
   "cell_type": "code",
   "execution_count": 11,
   "id": "signed-belgium",
   "metadata": {},
   "outputs": [
    {
     "data": {
      "text/html": [
       "<div>\n",
       "<style scoped>\n",
       "    .dataframe tbody tr th:only-of-type {\n",
       "        vertical-align: middle;\n",
       "    }\n",
       "\n",
       "    .dataframe tbody tr th {\n",
       "        vertical-align: top;\n",
       "    }\n",
       "\n",
       "    .dataframe thead th {\n",
       "        text-align: right;\n",
       "    }\n",
       "</style>\n",
       "<table border=\"1\" class=\"dataframe\">\n",
       "  <thead>\n",
       "    <tr style=\"text-align: right;\">\n",
       "      <th></th>\n",
       "      <th>product_category_name</th>\n",
       "      <th>product_category_name_english</th>\n",
       "    </tr>\n",
       "  </thead>\n",
       "  <tbody>\n",
       "    <tr>\n",
       "      <th>0</th>\n",
       "      <td>beleza_saude</td>\n",
       "      <td>health_beauty</td>\n",
       "    </tr>\n",
       "    <tr>\n",
       "      <th>1</th>\n",
       "      <td>informatica_acessorios</td>\n",
       "      <td>computers_accessories</td>\n",
       "    </tr>\n",
       "  </tbody>\n",
       "</table>\n",
       "</div>"
      ],
      "text/plain": [
       "    product_category_name product_category_name_english\n",
       "0            beleza_saude                 health_beauty\n",
       "1  informatica_acessorios         computers_accessories"
      ]
     },
     "execution_count": 11,
     "metadata": {},
     "output_type": "execute_result"
    }
   ],
   "source": [
    "prd_name.head(2)"
   ]
  },
  {
   "cell_type": "markdown",
   "id": "handed-dubai",
   "metadata": {},
   "source": [
    "#### Merge all DataFrames"
   ]
  },
  {
   "cell_type": "code",
   "execution_count": 12,
   "id": "mexican-dryer",
   "metadata": {},
   "outputs": [],
   "source": [
    "temp1 = order.merge(pay,left_on='order_id',right_on='order_id')\n",
    "temp2 = temp1.merge(review,left_on='order_id',right_on='order_id')\n",
    "temp3 = temp2.merge(ord_cust,left_on='order_id',right_on='order_id')\n",
    "temp4 = temp3.merge(product,left_on='product_id',right_on='product_id')\n",
    "temp5 = temp4.merge(sellers,left_on='seller_id',right_on='seller_id')\n",
    "ord_final = temp5.merge(prd_name,left_on='product_category_name',right_on='product_category_name')"
   ]
  },
  {
   "cell_type": "code",
   "execution_count": 13,
   "id": "owned-algebra",
   "metadata": {},
   "outputs": [],
   "source": [
    "ord_final.to_csv('~/Data_mining/DataGenerated/ord_final.csv',index=False)"
   ]
  },
  {
   "cell_type": "raw",
   "id": "cordless-insulation",
   "metadata": {},
   "source": [
    "cust_final = cust.merge(loc,left_on='customer_zip_code_prefix',right_on='geolocation_zip_code_prefix')"
   ]
  },
  {
   "cell_type": "raw",
   "id": "actual-evaluation",
   "metadata": {},
   "source": [
    "ord_final.to_csv('~/Data_mining/DataGenerated/cust_final.csv',index=False)"
   ]
  },
  {
   "cell_type": "code",
   "execution_count": 14,
   "id": "failing-aberdeen",
   "metadata": {},
   "outputs": [],
   "source": [
    "seller_final = sellers.merge(loc,left_on='seller_zip_code_prefix',right_on='geolocation_zip_code_prefix')"
   ]
  },
  {
   "cell_type": "raw",
   "id": "bridal-broadcast",
   "metadata": {},
   "source": [
    "ord_final.to_csv('~/Data_mining/DataGenerated/seller_final.csv',index=False)"
   ]
  },
  {
   "cell_type": "code",
   "execution_count": 15,
   "id": "built-republic",
   "metadata": {},
   "outputs": [
    {
     "data": {
      "text/plain": [
       "order_id                              0\n",
       "order_item_id                         0\n",
       "product_id                            0\n",
       "seller_id                             0\n",
       "shipping_limit_date                   0\n",
       "price                                 0\n",
       "freight_value                         0\n",
       "payment_sequential                    0\n",
       "payment_type                          0\n",
       "payment_installments                  0\n",
       "payment_value                         0\n",
       "review_id                             0\n",
       "review_score                          0\n",
       "review_comment_title             102585\n",
       "review_comment_message            66703\n",
       "review_creation_date                  0\n",
       "review_answer_timestamp               0\n",
       "customer_id                           0\n",
       "order_status                          0\n",
       "order_purchase_timestamp              0\n",
       "order_approved_at                    14\n",
       "order_delivered_carrier_date       1213\n",
       "order_delivered_customer_date      2515\n",
       "order_estimated_delivery_date         0\n",
       "product_category_name                 0\n",
       "product_name_lenght                   0\n",
       "product_description_lenght            0\n",
       "product_photos_qty                    0\n",
       "product_weight_g                      1\n",
       "product_length_cm                     1\n",
       "product_height_cm                     1\n",
       "product_width_cm                      1\n",
       "seller_zip_code_prefix                0\n",
       "seller_city                           0\n",
       "seller_state                          0\n",
       "product_category_name_english         0\n",
       "dtype: int64"
      ]
     },
     "execution_count": 15,
     "metadata": {},
     "output_type": "execute_result"
    }
   ],
   "source": [
    "ord_final.isnull().sum()"
   ]
  },
  {
   "cell_type": "code",
   "execution_count": 16,
   "id": "creative-original",
   "metadata": {},
   "outputs": [],
   "source": [
    "ord_final = ord_final.drop(ord_final.loc[ord_final['product_weight_g'].isna()].index)"
   ]
  },
  {
   "cell_type": "code",
   "execution_count": 17,
   "id": "empirical-china",
   "metadata": {},
   "outputs": [
    {
     "data": {
      "text/html": [
       "<div>\n",
       "<style scoped>\n",
       "    .dataframe tbody tr th:only-of-type {\n",
       "        vertical-align: middle;\n",
       "    }\n",
       "\n",
       "    .dataframe tbody tr th {\n",
       "        vertical-align: top;\n",
       "    }\n",
       "\n",
       "    .dataframe thead th {\n",
       "        text-align: right;\n",
       "    }\n",
       "</style>\n",
       "<table border=\"1\" class=\"dataframe\">\n",
       "  <thead>\n",
       "    <tr style=\"text-align: right;\">\n",
       "      <th></th>\n",
       "      <th>order_id</th>\n",
       "      <th>order_item_id</th>\n",
       "      <th>product_id</th>\n",
       "      <th>seller_id</th>\n",
       "      <th>shipping_limit_date</th>\n",
       "      <th>price</th>\n",
       "      <th>freight_value</th>\n",
       "      <th>payment_sequential</th>\n",
       "      <th>payment_type</th>\n",
       "      <th>payment_installments</th>\n",
       "      <th>payment_value</th>\n",
       "      <th>review_id</th>\n",
       "      <th>review_score</th>\n",
       "      <th>review_comment_title</th>\n",
       "      <th>review_comment_message</th>\n",
       "      <th>review_creation_date</th>\n",
       "      <th>review_answer_timestamp</th>\n",
       "      <th>customer_id</th>\n",
       "      <th>order_status</th>\n",
       "      <th>order_purchase_timestamp</th>\n",
       "      <th>order_approved_at</th>\n",
       "      <th>order_delivered_carrier_date</th>\n",
       "      <th>order_delivered_customer_date</th>\n",
       "      <th>order_estimated_delivery_date</th>\n",
       "      <th>product_category_name</th>\n",
       "      <th>product_name_lenght</th>\n",
       "      <th>product_description_lenght</th>\n",
       "      <th>product_photos_qty</th>\n",
       "      <th>product_weight_g</th>\n",
       "      <th>product_length_cm</th>\n",
       "      <th>product_height_cm</th>\n",
       "      <th>product_width_cm</th>\n",
       "      <th>seller_zip_code_prefix</th>\n",
       "      <th>seller_city</th>\n",
       "      <th>seller_state</th>\n",
       "      <th>product_category_name_english</th>\n",
       "    </tr>\n",
       "  </thead>\n",
       "  <tbody>\n",
       "    <tr>\n",
       "      <th>0</th>\n",
       "      <td>00010242fe8c5a6d1ba2dd792cb16214</td>\n",
       "      <td>1</td>\n",
       "      <td>4244733e06e7ecb4970a6e2683c13e61</td>\n",
       "      <td>48436dade18ac8b2bce089ec2a041202</td>\n",
       "      <td>2017-09-19 09:45:35</td>\n",
       "      <td>58.90</td>\n",
       "      <td>13.29</td>\n",
       "      <td>1</td>\n",
       "      <td>credit_card</td>\n",
       "      <td>2</td>\n",
       "      <td>72.19</td>\n",
       "      <td>97ca439bc427b48bc1cd7177abe71365</td>\n",
       "      <td>5</td>\n",
       "      <td>NaN</td>\n",
       "      <td>Perfeito, produto entregue antes do combinado.</td>\n",
       "      <td>2017-09-21 00:00:00</td>\n",
       "      <td>2017-09-22 10:57:03</td>\n",
       "      <td>3ce436f183e68e07877b285a838db11a</td>\n",
       "      <td>delivered</td>\n",
       "      <td>2017-09-13 08:59:02</td>\n",
       "      <td>2017-09-13 09:45:35</td>\n",
       "      <td>2017-09-19 18:34:16</td>\n",
       "      <td>2017-09-20 23:43:48</td>\n",
       "      <td>2017-09-29 00:00:00</td>\n",
       "      <td>cool_stuff</td>\n",
       "      <td>58.0</td>\n",
       "      <td>598.0</td>\n",
       "      <td>4.0</td>\n",
       "      <td>650.0</td>\n",
       "      <td>28.0</td>\n",
       "      <td>9.0</td>\n",
       "      <td>14.0</td>\n",
       "      <td>27277</td>\n",
       "      <td>volta redonda</td>\n",
       "      <td>SP</td>\n",
       "      <td>cool_stuff</td>\n",
       "    </tr>\n",
       "    <tr>\n",
       "      <th>1</th>\n",
       "      <td>130898c0987d1801452a8ed92a670612</td>\n",
       "      <td>1</td>\n",
       "      <td>4244733e06e7ecb4970a6e2683c13e61</td>\n",
       "      <td>48436dade18ac8b2bce089ec2a041202</td>\n",
       "      <td>2017-07-05 02:44:11</td>\n",
       "      <td>55.90</td>\n",
       "      <td>17.96</td>\n",
       "      <td>1</td>\n",
       "      <td>boleto</td>\n",
       "      <td>1</td>\n",
       "      <td>73.86</td>\n",
       "      <td>b11cba360bbe71410c291b764753d37f</td>\n",
       "      <td>5</td>\n",
       "      <td>NaN</td>\n",
       "      <td>lannister como sempre, entregou certinho e dentro do prazo. recomendo muito</td>\n",
       "      <td>2017-07-14 00:00:00</td>\n",
       "      <td>2017-07-17 12:50:07</td>\n",
       "      <td>e6eecc5a77de221464d1c4eaff0a9b64</td>\n",
       "      <td>delivered</td>\n",
       "      <td>2017-06-28 11:52:20</td>\n",
       "      <td>2017-06-29 02:44:11</td>\n",
       "      <td>2017-07-05 12:00:33</td>\n",
       "      <td>2017-07-13 20:39:29</td>\n",
       "      <td>2017-07-26 00:00:00</td>\n",
       "      <td>cool_stuff</td>\n",
       "      <td>58.0</td>\n",
       "      <td>598.0</td>\n",
       "      <td>4.0</td>\n",
       "      <td>650.0</td>\n",
       "      <td>28.0</td>\n",
       "      <td>9.0</td>\n",
       "      <td>14.0</td>\n",
       "      <td>27277</td>\n",
       "      <td>volta redonda</td>\n",
       "      <td>SP</td>\n",
       "      <td>cool_stuff</td>\n",
       "    </tr>\n",
       "    <tr>\n",
       "      <th>2</th>\n",
       "      <td>532ed5e14e24ae1f0d735b91524b98b9</td>\n",
       "      <td>1</td>\n",
       "      <td>4244733e06e7ecb4970a6e2683c13e61</td>\n",
       "      <td>48436dade18ac8b2bce089ec2a041202</td>\n",
       "      <td>2018-05-23 10:56:25</td>\n",
       "      <td>64.90</td>\n",
       "      <td>18.33</td>\n",
       "      <td>1</td>\n",
       "      <td>credit_card</td>\n",
       "      <td>2</td>\n",
       "      <td>83.23</td>\n",
       "      <td>af01c4017c5ab46df6cc810e069e654a</td>\n",
       "      <td>4</td>\n",
       "      <td>super recomendo</td>\n",
       "      <td>carrinho muito bonito</td>\n",
       "      <td>2018-06-05 00:00:00</td>\n",
       "      <td>2018-06-06 21:41:12</td>\n",
       "      <td>4ef55bf80f711b372afebcb7c715344a</td>\n",
       "      <td>delivered</td>\n",
       "      <td>2018-05-18 10:25:53</td>\n",
       "      <td>2018-05-18 12:31:43</td>\n",
       "      <td>2018-05-23 14:05:00</td>\n",
       "      <td>2018-06-04 18:34:26</td>\n",
       "      <td>2018-06-07 00:00:00</td>\n",
       "      <td>cool_stuff</td>\n",
       "      <td>58.0</td>\n",
       "      <td>598.0</td>\n",
       "      <td>4.0</td>\n",
       "      <td>650.0</td>\n",
       "      <td>28.0</td>\n",
       "      <td>9.0</td>\n",
       "      <td>14.0</td>\n",
       "      <td>27277</td>\n",
       "      <td>volta redonda</td>\n",
       "      <td>SP</td>\n",
       "      <td>cool_stuff</td>\n",
       "    </tr>\n",
       "    <tr>\n",
       "      <th>3</th>\n",
       "      <td>6f8c31653edb8c83e1a739408b5ff750</td>\n",
       "      <td>1</td>\n",
       "      <td>4244733e06e7ecb4970a6e2683c13e61</td>\n",
       "      <td>48436dade18ac8b2bce089ec2a041202</td>\n",
       "      <td>2017-08-07 18:55:08</td>\n",
       "      <td>58.90</td>\n",
       "      <td>16.17</td>\n",
       "      <td>1</td>\n",
       "      <td>credit_card</td>\n",
       "      <td>3</td>\n",
       "      <td>75.07</td>\n",
       "      <td>8304ff37d8b16b57086fa283fe0c44f8</td>\n",
       "      <td>5</td>\n",
       "      <td>NaN</td>\n",
       "      <td>NaN</td>\n",
       "      <td>2017-08-10 00:00:00</td>\n",
       "      <td>2017-08-13 03:35:17</td>\n",
       "      <td>30407a72ad8b3f4df4d15369126b20c9</td>\n",
       "      <td>delivered</td>\n",
       "      <td>2017-08-01 18:38:42</td>\n",
       "      <td>2017-08-01 18:55:08</td>\n",
       "      <td>2017-08-02 19:07:36</td>\n",
       "      <td>2017-08-09 21:26:33</td>\n",
       "      <td>2017-08-25 00:00:00</td>\n",
       "      <td>cool_stuff</td>\n",
       "      <td>58.0</td>\n",
       "      <td>598.0</td>\n",
       "      <td>4.0</td>\n",
       "      <td>650.0</td>\n",
       "      <td>28.0</td>\n",
       "      <td>9.0</td>\n",
       "      <td>14.0</td>\n",
       "      <td>27277</td>\n",
       "      <td>volta redonda</td>\n",
       "      <td>SP</td>\n",
       "      <td>cool_stuff</td>\n",
       "    </tr>\n",
       "    <tr>\n",
       "      <th>4</th>\n",
       "      <td>7d19f4ef4d04461989632411b7e588b9</td>\n",
       "      <td>1</td>\n",
       "      <td>4244733e06e7ecb4970a6e2683c13e61</td>\n",
       "      <td>48436dade18ac8b2bce089ec2a041202</td>\n",
       "      <td>2017-08-16 22:05:11</td>\n",
       "      <td>58.90</td>\n",
       "      <td>13.29</td>\n",
       "      <td>1</td>\n",
       "      <td>credit_card</td>\n",
       "      <td>4</td>\n",
       "      <td>72.19</td>\n",
       "      <td>426f43a82185969503fb3c86241a9535</td>\n",
       "      <td>5</td>\n",
       "      <td>NaN</td>\n",
       "      <td>NaN</td>\n",
       "      <td>2017-08-25 00:00:00</td>\n",
       "      <td>2017-08-28 00:51:18</td>\n",
       "      <td>91a792fef70ecd8cc69d3c7feb3d12da</td>\n",
       "      <td>delivered</td>\n",
       "      <td>2017-08-10 21:48:40</td>\n",
       "      <td>2017-08-10 22:05:11</td>\n",
       "      <td>2017-08-11 19:43:07</td>\n",
       "      <td>2017-08-24 20:04:21</td>\n",
       "      <td>2017-09-01 00:00:00</td>\n",
       "      <td>cool_stuff</td>\n",
       "      <td>58.0</td>\n",
       "      <td>598.0</td>\n",
       "      <td>4.0</td>\n",
       "      <td>650.0</td>\n",
       "      <td>28.0</td>\n",
       "      <td>9.0</td>\n",
       "      <td>14.0</td>\n",
       "      <td>27277</td>\n",
       "      <td>volta redonda</td>\n",
       "      <td>SP</td>\n",
       "      <td>cool_stuff</td>\n",
       "    </tr>\n",
       "    <tr>\n",
       "      <th>...</th>\n",
       "      <td>...</td>\n",
       "      <td>...</td>\n",
       "      <td>...</td>\n",
       "      <td>...</td>\n",
       "      <td>...</td>\n",
       "      <td>...</td>\n",
       "      <td>...</td>\n",
       "      <td>...</td>\n",
       "      <td>...</td>\n",
       "      <td>...</td>\n",
       "      <td>...</td>\n",
       "      <td>...</td>\n",
       "      <td>...</td>\n",
       "      <td>...</td>\n",
       "      <td>...</td>\n",
       "      <td>...</td>\n",
       "      <td>...</td>\n",
       "      <td>...</td>\n",
       "      <td>...</td>\n",
       "      <td>...</td>\n",
       "      <td>...</td>\n",
       "      <td>...</td>\n",
       "      <td>...</td>\n",
       "      <td>...</td>\n",
       "      <td>...</td>\n",
       "      <td>...</td>\n",
       "      <td>...</td>\n",
       "      <td>...</td>\n",
       "      <td>...</td>\n",
       "      <td>...</td>\n",
       "      <td>...</td>\n",
       "      <td>...</td>\n",
       "      <td>...</td>\n",
       "      <td>...</td>\n",
       "      <td>...</td>\n",
       "      <td>...</td>\n",
       "    </tr>\n",
       "    <tr>\n",
       "      <th>116576</th>\n",
       "      <td>2c12150c742ae2fa48bc703964c16c5f</td>\n",
       "      <td>1</td>\n",
       "      <td>2b54fb9a4acf707537eb53eb2458c241</td>\n",
       "      <td>ef728fa1f17436c91ed1ccd03dcf9631</td>\n",
       "      <td>2018-08-02 17:50:12</td>\n",
       "      <td>57.90</td>\n",
       "      <td>19.60</td>\n",
       "      <td>1</td>\n",
       "      <td>credit_card</td>\n",
       "      <td>7</td>\n",
       "      <td>77.50</td>\n",
       "      <td>6b7c670a784ae6d3f17ee1d4b28d197e</td>\n",
       "      <td>5</td>\n",
       "      <td>NaN</td>\n",
       "      <td>NaN</td>\n",
       "      <td>2018-08-04 00:00:00</td>\n",
       "      <td>2018-08-05 22:10:19</td>\n",
       "      <td>ab0cf72dfe0538a63a57d6905ccb7b57</td>\n",
       "      <td>delivered</td>\n",
       "      <td>2018-07-28 17:55:27</td>\n",
       "      <td>2018-07-29 18:30:31</td>\n",
       "      <td>2018-07-30 14:54:00</td>\n",
       "      <td>2018-08-03 17:46:46</td>\n",
       "      <td>2018-08-16 00:00:00</td>\n",
       "      <td>artes_e_artesanato</td>\n",
       "      <td>53.0</td>\n",
       "      <td>923.0</td>\n",
       "      <td>5.0</td>\n",
       "      <td>1000.0</td>\n",
       "      <td>25.0</td>\n",
       "      <td>25.0</td>\n",
       "      <td>25.0</td>\n",
       "      <td>17201</td>\n",
       "      <td>jau</td>\n",
       "      <td>SP</td>\n",
       "      <td>arts_and_craftmanship</td>\n",
       "    </tr>\n",
       "    <tr>\n",
       "      <th>116577</th>\n",
       "      <td>2ef4a11b6e24fdfbb43b92cb5f95edff</td>\n",
       "      <td>1</td>\n",
       "      <td>9c313adb4b38a55b092f53f83f78be9e</td>\n",
       "      <td>ef728fa1f17436c91ed1ccd03dcf9631</td>\n",
       "      <td>2018-07-30 09:17:39</td>\n",
       "      <td>19.00</td>\n",
       "      <td>12.86</td>\n",
       "      <td>1</td>\n",
       "      <td>credit_card</td>\n",
       "      <td>1</td>\n",
       "      <td>84.63</td>\n",
       "      <td>ad0de1dda4fa03e8efb68c481b31ebf8</td>\n",
       "      <td>3</td>\n",
       "      <td>A FOLHA NAO FRISA</td>\n",
       "      <td>Um dos frisadores que comprei, especificamente a FOLHA NAO FRISA! NAO REALIZA SUA FUNÇAO. Nao molda o eva, Testei com varios materiais diferentes e infelizmente nao funciona.</td>\n",
       "      <td>2018-07-28 00:00:00</td>\n",
       "      <td>2018-08-03 01:58:42</td>\n",
       "      <td>ee1cfdc92e449920e25d3ca4ab4da4f6</td>\n",
       "      <td>delivered</td>\n",
       "      <td>2018-07-23 18:35:14</td>\n",
       "      <td>2018-07-24 10:31:25</td>\n",
       "      <td>2018-07-24 14:37:00</td>\n",
       "      <td>2018-07-27 14:04:10</td>\n",
       "      <td>2018-08-06 00:00:00</td>\n",
       "      <td>artes_e_artesanato</td>\n",
       "      <td>32.0</td>\n",
       "      <td>660.0</td>\n",
       "      <td>3.0</td>\n",
       "      <td>500.0</td>\n",
       "      <td>16.0</td>\n",
       "      <td>6.0</td>\n",
       "      <td>16.0</td>\n",
       "      <td>17201</td>\n",
       "      <td>jau</td>\n",
       "      <td>SP</td>\n",
       "      <td>arts_and_craftmanship</td>\n",
       "    </tr>\n",
       "    <tr>\n",
       "      <th>116578</th>\n",
       "      <td>2ef4a11b6e24fdfbb43b92cb5f95edff</td>\n",
       "      <td>2</td>\n",
       "      <td>eacb104882d39ffb53140b1d1860a7c3</td>\n",
       "      <td>ef728fa1f17436c91ed1ccd03dcf9631</td>\n",
       "      <td>2018-07-30 09:17:39</td>\n",
       "      <td>39.90</td>\n",
       "      <td>12.87</td>\n",
       "      <td>1</td>\n",
       "      <td>credit_card</td>\n",
       "      <td>1</td>\n",
       "      <td>84.63</td>\n",
       "      <td>ad0de1dda4fa03e8efb68c481b31ebf8</td>\n",
       "      <td>3</td>\n",
       "      <td>A FOLHA NAO FRISA</td>\n",
       "      <td>Um dos frisadores que comprei, especificamente a FOLHA NAO FRISA! NAO REALIZA SUA FUNÇAO. Nao molda o eva, Testei com varios materiais diferentes e infelizmente nao funciona.</td>\n",
       "      <td>2018-07-28 00:00:00</td>\n",
       "      <td>2018-08-03 01:58:42</td>\n",
       "      <td>ee1cfdc92e449920e25d3ca4ab4da4f6</td>\n",
       "      <td>delivered</td>\n",
       "      <td>2018-07-23 18:35:14</td>\n",
       "      <td>2018-07-24 10:31:25</td>\n",
       "      <td>2018-07-24 14:37:00</td>\n",
       "      <td>2018-07-27 14:04:10</td>\n",
       "      <td>2018-08-06 00:00:00</td>\n",
       "      <td>artes_e_artesanato</td>\n",
       "      <td>57.0</td>\n",
       "      <td>942.0</td>\n",
       "      <td>5.0</td>\n",
       "      <td>500.0</td>\n",
       "      <td>21.0</td>\n",
       "      <td>7.0</td>\n",
       "      <td>14.0</td>\n",
       "      <td>17201</td>\n",
       "      <td>jau</td>\n",
       "      <td>SP</td>\n",
       "      <td>arts_and_craftmanship</td>\n",
       "    </tr>\n",
       "    <tr>\n",
       "      <th>116579</th>\n",
       "      <td>9f7ba492c273ffac8f90a623b8eadd3b</td>\n",
       "      <td>1</td>\n",
       "      <td>5aa0d6ed4e6c0995d62090cd82cde89a</td>\n",
       "      <td>ef728fa1f17436c91ed1ccd03dcf9631</td>\n",
       "      <td>2018-08-28 03:24:24</td>\n",
       "      <td>11.90</td>\n",
       "      <td>12.79</td>\n",
       "      <td>1</td>\n",
       "      <td>boleto</td>\n",
       "      <td>1</td>\n",
       "      <td>24.69</td>\n",
       "      <td>24e88b5f641a6a3219ce7a730509d570</td>\n",
       "      <td>5</td>\n",
       "      <td>NaN</td>\n",
       "      <td>Excelente</td>\n",
       "      <td>2018-08-28 00:00:00</td>\n",
       "      <td>2018-08-31 00:26:10</td>\n",
       "      <td>c61336d6c835632048f973d2f2db598d</td>\n",
       "      <td>delivered</td>\n",
       "      <td>2018-08-23 12:31:37</td>\n",
       "      <td>2018-08-24 03:24:24</td>\n",
       "      <td>2018-08-24 15:14:00</td>\n",
       "      <td>2018-08-28 02:06:35</td>\n",
       "      <td>2018-09-03 00:00:00</td>\n",
       "      <td>artes_e_artesanato</td>\n",
       "      <td>29.0</td>\n",
       "      <td>654.0</td>\n",
       "      <td>3.0</td>\n",
       "      <td>200.0</td>\n",
       "      <td>16.0</td>\n",
       "      <td>6.0</td>\n",
       "      <td>16.0</td>\n",
       "      <td>17201</td>\n",
       "      <td>jau</td>\n",
       "      <td>SP</td>\n",
       "      <td>arts_and_craftmanship</td>\n",
       "    </tr>\n",
       "    <tr>\n",
       "      <th>116580</th>\n",
       "      <td>edcf1e1eeb52381be9388c90152be52d</td>\n",
       "      <td>1</td>\n",
       "      <td>6bb18295cc019bf3b6dc7c773411d530</td>\n",
       "      <td>04ee0ec01589969663ba5967c0e0bdc0</td>\n",
       "      <td>2018-08-27 11:50:47</td>\n",
       "      <td>289.49</td>\n",
       "      <td>24.83</td>\n",
       "      <td>1</td>\n",
       "      <td>credit_card</td>\n",
       "      <td>5</td>\n",
       "      <td>314.32</td>\n",
       "      <td>a6a6d2f97b28e8aca22046635855fe63</td>\n",
       "      <td>5</td>\n",
       "      <td>Pedido entregue</td>\n",
       "      <td>Recebi em 3 dias muito rápido tudo perfeito parabéns</td>\n",
       "      <td>2018-08-25 00:00:00</td>\n",
       "      <td>2018-08-27 16:43:30</td>\n",
       "      <td>ce2172509c4149d65212484eb761bc37</td>\n",
       "      <td>delivered</td>\n",
       "      <td>2018-08-21 11:29:05</td>\n",
       "      <td>2018-08-21 11:50:47</td>\n",
       "      <td>2018-08-21 15:37:00</td>\n",
       "      <td>2018-08-24 13:06:25</td>\n",
       "      <td>2018-09-06 00:00:00</td>\n",
       "      <td>artes_e_artesanato</td>\n",
       "      <td>47.0</td>\n",
       "      <td>1002.0</td>\n",
       "      <td>3.0</td>\n",
       "      <td>1900.0</td>\n",
       "      <td>19.0</td>\n",
       "      <td>16.0</td>\n",
       "      <td>16.0</td>\n",
       "      <td>95910</td>\n",
       "      <td>lajeado</td>\n",
       "      <td>RS</td>\n",
       "      <td>arts_and_craftmanship</td>\n",
       "    </tr>\n",
       "  </tbody>\n",
       "</table>\n",
       "<p>116566 rows × 36 columns</p>\n",
       "</div>"
      ],
      "text/plain": [
       "                                order_id  order_item_id  \\\n",
       "0       00010242fe8c5a6d1ba2dd792cb16214              1   \n",
       "1       130898c0987d1801452a8ed92a670612              1   \n",
       "2       532ed5e14e24ae1f0d735b91524b98b9              1   \n",
       "3       6f8c31653edb8c83e1a739408b5ff750              1   \n",
       "4       7d19f4ef4d04461989632411b7e588b9              1   \n",
       "...                                  ...            ...   \n",
       "116576  2c12150c742ae2fa48bc703964c16c5f              1   \n",
       "116577  2ef4a11b6e24fdfbb43b92cb5f95edff              1   \n",
       "116578  2ef4a11b6e24fdfbb43b92cb5f95edff              2   \n",
       "116579  9f7ba492c273ffac8f90a623b8eadd3b              1   \n",
       "116580  edcf1e1eeb52381be9388c90152be52d              1   \n",
       "\n",
       "                              product_id                         seller_id  \\\n",
       "0       4244733e06e7ecb4970a6e2683c13e61  48436dade18ac8b2bce089ec2a041202   \n",
       "1       4244733e06e7ecb4970a6e2683c13e61  48436dade18ac8b2bce089ec2a041202   \n",
       "2       4244733e06e7ecb4970a6e2683c13e61  48436dade18ac8b2bce089ec2a041202   \n",
       "3       4244733e06e7ecb4970a6e2683c13e61  48436dade18ac8b2bce089ec2a041202   \n",
       "4       4244733e06e7ecb4970a6e2683c13e61  48436dade18ac8b2bce089ec2a041202   \n",
       "...                                  ...                               ...   \n",
       "116576  2b54fb9a4acf707537eb53eb2458c241  ef728fa1f17436c91ed1ccd03dcf9631   \n",
       "116577  9c313adb4b38a55b092f53f83f78be9e  ef728fa1f17436c91ed1ccd03dcf9631   \n",
       "116578  eacb104882d39ffb53140b1d1860a7c3  ef728fa1f17436c91ed1ccd03dcf9631   \n",
       "116579  5aa0d6ed4e6c0995d62090cd82cde89a  ef728fa1f17436c91ed1ccd03dcf9631   \n",
       "116580  6bb18295cc019bf3b6dc7c773411d530  04ee0ec01589969663ba5967c0e0bdc0   \n",
       "\n",
       "        shipping_limit_date   price  freight_value  payment_sequential  \\\n",
       "0       2017-09-19 09:45:35   58.90          13.29                   1   \n",
       "1       2017-07-05 02:44:11   55.90          17.96                   1   \n",
       "2       2018-05-23 10:56:25   64.90          18.33                   1   \n",
       "3       2017-08-07 18:55:08   58.90          16.17                   1   \n",
       "4       2017-08-16 22:05:11   58.90          13.29                   1   \n",
       "...                     ...     ...            ...                 ...   \n",
       "116576  2018-08-02 17:50:12   57.90          19.60                   1   \n",
       "116577  2018-07-30 09:17:39   19.00          12.86                   1   \n",
       "116578  2018-07-30 09:17:39   39.90          12.87                   1   \n",
       "116579  2018-08-28 03:24:24   11.90          12.79                   1   \n",
       "116580  2018-08-27 11:50:47  289.49          24.83                   1   \n",
       "\n",
       "       payment_type  payment_installments  payment_value  \\\n",
       "0       credit_card                     2          72.19   \n",
       "1            boleto                     1          73.86   \n",
       "2       credit_card                     2          83.23   \n",
       "3       credit_card                     3          75.07   \n",
       "4       credit_card                     4          72.19   \n",
       "...             ...                   ...            ...   \n",
       "116576  credit_card                     7          77.50   \n",
       "116577  credit_card                     1          84.63   \n",
       "116578  credit_card                     1          84.63   \n",
       "116579       boleto                     1          24.69   \n",
       "116580  credit_card                     5         314.32   \n",
       "\n",
       "                               review_id  review_score review_comment_title  \\\n",
       "0       97ca439bc427b48bc1cd7177abe71365             5                  NaN   \n",
       "1       b11cba360bbe71410c291b764753d37f             5                  NaN   \n",
       "2       af01c4017c5ab46df6cc810e069e654a             4      super recomendo   \n",
       "3       8304ff37d8b16b57086fa283fe0c44f8             5                  NaN   \n",
       "4       426f43a82185969503fb3c86241a9535             5                  NaN   \n",
       "...                                  ...           ...                  ...   \n",
       "116576  6b7c670a784ae6d3f17ee1d4b28d197e             5                  NaN   \n",
       "116577  ad0de1dda4fa03e8efb68c481b31ebf8             3    A FOLHA NAO FRISA   \n",
       "116578  ad0de1dda4fa03e8efb68c481b31ebf8             3    A FOLHA NAO FRISA   \n",
       "116579  24e88b5f641a6a3219ce7a730509d570             5                  NaN   \n",
       "116580  a6a6d2f97b28e8aca22046635855fe63             5      Pedido entregue   \n",
       "\n",
       "                                                                                                                                                                review_comment_message  \\\n",
       "0                                                                                                                                       Perfeito, produto entregue antes do combinado.   \n",
       "1                                                                                                          lannister como sempre, entregou certinho e dentro do prazo. recomendo muito   \n",
       "2                                                                                                                                                                carrinho muito bonito   \n",
       "3                                                                                                                                                                                  NaN   \n",
       "4                                                                                                                                                                                  NaN   \n",
       "...                                                                                                                                                                                ...   \n",
       "116576                                                                                                                                                                             NaN   \n",
       "116577  Um dos frisadores que comprei, especificamente a FOLHA NAO FRISA! NAO REALIZA SUA FUNÇAO. Nao molda o eva, Testei com varios materiais diferentes e infelizmente nao funciona.   \n",
       "116578  Um dos frisadores que comprei, especificamente a FOLHA NAO FRISA! NAO REALIZA SUA FUNÇAO. Nao molda o eva, Testei com varios materiais diferentes e infelizmente nao funciona.   \n",
       "116579                                                                                                                                                                       Excelente   \n",
       "116580                                                                                                                           Recebi em 3 dias muito rápido tudo perfeito parabéns    \n",
       "\n",
       "       review_creation_date review_answer_timestamp  \\\n",
       "0       2017-09-21 00:00:00     2017-09-22 10:57:03   \n",
       "1       2017-07-14 00:00:00     2017-07-17 12:50:07   \n",
       "2       2018-06-05 00:00:00     2018-06-06 21:41:12   \n",
       "3       2017-08-10 00:00:00     2017-08-13 03:35:17   \n",
       "4       2017-08-25 00:00:00     2017-08-28 00:51:18   \n",
       "...                     ...                     ...   \n",
       "116576  2018-08-04 00:00:00     2018-08-05 22:10:19   \n",
       "116577  2018-07-28 00:00:00     2018-08-03 01:58:42   \n",
       "116578  2018-07-28 00:00:00     2018-08-03 01:58:42   \n",
       "116579  2018-08-28 00:00:00     2018-08-31 00:26:10   \n",
       "116580  2018-08-25 00:00:00     2018-08-27 16:43:30   \n",
       "\n",
       "                             customer_id order_status  \\\n",
       "0       3ce436f183e68e07877b285a838db11a    delivered   \n",
       "1       e6eecc5a77de221464d1c4eaff0a9b64    delivered   \n",
       "2       4ef55bf80f711b372afebcb7c715344a    delivered   \n",
       "3       30407a72ad8b3f4df4d15369126b20c9    delivered   \n",
       "4       91a792fef70ecd8cc69d3c7feb3d12da    delivered   \n",
       "...                                  ...          ...   \n",
       "116576  ab0cf72dfe0538a63a57d6905ccb7b57    delivered   \n",
       "116577  ee1cfdc92e449920e25d3ca4ab4da4f6    delivered   \n",
       "116578  ee1cfdc92e449920e25d3ca4ab4da4f6    delivered   \n",
       "116579  c61336d6c835632048f973d2f2db598d    delivered   \n",
       "116580  ce2172509c4149d65212484eb761bc37    delivered   \n",
       "\n",
       "       order_purchase_timestamp    order_approved_at  \\\n",
       "0           2017-09-13 08:59:02  2017-09-13 09:45:35   \n",
       "1           2017-06-28 11:52:20  2017-06-29 02:44:11   \n",
       "2           2018-05-18 10:25:53  2018-05-18 12:31:43   \n",
       "3           2017-08-01 18:38:42  2017-08-01 18:55:08   \n",
       "4           2017-08-10 21:48:40  2017-08-10 22:05:11   \n",
       "...                         ...                  ...   \n",
       "116576      2018-07-28 17:55:27  2018-07-29 18:30:31   \n",
       "116577      2018-07-23 18:35:14  2018-07-24 10:31:25   \n",
       "116578      2018-07-23 18:35:14  2018-07-24 10:31:25   \n",
       "116579      2018-08-23 12:31:37  2018-08-24 03:24:24   \n",
       "116580      2018-08-21 11:29:05  2018-08-21 11:50:47   \n",
       "\n",
       "       order_delivered_carrier_date order_delivered_customer_date  \\\n",
       "0               2017-09-19 18:34:16           2017-09-20 23:43:48   \n",
       "1               2017-07-05 12:00:33           2017-07-13 20:39:29   \n",
       "2               2018-05-23 14:05:00           2018-06-04 18:34:26   \n",
       "3               2017-08-02 19:07:36           2017-08-09 21:26:33   \n",
       "4               2017-08-11 19:43:07           2017-08-24 20:04:21   \n",
       "...                             ...                           ...   \n",
       "116576          2018-07-30 14:54:00           2018-08-03 17:46:46   \n",
       "116577          2018-07-24 14:37:00           2018-07-27 14:04:10   \n",
       "116578          2018-07-24 14:37:00           2018-07-27 14:04:10   \n",
       "116579          2018-08-24 15:14:00           2018-08-28 02:06:35   \n",
       "116580          2018-08-21 15:37:00           2018-08-24 13:06:25   \n",
       "\n",
       "       order_estimated_delivery_date product_category_name  \\\n",
       "0                2017-09-29 00:00:00            cool_stuff   \n",
       "1                2017-07-26 00:00:00            cool_stuff   \n",
       "2                2018-06-07 00:00:00            cool_stuff   \n",
       "3                2017-08-25 00:00:00            cool_stuff   \n",
       "4                2017-09-01 00:00:00            cool_stuff   \n",
       "...                              ...                   ...   \n",
       "116576           2018-08-16 00:00:00    artes_e_artesanato   \n",
       "116577           2018-08-06 00:00:00    artes_e_artesanato   \n",
       "116578           2018-08-06 00:00:00    artes_e_artesanato   \n",
       "116579           2018-09-03 00:00:00    artes_e_artesanato   \n",
       "116580           2018-09-06 00:00:00    artes_e_artesanato   \n",
       "\n",
       "        product_name_lenght  product_description_lenght  product_photos_qty  \\\n",
       "0                      58.0                       598.0                 4.0   \n",
       "1                      58.0                       598.0                 4.0   \n",
       "2                      58.0                       598.0                 4.0   \n",
       "3                      58.0                       598.0                 4.0   \n",
       "4                      58.0                       598.0                 4.0   \n",
       "...                     ...                         ...                 ...   \n",
       "116576                 53.0                       923.0                 5.0   \n",
       "116577                 32.0                       660.0                 3.0   \n",
       "116578                 57.0                       942.0                 5.0   \n",
       "116579                 29.0                       654.0                 3.0   \n",
       "116580                 47.0                      1002.0                 3.0   \n",
       "\n",
       "        product_weight_g  product_length_cm  product_height_cm  \\\n",
       "0                  650.0               28.0                9.0   \n",
       "1                  650.0               28.0                9.0   \n",
       "2                  650.0               28.0                9.0   \n",
       "3                  650.0               28.0                9.0   \n",
       "4                  650.0               28.0                9.0   \n",
       "...                  ...                ...                ...   \n",
       "116576            1000.0               25.0               25.0   \n",
       "116577             500.0               16.0                6.0   \n",
       "116578             500.0               21.0                7.0   \n",
       "116579             200.0               16.0                6.0   \n",
       "116580            1900.0               19.0               16.0   \n",
       "\n",
       "        product_width_cm  seller_zip_code_prefix    seller_city seller_state  \\\n",
       "0                   14.0                   27277  volta redonda           SP   \n",
       "1                   14.0                   27277  volta redonda           SP   \n",
       "2                   14.0                   27277  volta redonda           SP   \n",
       "3                   14.0                   27277  volta redonda           SP   \n",
       "4                   14.0                   27277  volta redonda           SP   \n",
       "...                  ...                     ...            ...          ...   \n",
       "116576              25.0                   17201            jau           SP   \n",
       "116577              16.0                   17201            jau           SP   \n",
       "116578              14.0                   17201            jau           SP   \n",
       "116579              16.0                   17201            jau           SP   \n",
       "116580              16.0                   95910        lajeado           RS   \n",
       "\n",
       "       product_category_name_english  \n",
       "0                         cool_stuff  \n",
       "1                         cool_stuff  \n",
       "2                         cool_stuff  \n",
       "3                         cool_stuff  \n",
       "4                         cool_stuff  \n",
       "...                              ...  \n",
       "116576         arts_and_craftmanship  \n",
       "116577         arts_and_craftmanship  \n",
       "116578         arts_and_craftmanship  \n",
       "116579         arts_and_craftmanship  \n",
       "116580         arts_and_craftmanship  \n",
       "\n",
       "[116566 rows x 36 columns]"
      ]
     },
     "execution_count": 17,
     "metadata": {},
     "output_type": "execute_result"
    }
   ],
   "source": [
    "ord_final.loc[~(ord_final['order_approved_at'].isna())]"
   ]
  },
  {
   "cell_type": "code",
   "execution_count": 18,
   "id": "champion-vegetation",
   "metadata": {},
   "outputs": [
    {
     "data": {
      "text/plain": [
       "order_id                          object\n",
       "order_item_id                      int64\n",
       "product_id                        object\n",
       "seller_id                         object\n",
       "shipping_limit_date               object\n",
       "price                            float64\n",
       "freight_value                    float64\n",
       "payment_sequential                 int64\n",
       "payment_type                      object\n",
       "payment_installments               int64\n",
       "payment_value                    float64\n",
       "review_id                         object\n",
       "review_score                       int64\n",
       "review_comment_title              object\n",
       "review_comment_message            object\n",
       "review_creation_date              object\n",
       "review_answer_timestamp           object\n",
       "customer_id                       object\n",
       "order_status                      object\n",
       "order_purchase_timestamp          object\n",
       "order_approved_at                 object\n",
       "order_delivered_carrier_date      object\n",
       "order_delivered_customer_date     object\n",
       "order_estimated_delivery_date     object\n",
       "product_category_name             object\n",
       "product_name_lenght              float64\n",
       "product_description_lenght       float64\n",
       "product_photos_qty               float64\n",
       "product_weight_g                 float64\n",
       "product_length_cm                float64\n",
       "product_height_cm                float64\n",
       "product_width_cm                 float64\n",
       "seller_zip_code_prefix             int64\n",
       "seller_city                       object\n",
       "seller_state                      object\n",
       "product_category_name_english     object\n",
       "dtype: object"
      ]
     },
     "execution_count": 18,
     "metadata": {},
     "output_type": "execute_result"
    }
   ],
   "source": [
    "ord_final.dtypes"
   ]
  },
  {
   "cell_type": "code",
   "execution_count": 19,
   "id": "rolled-fleet",
   "metadata": {},
   "outputs": [],
   "source": [
    "ord_final['shipping_limit_date'] = pd.to_datetime(ord_final['shipping_limit_date'])\n",
    "ord_final['review_creation_date'] = pd.to_datetime(ord_final['review_creation_date'])\n",
    "ord_final['order_purchase_timestamp'] = pd.to_datetime(ord_final['order_purchase_timestamp'])\n",
    "ord_final['order_approved_at'] = pd.to_datetime(ord_final['order_approved_at'])\n",
    "ord_final['order_delivered_carrier_date'] = pd.to_datetime(ord_final['order_delivered_carrier_date'])\n",
    "ord_final['order_delivered_customer_date'] = pd.to_datetime(ord_final['order_delivered_customer_date'])\n",
    "ord_final['order_estimated_delivery_date'] = pd.to_datetime(ord_final['order_estimated_delivery_date'])\n",
    "\n"
   ]
  },
  {
   "cell_type": "code",
   "execution_count": 20,
   "id": "posted-secret",
   "metadata": {},
   "outputs": [
    {
     "data": {
      "text/plain": [
       "order_id                                 object\n",
       "order_item_id                             int64\n",
       "product_id                               object\n",
       "seller_id                                object\n",
       "shipping_limit_date              datetime64[ns]\n",
       "price                                   float64\n",
       "freight_value                           float64\n",
       "payment_sequential                        int64\n",
       "payment_type                             object\n",
       "payment_installments                      int64\n",
       "payment_value                           float64\n",
       "review_id                                object\n",
       "review_score                              int64\n",
       "review_comment_title                     object\n",
       "review_comment_message                   object\n",
       "review_creation_date             datetime64[ns]\n",
       "review_answer_timestamp                  object\n",
       "customer_id                              object\n",
       "order_status                             object\n",
       "order_purchase_timestamp         datetime64[ns]\n",
       "order_approved_at                datetime64[ns]\n",
       "order_delivered_carrier_date     datetime64[ns]\n",
       "order_delivered_customer_date    datetime64[ns]\n",
       "order_estimated_delivery_date    datetime64[ns]\n",
       "product_category_name                    object\n",
       "product_name_lenght                     float64\n",
       "product_description_lenght              float64\n",
       "product_photos_qty                      float64\n",
       "product_weight_g                        float64\n",
       "product_length_cm                       float64\n",
       "product_height_cm                       float64\n",
       "product_width_cm                        float64\n",
       "seller_zip_code_prefix                    int64\n",
       "seller_city                              object\n",
       "seller_state                             object\n",
       "product_category_name_english            object\n",
       "dtype: object"
      ]
     },
     "execution_count": 20,
     "metadata": {},
     "output_type": "execute_result"
    }
   ],
   "source": [
    "ord_final.dtypes"
   ]
  },
  {
   "cell_type": "code",
   "execution_count": 21,
   "id": "industrial-hydrogen",
   "metadata": {},
   "outputs": [],
   "source": [
    "extra = np.mean(ord_final['order_approved_at'] - ord_final['order_purchase_timestamp'])"
   ]
  },
  {
   "cell_type": "code",
   "execution_count": 22,
   "id": "distinguished-groove",
   "metadata": {},
   "outputs": [],
   "source": [
    "ord_final['order_approved_at'] = np.where(ord_final['order_approved_at'].isna(),\n",
    "                                          ord_final['order_purchase_timestamp']+extra,ord_final['order_approved_at'])"
   ]
  },
  {
   "cell_type": "code",
   "execution_count": 23,
   "id": "expected-enterprise",
   "metadata": {},
   "outputs": [],
   "source": [
    "extra1 = np.mean(ord_final['order_delivered_carrier_date'] - ord_final['order_purchase_timestamp'])"
   ]
  },
  {
   "cell_type": "code",
   "execution_count": 24,
   "id": "hungry-brand",
   "metadata": {},
   "outputs": [],
   "source": [
    "ord_final['order_delivered_carrier_date'] = np.where(ord_final['order_delivered_carrier_date'].isna(),\n",
    "                                          ord_final['order_purchase_timestamp']+extra1,ord_final['order_delivered_carrier_date'])"
   ]
  },
  {
   "cell_type": "code",
   "execution_count": 25,
   "id": "seventh-kentucky",
   "metadata": {},
   "outputs": [],
   "source": [
    "extra2 = np.mean(ord_final['order_delivered_customer_date'] - ord_final['order_purchase_timestamp'])"
   ]
  },
  {
   "cell_type": "code",
   "execution_count": 26,
   "id": "unique-ontario",
   "metadata": {},
   "outputs": [],
   "source": [
    "ord_final['order_delivered_customer_date'] = np.where(ord_final['order_delivered_customer_date'].isna(),\n",
    "                                          ord_final['order_purchase_timestamp']+extra2,ord_final['order_delivered_customer_date'])"
   ]
  },
  {
   "cell_type": "code",
   "execution_count": 27,
   "id": "identified-edmonton",
   "metadata": {},
   "outputs": [],
   "source": [
    "ord_final['review_comment_title'] = np.where(ord_final['review_comment_title'].isna(),'No Comments',ord_final['review_comment_title'])\n",
    "ord_final['review_comment_message'] = np.where(ord_final['review_comment_message'].isna(),'No Comments',ord_final['review_comment_message'])\n"
   ]
  },
  {
   "cell_type": "code",
   "execution_count": 28,
   "id": "cellular-gentleman",
   "metadata": {},
   "outputs": [
    {
     "data": {
      "text/plain": [
       "order_id                         0\n",
       "order_item_id                    0\n",
       "product_id                       0\n",
       "seller_id                        0\n",
       "shipping_limit_date              0\n",
       "price                            0\n",
       "freight_value                    0\n",
       "payment_sequential               0\n",
       "payment_type                     0\n",
       "payment_installments             0\n",
       "payment_value                    0\n",
       "review_id                        0\n",
       "review_score                     0\n",
       "review_comment_title             0\n",
       "review_comment_message           0\n",
       "review_creation_date             0\n",
       "review_answer_timestamp          0\n",
       "customer_id                      0\n",
       "order_status                     0\n",
       "order_purchase_timestamp         0\n",
       "order_approved_at                0\n",
       "order_delivered_carrier_date     0\n",
       "order_delivered_customer_date    0\n",
       "order_estimated_delivery_date    0\n",
       "product_category_name            0\n",
       "product_name_lenght              0\n",
       "product_description_lenght       0\n",
       "product_photos_qty               0\n",
       "product_weight_g                 0\n",
       "product_length_cm                0\n",
       "product_height_cm                0\n",
       "product_width_cm                 0\n",
       "seller_zip_code_prefix           0\n",
       "seller_city                      0\n",
       "seller_state                     0\n",
       "product_category_name_english    0\n",
       "dtype: int64"
      ]
     },
     "execution_count": 28,
     "metadata": {},
     "output_type": "execute_result"
    }
   ],
   "source": [
    "ord_final.isnull().sum()"
   ]
  },
  {
   "cell_type": "markdown",
   "id": "demographic-andrew",
   "metadata": {},
   "source": [
    "#### Visualize Orders Data"
   ]
  },
  {
   "cell_type": "code",
   "execution_count": 29,
   "id": "completed-celebration",
   "metadata": {},
   "outputs": [
    {
     "data": {
      "text/html": [
       "<div>\n",
       "<style scoped>\n",
       "    .dataframe tbody tr th:only-of-type {\n",
       "        vertical-align: middle;\n",
       "    }\n",
       "\n",
       "    .dataframe tbody tr th {\n",
       "        vertical-align: top;\n",
       "    }\n",
       "\n",
       "    .dataframe thead th {\n",
       "        text-align: right;\n",
       "    }\n",
       "</style>\n",
       "<table border=\"1\" class=\"dataframe\">\n",
       "  <thead>\n",
       "    <tr style=\"text-align: right;\">\n",
       "      <th></th>\n",
       "      <th>order_id</th>\n",
       "      <th>order_item_id</th>\n",
       "      <th>product_id</th>\n",
       "      <th>seller_id</th>\n",
       "      <th>shipping_limit_date</th>\n",
       "      <th>price</th>\n",
       "      <th>freight_value</th>\n",
       "      <th>payment_sequential</th>\n",
       "      <th>payment_type</th>\n",
       "      <th>payment_installments</th>\n",
       "      <th>payment_value</th>\n",
       "      <th>review_id</th>\n",
       "      <th>review_score</th>\n",
       "      <th>review_comment_title</th>\n",
       "      <th>review_comment_message</th>\n",
       "      <th>review_creation_date</th>\n",
       "      <th>review_answer_timestamp</th>\n",
       "      <th>customer_id</th>\n",
       "      <th>order_status</th>\n",
       "      <th>order_purchase_timestamp</th>\n",
       "      <th>order_approved_at</th>\n",
       "      <th>order_delivered_carrier_date</th>\n",
       "      <th>order_delivered_customer_date</th>\n",
       "      <th>order_estimated_delivery_date</th>\n",
       "      <th>product_category_name</th>\n",
       "      <th>product_name_lenght</th>\n",
       "      <th>product_description_lenght</th>\n",
       "      <th>product_photos_qty</th>\n",
       "      <th>product_weight_g</th>\n",
       "      <th>product_length_cm</th>\n",
       "      <th>product_height_cm</th>\n",
       "      <th>product_width_cm</th>\n",
       "      <th>seller_zip_code_prefix</th>\n",
       "      <th>seller_city</th>\n",
       "      <th>seller_state</th>\n",
       "      <th>product_category_name_english</th>\n",
       "    </tr>\n",
       "  </thead>\n",
       "  <tbody>\n",
       "    <tr>\n",
       "      <th>count</th>\n",
       "      <td>116580</td>\n",
       "      <td>116580.000000</td>\n",
       "      <td>116580</td>\n",
       "      <td>116580</td>\n",
       "      <td>116580</td>\n",
       "      <td>116580.000000</td>\n",
       "      <td>116580.00000</td>\n",
       "      <td>116580.000000</td>\n",
       "      <td>116580</td>\n",
       "      <td>116580.000000</td>\n",
       "      <td>116580.000000</td>\n",
       "      <td>116580</td>\n",
       "      <td>116580.000000</td>\n",
       "      <td>116580</td>\n",
       "      <td>116580</td>\n",
       "      <td>116580</td>\n",
       "      <td>116580</td>\n",
       "      <td>116580</td>\n",
       "      <td>116580</td>\n",
       "      <td>116580</td>\n",
       "      <td>116580</td>\n",
       "      <td>116580</td>\n",
       "      <td>116580</td>\n",
       "      <td>116580</td>\n",
       "      <td>116580</td>\n",
       "      <td>116580.000000</td>\n",
       "      <td>116580.000000</td>\n",
       "      <td>116580.000000</td>\n",
       "      <td>116580.000000</td>\n",
       "      <td>116580.00000</td>\n",
       "      <td>116580.000000</td>\n",
       "      <td>116580.000000</td>\n",
       "      <td>116580.000000</td>\n",
       "      <td>116580</td>\n",
       "      <td>116580</td>\n",
       "      <td>116580</td>\n",
       "    </tr>\n",
       "    <tr>\n",
       "      <th>unique</th>\n",
       "      <td>97254</td>\n",
       "      <td>NaN</td>\n",
       "      <td>32327</td>\n",
       "      <td>3033</td>\n",
       "      <td>NaN</td>\n",
       "      <td>NaN</td>\n",
       "      <td>NaN</td>\n",
       "      <td>NaN</td>\n",
       "      <td>4</td>\n",
       "      <td>NaN</td>\n",
       "      <td>NaN</td>\n",
       "      <td>97052</td>\n",
       "      <td>NaN</td>\n",
       "      <td>4550</td>\n",
       "      <td>35910</td>\n",
       "      <td>NaN</td>\n",
       "      <td>96896</td>\n",
       "      <td>97254</td>\n",
       "      <td>7</td>\n",
       "      <td>NaN</td>\n",
       "      <td>NaN</td>\n",
       "      <td>NaN</td>\n",
       "      <td>NaN</td>\n",
       "      <td>NaN</td>\n",
       "      <td>71</td>\n",
       "      <td>NaN</td>\n",
       "      <td>NaN</td>\n",
       "      <td>NaN</td>\n",
       "      <td>NaN</td>\n",
       "      <td>NaN</td>\n",
       "      <td>NaN</td>\n",
       "      <td>NaN</td>\n",
       "      <td>NaN</td>\n",
       "      <td>604</td>\n",
       "      <td>23</td>\n",
       "      <td>71</td>\n",
       "    </tr>\n",
       "    <tr>\n",
       "      <th>top</th>\n",
       "      <td>895ab968e7bb0d5659d16cd74cd1650c</td>\n",
       "      <td>NaN</td>\n",
       "      <td>aca2eb7d00ea1a7b8ebd4e68314663af</td>\n",
       "      <td>4a3ca9315b744ce9f8e9374361493884</td>\n",
       "      <td>NaN</td>\n",
       "      <td>NaN</td>\n",
       "      <td>NaN</td>\n",
       "      <td>NaN</td>\n",
       "      <td>credit_card</td>\n",
       "      <td>NaN</td>\n",
       "      <td>NaN</td>\n",
       "      <td>eef5dbca8d37dfce6db7d7b16dd0525e</td>\n",
       "      <td>NaN</td>\n",
       "      <td>No Comments</td>\n",
       "      <td>No Comments</td>\n",
       "      <td>NaN</td>\n",
       "      <td>2017-08-17 22:17:55</td>\n",
       "      <td>270c23a11d024a44c896d1894b261a83</td>\n",
       "      <td>delivered</td>\n",
       "      <td>NaN</td>\n",
       "      <td>NaN</td>\n",
       "      <td>NaN</td>\n",
       "      <td>NaN</td>\n",
       "      <td>NaN</td>\n",
       "      <td>cama_mesa_banho</td>\n",
       "      <td>NaN</td>\n",
       "      <td>NaN</td>\n",
       "      <td>NaN</td>\n",
       "      <td>NaN</td>\n",
       "      <td>NaN</td>\n",
       "      <td>NaN</td>\n",
       "      <td>NaN</td>\n",
       "      <td>NaN</td>\n",
       "      <td>sao paulo</td>\n",
       "      <td>SP</td>\n",
       "      <td>bed_bath_table</td>\n",
       "    </tr>\n",
       "    <tr>\n",
       "      <th>freq</th>\n",
       "      <td>63</td>\n",
       "      <td>NaN</td>\n",
       "      <td>536</td>\n",
       "      <td>2155</td>\n",
       "      <td>NaN</td>\n",
       "      <td>NaN</td>\n",
       "      <td>NaN</td>\n",
       "      <td>NaN</td>\n",
       "      <td>86011</td>\n",
       "      <td>NaN</td>\n",
       "      <td>NaN</td>\n",
       "      <td>63</td>\n",
       "      <td>NaN</td>\n",
       "      <td>102584</td>\n",
       "      <td>66702</td>\n",
       "      <td>NaN</td>\n",
       "      <td>63</td>\n",
       "      <td>63</td>\n",
       "      <td>114066</td>\n",
       "      <td>NaN</td>\n",
       "      <td>NaN</td>\n",
       "      <td>NaN</td>\n",
       "      <td>NaN</td>\n",
       "      <td>NaN</td>\n",
       "      <td>11990</td>\n",
       "      <td>NaN</td>\n",
       "      <td>NaN</td>\n",
       "      <td>NaN</td>\n",
       "      <td>NaN</td>\n",
       "      <td>NaN</td>\n",
       "      <td>NaN</td>\n",
       "      <td>NaN</td>\n",
       "      <td>NaN</td>\n",
       "      <td>29056</td>\n",
       "      <td>83121</td>\n",
       "      <td>11990</td>\n",
       "    </tr>\n",
       "    <tr>\n",
       "      <th>mean</th>\n",
       "      <td>NaN</td>\n",
       "      <td>1.196955</td>\n",
       "      <td>NaN</td>\n",
       "      <td>NaN</td>\n",
       "      <td>2018-01-06 16:17:21.928726784</td>\n",
       "      <td>120.735815</td>\n",
       "      <td>20.06249</td>\n",
       "      <td>1.093369</td>\n",
       "      <td>NaN</td>\n",
       "      <td>2.949554</td>\n",
       "      <td>172.894920</td>\n",
       "      <td>NaN</td>\n",
       "      <td>4.017499</td>\n",
       "      <td>NaN</td>\n",
       "      <td>NaN</td>\n",
       "      <td>2018-01-12 14:57:52.125579008</td>\n",
       "      <td>NaN</td>\n",
       "      <td>NaN</td>\n",
       "      <td>NaN</td>\n",
       "      <td>2017-12-31 00:42:27.267704320</td>\n",
       "      <td>2017-12-31 11:12:34.714438144</td>\n",
       "      <td>2018-01-03 07:33:19.559018240</td>\n",
       "      <td>2018-01-12 12:20:54.396113920</td>\n",
       "      <td>2018-01-23 21:41:41.657230848</td>\n",
       "      <td>NaN</td>\n",
       "      <td>48.766221</td>\n",
       "      <td>785.948653</td>\n",
       "      <td>2.204984</td>\n",
       "      <td>2115.560422</td>\n",
       "      <td>30.31858</td>\n",
       "      <td>16.645891</td>\n",
       "      <td>23.116898</td>\n",
       "      <td>24504.361366</td>\n",
       "      <td>NaN</td>\n",
       "      <td>NaN</td>\n",
       "      <td>NaN</td>\n",
       "    </tr>\n",
       "    <tr>\n",
       "      <th>min</th>\n",
       "      <td>NaN</td>\n",
       "      <td>1.000000</td>\n",
       "      <td>NaN</td>\n",
       "      <td>NaN</td>\n",
       "      <td>2016-09-19 00:15:34</td>\n",
       "      <td>0.850000</td>\n",
       "      <td>0.00000</td>\n",
       "      <td>1.000000</td>\n",
       "      <td>NaN</td>\n",
       "      <td>0.000000</td>\n",
       "      <td>0.000000</td>\n",
       "      <td>NaN</td>\n",
       "      <td>1.000000</td>\n",
       "      <td>NaN</td>\n",
       "      <td>NaN</td>\n",
       "      <td>2016-10-15 00:00:00</td>\n",
       "      <td>NaN</td>\n",
       "      <td>NaN</td>\n",
       "      <td>NaN</td>\n",
       "      <td>2016-09-04 21:15:19</td>\n",
       "      <td>2016-10-04 09:43:32</td>\n",
       "      <td>2016-09-08 07:06:26.291313807</td>\n",
       "      <td>2016-09-17 08:53:46.128409240</td>\n",
       "      <td>2016-10-20 00:00:00</td>\n",
       "      <td>NaN</td>\n",
       "      <td>5.000000</td>\n",
       "      <td>4.000000</td>\n",
       "      <td>1.000000</td>\n",
       "      <td>0.000000</td>\n",
       "      <td>7.00000</td>\n",
       "      <td>2.000000</td>\n",
       "      <td>6.000000</td>\n",
       "      <td>1001.000000</td>\n",
       "      <td>NaN</td>\n",
       "      <td>NaN</td>\n",
       "      <td>NaN</td>\n",
       "    </tr>\n",
       "    <tr>\n",
       "      <th>25%</th>\n",
       "      <td>NaN</td>\n",
       "      <td>1.000000</td>\n",
       "      <td>NaN</td>\n",
       "      <td>NaN</td>\n",
       "      <td>2017-09-19 03:34:02.750000128</td>\n",
       "      <td>39.900000</td>\n",
       "      <td>13.08000</td>\n",
       "      <td>1.000000</td>\n",
       "      <td>NaN</td>\n",
       "      <td>1.000000</td>\n",
       "      <td>61.000000</td>\n",
       "      <td>NaN</td>\n",
       "      <td>4.000000</td>\n",
       "      <td>NaN</td>\n",
       "      <td>NaN</td>\n",
       "      <td>2017-09-23 00:00:00</td>\n",
       "      <td>NaN</td>\n",
       "      <td>NaN</td>\n",
       "      <td>NaN</td>\n",
       "      <td>2017-09-12 09:20:53.750000128</td>\n",
       "      <td>2017-09-12 15:42:05.249999872</td>\n",
       "      <td>2017-09-14 18:56:44</td>\n",
       "      <td>2017-09-22 16:23:35</td>\n",
       "      <td>2017-10-03 00:00:00</td>\n",
       "      <td>NaN</td>\n",
       "      <td>42.000000</td>\n",
       "      <td>346.000000</td>\n",
       "      <td>1.000000</td>\n",
       "      <td>300.000000</td>\n",
       "      <td>18.00000</td>\n",
       "      <td>8.000000</td>\n",
       "      <td>15.000000</td>\n",
       "      <td>6429.000000</td>\n",
       "      <td>NaN</td>\n",
       "      <td>NaN</td>\n",
       "      <td>NaN</td>\n",
       "    </tr>\n",
       "    <tr>\n",
       "      <th>50%</th>\n",
       "      <td>NaN</td>\n",
       "      <td>1.000000</td>\n",
       "      <td>NaN</td>\n",
       "      <td>NaN</td>\n",
       "      <td>2018-01-25 17:00:51</td>\n",
       "      <td>74.900000</td>\n",
       "      <td>16.32000</td>\n",
       "      <td>1.000000</td>\n",
       "      <td>NaN</td>\n",
       "      <td>2.000000</td>\n",
       "      <td>108.190000</td>\n",
       "      <td>NaN</td>\n",
       "      <td>5.000000</td>\n",
       "      <td>NaN</td>\n",
       "      <td>NaN</td>\n",
       "      <td>2018-02-02 00:00:00</td>\n",
       "      <td>NaN</td>\n",
       "      <td>NaN</td>\n",
       "      <td>NaN</td>\n",
       "      <td>2018-01-18 21:09:34</td>\n",
       "      <td>2018-01-19 10:15:59</td>\n",
       "      <td>2018-01-23 17:31:43</td>\n",
       "      <td>2018-02-01 03:17:55</td>\n",
       "      <td>2018-02-15 00:00:00</td>\n",
       "      <td>NaN</td>\n",
       "      <td>52.000000</td>\n",
       "      <td>600.000000</td>\n",
       "      <td>1.000000</td>\n",
       "      <td>700.000000</td>\n",
       "      <td>25.00000</td>\n",
       "      <td>13.000000</td>\n",
       "      <td>20.000000</td>\n",
       "      <td>13690.000000</td>\n",
       "      <td>NaN</td>\n",
       "      <td>NaN</td>\n",
       "      <td>NaN</td>\n",
       "    </tr>\n",
       "    <tr>\n",
       "      <th>75%</th>\n",
       "      <td>NaN</td>\n",
       "      <td>1.000000</td>\n",
       "      <td>NaN</td>\n",
       "      <td>NaN</td>\n",
       "      <td>2018-05-10 11:51:33.500000</td>\n",
       "      <td>134.900000</td>\n",
       "      <td>21.22000</td>\n",
       "      <td>1.000000</td>\n",
       "      <td>NaN</td>\n",
       "      <td>4.000000</td>\n",
       "      <td>189.720000</td>\n",
       "      <td>NaN</td>\n",
       "      <td>5.000000</td>\n",
       "      <td>NaN</td>\n",
       "      <td>NaN</td>\n",
       "      <td>2018-05-16 00:00:00</td>\n",
       "      <td>NaN</td>\n",
       "      <td>NaN</td>\n",
       "      <td>NaN</td>\n",
       "      <td>2018-05-04 12:40:16.750000128</td>\n",
       "      <td>2018-05-04 18:16:20.249999872</td>\n",
       "      <td>2018-05-08 06:32:00</td>\n",
       "      <td>2018-05-15 13:05:52.750000128</td>\n",
       "      <td>2018-05-25 00:00:00</td>\n",
       "      <td>NaN</td>\n",
       "      <td>57.000000</td>\n",
       "      <td>983.000000</td>\n",
       "      <td>3.000000</td>\n",
       "      <td>1800.000000</td>\n",
       "      <td>38.00000</td>\n",
       "      <td>20.000000</td>\n",
       "      <td>30.000000</td>\n",
       "      <td>28495.000000</td>\n",
       "      <td>NaN</td>\n",
       "      <td>NaN</td>\n",
       "      <td>NaN</td>\n",
       "    </tr>\n",
       "    <tr>\n",
       "      <th>max</th>\n",
       "      <td>NaN</td>\n",
       "      <td>21.000000</td>\n",
       "      <td>NaN</td>\n",
       "      <td>NaN</td>\n",
       "      <td>2020-04-09 22:35:08</td>\n",
       "      <td>6735.000000</td>\n",
       "      <td>409.68000</td>\n",
       "      <td>29.000000</td>\n",
       "      <td>NaN</td>\n",
       "      <td>24.000000</td>\n",
       "      <td>13664.080000</td>\n",
       "      <td>NaN</td>\n",
       "      <td>5.000000</td>\n",
       "      <td>NaN</td>\n",
       "      <td>NaN</td>\n",
       "      <td>2018-08-31 00:00:00</td>\n",
       "      <td>NaN</td>\n",
       "      <td>NaN</td>\n",
       "      <td>NaN</td>\n",
       "      <td>2018-09-03 09:06:57</td>\n",
       "      <td>2018-09-03 17:40:06</td>\n",
       "      <td>2018-09-11 19:48:28</td>\n",
       "      <td>2018-10-17 13:22:46</td>\n",
       "      <td>2018-10-25 00:00:00</td>\n",
       "      <td>NaN</td>\n",
       "      <td>76.000000</td>\n",
       "      <td>3992.000000</td>\n",
       "      <td>20.000000</td>\n",
       "      <td>40425.000000</td>\n",
       "      <td>105.00000</td>\n",
       "      <td>105.000000</td>\n",
       "      <td>118.000000</td>\n",
       "      <td>99730.000000</td>\n",
       "      <td>NaN</td>\n",
       "      <td>NaN</td>\n",
       "      <td>NaN</td>\n",
       "    </tr>\n",
       "    <tr>\n",
       "      <th>std</th>\n",
       "      <td>NaN</td>\n",
       "      <td>0.701353</td>\n",
       "      <td>NaN</td>\n",
       "      <td>NaN</td>\n",
       "      <td>NaN</td>\n",
       "      <td>183.772492</td>\n",
       "      <td>15.84557</td>\n",
       "      <td>0.727244</td>\n",
       "      <td>NaN</td>\n",
       "      <td>2.783733</td>\n",
       "      <td>267.572419</td>\n",
       "      <td>NaN</td>\n",
       "      <td>1.397889</td>\n",
       "      <td>NaN</td>\n",
       "      <td>NaN</td>\n",
       "      <td>NaN</td>\n",
       "      <td>NaN</td>\n",
       "      <td>NaN</td>\n",
       "      <td>NaN</td>\n",
       "      <td>NaN</td>\n",
       "      <td>NaN</td>\n",
       "      <td>NaN</td>\n",
       "      <td>NaN</td>\n",
       "      <td>NaN</td>\n",
       "      <td>NaN</td>\n",
       "      <td>10.033717</td>\n",
       "      <td>652.616781</td>\n",
       "      <td>1.717423</td>\n",
       "      <td>3783.587898</td>\n",
       "      <td>16.22276</td>\n",
       "      <td>13.474741</td>\n",
       "      <td>11.758687</td>\n",
       "      <td>27624.688399</td>\n",
       "      <td>NaN</td>\n",
       "      <td>NaN</td>\n",
       "      <td>NaN</td>\n",
       "    </tr>\n",
       "  </tbody>\n",
       "</table>\n",
       "</div>"
      ],
      "text/plain": [
       "                                order_id  order_item_id  \\\n",
       "count                             116580  116580.000000   \n",
       "unique                             97254            NaN   \n",
       "top     895ab968e7bb0d5659d16cd74cd1650c            NaN   \n",
       "freq                                  63            NaN   \n",
       "mean                                 NaN       1.196955   \n",
       "min                                  NaN       1.000000   \n",
       "25%                                  NaN       1.000000   \n",
       "50%                                  NaN       1.000000   \n",
       "75%                                  NaN       1.000000   \n",
       "max                                  NaN      21.000000   \n",
       "std                                  NaN       0.701353   \n",
       "\n",
       "                              product_id                         seller_id  \\\n",
       "count                             116580                            116580   \n",
       "unique                             32327                              3033   \n",
       "top     aca2eb7d00ea1a7b8ebd4e68314663af  4a3ca9315b744ce9f8e9374361493884   \n",
       "freq                                 536                              2155   \n",
       "mean                                 NaN                               NaN   \n",
       "min                                  NaN                               NaN   \n",
       "25%                                  NaN                               NaN   \n",
       "50%                                  NaN                               NaN   \n",
       "75%                                  NaN                               NaN   \n",
       "max                                  NaN                               NaN   \n",
       "std                                  NaN                               NaN   \n",
       "\n",
       "                  shipping_limit_date          price  freight_value  \\\n",
       "count                          116580  116580.000000   116580.00000   \n",
       "unique                            NaN            NaN            NaN   \n",
       "top                               NaN            NaN            NaN   \n",
       "freq                              NaN            NaN            NaN   \n",
       "mean    2018-01-06 16:17:21.928726784     120.735815       20.06249   \n",
       "min               2016-09-19 00:15:34       0.850000        0.00000   \n",
       "25%     2017-09-19 03:34:02.750000128      39.900000       13.08000   \n",
       "50%               2018-01-25 17:00:51      74.900000       16.32000   \n",
       "75%        2018-05-10 11:51:33.500000     134.900000       21.22000   \n",
       "max               2020-04-09 22:35:08    6735.000000      409.68000   \n",
       "std                               NaN     183.772492       15.84557   \n",
       "\n",
       "        payment_sequential payment_type  payment_installments  payment_value  \\\n",
       "count        116580.000000       116580         116580.000000  116580.000000   \n",
       "unique                 NaN            4                   NaN            NaN   \n",
       "top                    NaN  credit_card                   NaN            NaN   \n",
       "freq                   NaN        86011                   NaN            NaN   \n",
       "mean              1.093369          NaN              2.949554     172.894920   \n",
       "min               1.000000          NaN              0.000000       0.000000   \n",
       "25%               1.000000          NaN              1.000000      61.000000   \n",
       "50%               1.000000          NaN              2.000000     108.190000   \n",
       "75%               1.000000          NaN              4.000000     189.720000   \n",
       "max              29.000000          NaN             24.000000   13664.080000   \n",
       "std               0.727244          NaN              2.783733     267.572419   \n",
       "\n",
       "                               review_id   review_score review_comment_title  \\\n",
       "count                             116580  116580.000000               116580   \n",
       "unique                             97052            NaN                 4550   \n",
       "top     eef5dbca8d37dfce6db7d7b16dd0525e            NaN          No Comments   \n",
       "freq                                  63            NaN               102584   \n",
       "mean                                 NaN       4.017499                  NaN   \n",
       "min                                  NaN       1.000000                  NaN   \n",
       "25%                                  NaN       4.000000                  NaN   \n",
       "50%                                  NaN       5.000000                  NaN   \n",
       "75%                                  NaN       5.000000                  NaN   \n",
       "max                                  NaN       5.000000                  NaN   \n",
       "std                                  NaN       1.397889                  NaN   \n",
       "\n",
       "       review_comment_message           review_creation_date  \\\n",
       "count                  116580                         116580   \n",
       "unique                  35910                            NaN   \n",
       "top               No Comments                            NaN   \n",
       "freq                    66702                            NaN   \n",
       "mean                      NaN  2018-01-12 14:57:52.125579008   \n",
       "min                       NaN            2016-10-15 00:00:00   \n",
       "25%                       NaN            2017-09-23 00:00:00   \n",
       "50%                       NaN            2018-02-02 00:00:00   \n",
       "75%                       NaN            2018-05-16 00:00:00   \n",
       "max                       NaN            2018-08-31 00:00:00   \n",
       "std                       NaN                            NaN   \n",
       "\n",
       "       review_answer_timestamp                       customer_id order_status  \\\n",
       "count                   116580                            116580       116580   \n",
       "unique                   96896                             97254            7   \n",
       "top        2017-08-17 22:17:55  270c23a11d024a44c896d1894b261a83    delivered   \n",
       "freq                        63                                63       114066   \n",
       "mean                       NaN                               NaN          NaN   \n",
       "min                        NaN                               NaN          NaN   \n",
       "25%                        NaN                               NaN          NaN   \n",
       "50%                        NaN                               NaN          NaN   \n",
       "75%                        NaN                               NaN          NaN   \n",
       "max                        NaN                               NaN          NaN   \n",
       "std                        NaN                               NaN          NaN   \n",
       "\n",
       "             order_purchase_timestamp              order_approved_at  \\\n",
       "count                          116580                         116580   \n",
       "unique                            NaN                            NaN   \n",
       "top                               NaN                            NaN   \n",
       "freq                              NaN                            NaN   \n",
       "mean    2017-12-31 00:42:27.267704320  2017-12-31 11:12:34.714438144   \n",
       "min               2016-09-04 21:15:19            2016-10-04 09:43:32   \n",
       "25%     2017-09-12 09:20:53.750000128  2017-09-12 15:42:05.249999872   \n",
       "50%               2018-01-18 21:09:34            2018-01-19 10:15:59   \n",
       "75%     2018-05-04 12:40:16.750000128  2018-05-04 18:16:20.249999872   \n",
       "max               2018-09-03 09:06:57            2018-09-03 17:40:06   \n",
       "std                               NaN                            NaN   \n",
       "\n",
       "         order_delivered_carrier_date  order_delivered_customer_date  \\\n",
       "count                          116580                         116580   \n",
       "unique                            NaN                            NaN   \n",
       "top                               NaN                            NaN   \n",
       "freq                              NaN                            NaN   \n",
       "mean    2018-01-03 07:33:19.559018240  2018-01-12 12:20:54.396113920   \n",
       "min     2016-09-08 07:06:26.291313807  2016-09-17 08:53:46.128409240   \n",
       "25%               2017-09-14 18:56:44            2017-09-22 16:23:35   \n",
       "50%               2018-01-23 17:31:43            2018-02-01 03:17:55   \n",
       "75%               2018-05-08 06:32:00  2018-05-15 13:05:52.750000128   \n",
       "max               2018-09-11 19:48:28            2018-10-17 13:22:46   \n",
       "std                               NaN                            NaN   \n",
       "\n",
       "        order_estimated_delivery_date product_category_name  \\\n",
       "count                          116580                116580   \n",
       "unique                            NaN                    71   \n",
       "top                               NaN       cama_mesa_banho   \n",
       "freq                              NaN                 11990   \n",
       "mean    2018-01-23 21:41:41.657230848                   NaN   \n",
       "min               2016-10-20 00:00:00                   NaN   \n",
       "25%               2017-10-03 00:00:00                   NaN   \n",
       "50%               2018-02-15 00:00:00                   NaN   \n",
       "75%               2018-05-25 00:00:00                   NaN   \n",
       "max               2018-10-25 00:00:00                   NaN   \n",
       "std                               NaN                   NaN   \n",
       "\n",
       "        product_name_lenght  product_description_lenght  product_photos_qty  \\\n",
       "count         116580.000000               116580.000000       116580.000000   \n",
       "unique                  NaN                         NaN                 NaN   \n",
       "top                     NaN                         NaN                 NaN   \n",
       "freq                    NaN                         NaN                 NaN   \n",
       "mean              48.766221                  785.948653            2.204984   \n",
       "min                5.000000                    4.000000            1.000000   \n",
       "25%               42.000000                  346.000000            1.000000   \n",
       "50%               52.000000                  600.000000            1.000000   \n",
       "75%               57.000000                  983.000000            3.000000   \n",
       "max               76.000000                 3992.000000           20.000000   \n",
       "std               10.033717                  652.616781            1.717423   \n",
       "\n",
       "        product_weight_g  product_length_cm  product_height_cm  \\\n",
       "count      116580.000000       116580.00000      116580.000000   \n",
       "unique               NaN                NaN                NaN   \n",
       "top                  NaN                NaN                NaN   \n",
       "freq                 NaN                NaN                NaN   \n",
       "mean         2115.560422           30.31858          16.645891   \n",
       "min             0.000000            7.00000           2.000000   \n",
       "25%           300.000000           18.00000           8.000000   \n",
       "50%           700.000000           25.00000          13.000000   \n",
       "75%          1800.000000           38.00000          20.000000   \n",
       "max         40425.000000          105.00000         105.000000   \n",
       "std          3783.587898           16.22276          13.474741   \n",
       "\n",
       "        product_width_cm  seller_zip_code_prefix seller_city seller_state  \\\n",
       "count      116580.000000           116580.000000      116580       116580   \n",
       "unique               NaN                     NaN         604           23   \n",
       "top                  NaN                     NaN   sao paulo           SP   \n",
       "freq                 NaN                     NaN       29056        83121   \n",
       "mean           23.116898            24504.361366         NaN          NaN   \n",
       "min             6.000000             1001.000000         NaN          NaN   \n",
       "25%            15.000000             6429.000000         NaN          NaN   \n",
       "50%            20.000000            13690.000000         NaN          NaN   \n",
       "75%            30.000000            28495.000000         NaN          NaN   \n",
       "max           118.000000            99730.000000         NaN          NaN   \n",
       "std            11.758687            27624.688399         NaN          NaN   \n",
       "\n",
       "       product_category_name_english  \n",
       "count                         116580  \n",
       "unique                            71  \n",
       "top                   bed_bath_table  \n",
       "freq                           11990  \n",
       "mean                             NaN  \n",
       "min                              NaN  \n",
       "25%                              NaN  \n",
       "50%                              NaN  \n",
       "75%                              NaN  \n",
       "max                              NaN  \n",
       "std                              NaN  "
      ]
     },
     "execution_count": 29,
     "metadata": {},
     "output_type": "execute_result"
    }
   ],
   "source": [
    "ord_final.describe(include='all',datetime_is_numeric=True)"
   ]
  },
  {
   "cell_type": "code",
   "execution_count": 30,
   "id": "resistant-measurement",
   "metadata": {},
   "outputs": [
    {
     "data": {
      "image/png": "[encoded data removed]",
      "text/plain": [
       "<Figure size 1152x648 with 1 Axes>"
      ]
     },
     "metadata": {},
     "output_type": "display_data"
    }
   ],
   "source": [
    "# creating a purchase day feature\n",
    "ord_final['order_purchase_date'] = ord_final.order_purchase_timestamp.dt.date\n",
    "\n",
    "# creating an aggregation\n",
    "sales_per_purchase_date = ord_final.groupby('order_purchase_date', as_index=False).price.sum()\n",
    "ax = sns.lineplot(x=\"order_purchase_date\", y=\"price\", data=sales_per_purchase_date)\n",
    "ax.set_title('Sales per day')\n",
    "plt.show()"
   ]
  },
  {
   "cell_type": "code",
   "execution_count": 31,
   "id": "returning-prediction",
   "metadata": {},
   "outputs": [
    {
     "data": {
      "text/plain": [
       "[]"
      ]
     },
     "execution_count": 31,
     "metadata": {},
     "output_type": "execute_result"
    },
    {
     "data": {
      "image/png": "[encoded data removed]",
      "text/plain": [
       "<Figure size 1152x648 with 1 Axes>"
      ]
     },
     "metadata": {},
     "output_type": "display_data"
    }
   ],
   "source": [
    "# creating a purchase day feature\n",
    "ord_final['order_purchase_week'] = ord_final.order_purchase_timestamp.dt.to_period('W').astype(str)\n",
    "\n",
    "# creating an aggregation\n",
    "sales_per_purchase_month = ord_final.groupby('order_purchase_week', as_index=False).price.sum()\n",
    "ax = sns.lineplot(x=\"order_purchase_week\", y=\"price\", data=sales_per_purchase_month)\n",
    "ax.set_title('Sales per week')\n",
    "ax.plot()"
   ]
  },
  {
   "cell_type": "code",
   "execution_count": 32,
   "id": "brief-closer",
   "metadata": {},
   "outputs": [
    {
     "data": {
      "text/plain": [
       "[]"
      ]
     },
     "execution_count": 32,
     "metadata": {},
     "output_type": "execute_result"
    },
    {
     "data": {
      "image/png": "[encoded data removed]",
      "text/plain": [
       "<Figure size 1152x648 with 1 Axes>"
      ]
     },
     "metadata": {},
     "output_type": "display_data"
    }
   ],
   "source": [
    "# creating an aggregation\n",
    "avg_score_per_date = ord_final.groupby('order_purchase_week', as_index=False).review_score.mean()\n",
    "ax = sns.lineplot(x=\"order_purchase_week\", y=\"review_score\", data=avg_score_per_date)\n",
    "ax.set_title('Average score per week')\n",
    "ax.plot()"
   ]
  },
  {
   "cell_type": "code",
   "execution_count": 35,
   "id": "herbal-confirmation",
   "metadata": {},
   "outputs": [],
   "source": [
    "avg_score_per_category = ord_final.groupby('product_category_name_english', as_index=False).agg({'review_score': ['count', 'mean']})\n",
    "avg_score_per_category.columns = ['product_category_name', 'count', 'mean']\n",
    "\n",
    "# filtering to show only categories with more than 50 reviews\n",
    "avg_score_per_category = avg_score_per_category[avg_score_per_category['count'] > 100]\n",
    "avg_score_per_category = avg_score_per_category.sort_values(by='mean', ascending=False)\n",
    "x= avg_score_per_category.head(5)"
   ]
  },
  {
   "cell_type": "code",
   "execution_count": 36,
   "id": "current-disease",
   "metadata": {},
   "outputs": [
    {
     "data": {
      "text/plain": [
       "[]"
      ]
     },
     "execution_count": 36,
     "metadata": {},
     "output_type": "execute_result"
    },
    {
     "data": {
      "image/png": "[encoded data removed]",
      "text/plain": [
       "<Figure size 1152x648 with 1 Axes>"
      ]
     },
     "metadata": {},
     "output_type": "display_data"
    }
   ],
   "source": [
    "ax = sns.barplot(x=\"mean\", y=\"product_category_name\", data=x)\n",
    "ax.set_title('Categories Review Score')\n",
    "ax.plot()"
   ]
  },
  {
   "cell_type": "code",
   "execution_count": 35,
   "id": "thorough-agency",
   "metadata": {},
   "outputs": [
    {
     "data": {
      "text/plain": [
       "count                        116580\n",
       "mean     11 days 09:20:47.261117265\n",
       "std      10 days 04:24:26.603060446\n",
       "min             -189 days +00:35:53\n",
       "25%                 6 days 12:20:20\n",
       "50%                12 days 01:13:50\n",
       "75%         16 days 07:51:18.250000\n",
       "max               146 days 00:23:13\n",
       "dtype: object"
      ]
     },
     "execution_count": 35,
     "metadata": {},
     "output_type": "execute_result"
    }
   ],
   "source": [
    "(ord_final['order_estimated_delivery_date'] - ord_final['order_delivered_customer_date']).describe()"
   ]
  },
  {
   "cell_type": "code",
   "execution_count": 36,
   "id": "natural-christmas",
   "metadata": {},
   "outputs": [
    {
     "data": {
      "image/png": "[encoded data removed]",
      "text/plain": [
       "<Figure size 1152x648 with 1 Axes>"
      ]
     },
     "metadata": {},
     "output_type": "display_data"
    }
   ],
   "source": [
    "((ord_final['order_estimated_delivery_date'] - ord_final['order_delivered_customer_date']) / (np.timedelta64(1, 'D'))).plot(kind='hist', bins=50)\n",
    "plt.show()"
   ]
  },
  {
   "cell_type": "code",
   "execution_count": 37,
   "id": "opposed-pollution",
   "metadata": {},
   "outputs": [],
   "source": [
    "#On average more items came earlier than estimated delivery date \n",
    "ord_final['delivery_accuracy'] = ((ord_final['order_estimated_delivery_date'] - ord_final['order_delivered_customer_date']) \n",
    "                               / (np.timedelta64(1, 'D')))"
   ]
  },
  {
   "cell_type": "code",
   "execution_count": 38,
   "id": "therapeutic-priest",
   "metadata": {},
   "outputs": [],
   "source": [
    "ord_final['total_value'] = ord_final['price'].add(ord_final['freight_value'])"
   ]
  },
  {
   "cell_type": "code",
   "execution_count": 39,
   "id": "reported-hospital",
   "metadata": {},
   "outputs": [
    {
     "data": {
      "text/plain": [
       "(0.0, 600.0)"
      ]
     },
     "execution_count": 39,
     "metadata": {},
     "output_type": "execute_result"
    },
    {
     "data": {
      "image/png": "[encoded data removed]",
      "text/plain": [
       "<Figure size 864x432 with 1 Axes>"
      ]
     },
     "metadata": {},
     "output_type": "display_data"
    }
   ],
   "source": [
    "sns.set_style(\"whitegrid\")\n",
    "plt.figure(figsize=(12,6))\n",
    "sns.histplot(ord_final['total_value'], bins=800 ,kde=False, color='b')\n",
    "plt.xlim([0, 600])"
   ]
  },
  {
   "cell_type": "markdown",
   "id": "coated-seating",
   "metadata": {},
   "source": [
    "As it was expected, we got right skewed histogram for total_value column - most of the times, people buy cheaply priced goods on olist"
   ]
  },
  {
   "cell_type": "code",
   "execution_count": 40,
   "id": "personalized-weekly",
   "metadata": {},
   "outputs": [],
   "source": [
    "ord_final_cust = ord_final.merge(cust,left_on='customer_id',right_on='customer_id')"
   ]
  },
  {
   "cell_type": "code",
   "execution_count": 41,
   "id": "contained-seeking",
   "metadata": {},
   "outputs": [
    {
     "data": {
      "text/html": [
       "<div>\n",
       "<style scoped>\n",
       "    .dataframe tbody tr th:only-of-type {\n",
       "        vertical-align: middle;\n",
       "    }\n",
       "\n",
       "    .dataframe tbody tr th {\n",
       "        vertical-align: top;\n",
       "    }\n",
       "\n",
       "    .dataframe thead tr th {\n",
       "        text-align: left;\n",
       "    }\n",
       "\n",
       "    .dataframe thead tr:last-of-type th {\n",
       "        text-align: right;\n",
       "    }\n",
       "</style>\n",
       "<table border=\"1\" class=\"dataframe\">\n",
       "  <thead>\n",
       "    <tr>\n",
       "      <th></th>\n",
       "      <th colspan=\"2\" halign=\"left\">review_score</th>\n",
       "      <th>price</th>\n",
       "    </tr>\n",
       "    <tr>\n",
       "      <th></th>\n",
       "      <th>mean</th>\n",
       "      <th>count</th>\n",
       "      <th>mean</th>\n",
       "    </tr>\n",
       "    <tr>\n",
       "      <th>customer_state</th>\n",
       "      <th></th>\n",
       "      <th></th>\n",
       "      <th></th>\n",
       "    </tr>\n",
       "  </thead>\n",
       "  <tbody>\n",
       "    <tr>\n",
       "      <th>AP</th>\n",
       "      <td>4.226190</td>\n",
       "      <td>84</td>\n",
       "      <td>162.551190</td>\n",
       "    </tr>\n",
       "    <tr>\n",
       "      <th>TO</th>\n",
       "      <td>4.149701</td>\n",
       "      <td>334</td>\n",
       "      <td>166.885988</td>\n",
       "    </tr>\n",
       "    <tr>\n",
       "      <th>SP</th>\n",
       "      <td>4.117131</td>\n",
       "      <td>49133</td>\n",
       "      <td>109.945161</td>\n",
       "    </tr>\n",
       "    <tr>\n",
       "      <th>PR</th>\n",
       "      <td>4.094110</td>\n",
       "      <td>5908</td>\n",
       "      <td>118.520140</td>\n",
       "    </tr>\n",
       "    <tr>\n",
       "      <th>MS</th>\n",
       "      <td>4.075561</td>\n",
       "      <td>847</td>\n",
       "      <td>142.529528</td>\n",
       "    </tr>\n",
       "  </tbody>\n",
       "</table>\n",
       "</div>"
      ],
      "text/plain": [
       "               review_score              price\n",
       "                       mean  count        mean\n",
       "customer_state                                \n",
       "AP                 4.226190     84  162.551190\n",
       "TO                 4.149701    334  166.885988\n",
       "SP                 4.117131  49133  109.945161\n",
       "PR                 4.094110   5908  118.520140\n",
       "MS                 4.075561    847  142.529528"
      ]
     },
     "execution_count": 41,
     "metadata": {},
     "output_type": "execute_result"
    }
   ],
   "source": [
    "state_grouped = (ord_final_cust.groupby('customer_state')[['price', 'review_score']]\n",
    "                             .agg({'review_score': ['mean', 'count'], 'price':['mean']})\n",
    "                ).sort_values(by=('review_score','mean'), ascending=False)\n",
    "                 \n",
    "state_grouped.head()"
   ]
  },
  {
   "cell_type": "code",
   "execution_count": 42,
   "id": "designed-killer",
   "metadata": {},
   "outputs": [
    {
     "data": {
      "image/png": "[encoded data removed]",
      "text/plain": [
       "<Figure size 864x792 with 1 Axes>"
      ]
     },
     "metadata": {},
     "output_type": "display_data"
    }
   ],
   "source": [
    "state_grouped.plot(kind='barh', figsize=(12,11), logx=True)\n",
    "plt.show()"
   ]
  },
  {
   "cell_type": "code",
   "execution_count": 43,
   "id": "placed-terrorist",
   "metadata": {},
   "outputs": [
    {
     "data": {
      "text/html": [
       "<div>\n",
       "<style scoped>\n",
       "    .dataframe tbody tr th:only-of-type {\n",
       "        vertical-align: middle;\n",
       "    }\n",
       "\n",
       "    .dataframe tbody tr th {\n",
       "        vertical-align: top;\n",
       "    }\n",
       "\n",
       "    .dataframe thead th {\n",
       "        text-align: right;\n",
       "    }\n",
       "</style>\n",
       "<table border=\"1\" class=\"dataframe\">\n",
       "  <thead>\n",
       "    <tr style=\"text-align: right;\">\n",
       "      <th></th>\n",
       "      <th>day of week</th>\n",
       "      <th>hour</th>\n",
       "      <th>price</th>\n",
       "    </tr>\n",
       "  </thead>\n",
       "  <tbody>\n",
       "    <tr>\n",
       "      <th>0</th>\n",
       "      <td>Wed</td>\n",
       "      <td>8</td>\n",
       "      <td>72.19</td>\n",
       "    </tr>\n",
       "    <tr>\n",
       "      <th>1</th>\n",
       "      <td>Wed</td>\n",
       "      <td>11</td>\n",
       "      <td>73.86</td>\n",
       "    </tr>\n",
       "    <tr>\n",
       "      <th>2</th>\n",
       "      <td>Fri</td>\n",
       "      <td>10</td>\n",
       "      <td>83.23</td>\n",
       "    </tr>\n",
       "    <tr>\n",
       "      <th>3</th>\n",
       "      <td>Tue</td>\n",
       "      <td>18</td>\n",
       "      <td>75.07</td>\n",
       "    </tr>\n",
       "    <tr>\n",
       "      <th>4</th>\n",
       "      <td>Thu</td>\n",
       "      <td>21</td>\n",
       "      <td>72.19</td>\n",
       "    </tr>\n",
       "  </tbody>\n",
       "</table>\n",
       "</div>"
      ],
      "text/plain": [
       "  day of week  hour  price\n",
       "0         Wed     8  72.19\n",
       "1         Wed    11  73.86\n",
       "2         Fri    10  83.23\n",
       "3         Tue    18  75.07\n",
       "4         Thu    21  72.19"
      ]
     },
     "execution_count": 43,
     "metadata": {},
     "output_type": "execute_result"
    }
   ],
   "source": [
    "pweekday = ord_final['order_purchase_timestamp'].dt.weekday\n",
    "phour = ord_final['order_purchase_timestamp'].dt.hour\n",
    "pprice = ord_final['total_value']\n",
    "purchase = pd.DataFrame({'day of week': pweekday, 'hour': phour, 'price': pprice})\n",
    "purchase['day of week'] = purchase['day of week'].map({0:'Mon',1:'Tue',2:'Wed',3:'Thu',4:'Fri',5:'Sat',6:'Sun'})\n",
    "purchase.head()"
   ]
  },
  {
   "cell_type": "code",
   "execution_count": 46,
   "id": "joined-observation",
   "metadata": {},
   "outputs": [
    {
     "data": {
      "text/plain": [
       "<matplotlib.axes._subplots.AxesSubplot at 0x2ade80163ad0>"
      ]
     },
     "execution_count": 46,
     "metadata": {},
     "output_type": "execute_result"
    },
    {
     "data": {
      "image/png": "[encoded data removed]",
      "text/plain": [
       "<Figure size 1440x432 with 2 Axes>"
      ]
     },
     "metadata": {},
     "output_type": "display_data"
    }
   ],
   "source": [
    "purchase_count = purchase.groupby(['day of week', 'hour']).count()['price'].unstack()\n",
    "plt.figure(figsize=(20,6))\n",
    "sns.heatmap(purchase_count.reindex(index = ['Mon','Tue','Wed','Thu','Fri','Sat','Sun']), \n",
    "            cmap=\"YlGnBu\", annot=True, fmt=\"d\", linewidths=0.5)"
   ]
  },
  {
   "cell_type": "markdown",
   "id": "angry-writing",
   "metadata": {},
   "source": [
    "The most frequently, customers tend to shop online on weekdays from 10am to 4pm. There are sudden peaks around 8-9pm too (Mon-Thu) and intuitively, on sunday nights (5-9pm), online buyers restart their shopping habbits from relatively low Saturday"
   ]
  },
  {
   "cell_type": "markdown",
   "id": "cloudy-assistant",
   "metadata": {},
   "source": [
    "#### Data Modeling"
   ]
  },
  {
   "cell_type": "code",
   "execution_count": 47,
   "id": "canadian-stocks",
   "metadata": {},
   "outputs": [
    {
     "data": {
      "text/plain": [
       "Index(['order_id', 'order_item_id', 'product_id', 'seller_id',\n",
       "       'shipping_limit_date', 'price', 'freight_value', 'payment_sequential',\n",
       "       'payment_type', 'payment_installments', 'payment_value', 'review_id',\n",
       "       'review_score', 'review_comment_title', 'review_comment_message',\n",
       "       'review_creation_date', 'review_answer_timestamp', 'customer_id',\n",
       "       'order_status', 'order_purchase_timestamp', 'order_approved_at',\n",
       "       'order_delivered_carrier_date', 'order_delivered_customer_date',\n",
       "       'order_estimated_delivery_date', 'product_category_name',\n",
       "       'product_name_lenght', 'product_description_lenght',\n",
       "       'product_photos_qty', 'product_weight_g', 'product_length_cm',\n",
       "       'product_height_cm', 'product_width_cm', 'seller_zip_code_prefix',\n",
       "       'seller_city', 'seller_state', 'product_category_name_english',\n",
       "       'order_purchase_date', 'order_purchase_week', 'delivery_accuracy',\n",
       "       'total_value', 'customer_unique_id', 'customer_zip_code_prefix',\n",
       "       'customer_city', 'customer_state'],\n",
       "      dtype='object')"
      ]
     },
     "execution_count": 47,
     "metadata": {},
     "output_type": "execute_result"
    }
   ],
   "source": [
    "ord_final_cust.columns"
   ]
  },
  {
   "cell_type": "code",
   "execution_count": 48,
   "id": "electoral-deployment",
   "metadata": {},
   "outputs": [],
   "source": [
    "model_df = ord_final_cust[['order_status', 'price',\n",
    "                 'freight_value', 'order_item_id',\n",
    "                 'order_purchase_timestamp', 'order_approved_at', 'order_estimated_delivery_date', \n",
    "                 'order_delivered_customer_date', 'customer_state', \n",
    "                 'product_category_name_english', 'product_name_lenght', 'product_description_lenght', \n",
    "                 'product_photos_qty', 'review_score']]"
   ]
  },
  {
   "cell_type": "code",
   "execution_count": 185,
   "id": "experienced-nirvana",
   "metadata": {},
   "outputs": [
    {
     "data": {
      "text/html": [
       "<div>\n",
       "<style scoped>\n",
       "    .dataframe tbody tr th:only-of-type {\n",
       "        vertical-align: middle;\n",
       "    }\n",
       "\n",
       "    .dataframe tbody tr th {\n",
       "        vertical-align: top;\n",
       "    }\n",
       "\n",
       "    .dataframe thead th {\n",
       "        text-align: right;\n",
       "    }\n",
       "</style>\n",
       "<table border=\"1\" class=\"dataframe\">\n",
       "  <thead>\n",
       "    <tr style=\"text-align: right;\">\n",
       "      <th></th>\n",
       "      <th>order_status</th>\n",
       "      <th>price</th>\n",
       "      <th>freight_value</th>\n",
       "      <th>order_item_id</th>\n",
       "      <th>order_purchase_timestamp</th>\n",
       "      <th>order_approved_at</th>\n",
       "      <th>order_estimated_delivery_date</th>\n",
       "      <th>order_delivered_customer_date</th>\n",
       "      <th>customer_state</th>\n",
       "      <th>product_category_name_english</th>\n",
       "      <th>product_name_lenght</th>\n",
       "      <th>product_description_lenght</th>\n",
       "      <th>product_photos_qty</th>\n",
       "      <th>review_score</th>\n",
       "    </tr>\n",
       "  </thead>\n",
       "  <tbody>\n",
       "    <tr>\n",
       "      <th>0</th>\n",
       "      <td>delivered</td>\n",
       "      <td>58.9</td>\n",
       "      <td>13.29</td>\n",
       "      <td>1</td>\n",
       "      <td>2017-09-13 08:59:02</td>\n",
       "      <td>2017-09-13 09:45:35</td>\n",
       "      <td>2017-09-29</td>\n",
       "      <td>2017-09-20 23:43:48</td>\n",
       "      <td>RJ</td>\n",
       "      <td>cool_stuff</td>\n",
       "      <td>58.0</td>\n",
       "      <td>598.0</td>\n",
       "      <td>4.0</td>\n",
       "      <td>5</td>\n",
       "    </tr>\n",
       "    <tr>\n",
       "      <th>1</th>\n",
       "      <td>delivered</td>\n",
       "      <td>55.9</td>\n",
       "      <td>17.96</td>\n",
       "      <td>1</td>\n",
       "      <td>2017-06-28 11:52:20</td>\n",
       "      <td>2017-06-29 02:44:11</td>\n",
       "      <td>2017-07-26</td>\n",
       "      <td>2017-07-13 20:39:29</td>\n",
       "      <td>GO</td>\n",
       "      <td>cool_stuff</td>\n",
       "      <td>58.0</td>\n",
       "      <td>598.0</td>\n",
       "      <td>4.0</td>\n",
       "      <td>5</td>\n",
       "    </tr>\n",
       "  </tbody>\n",
       "</table>\n",
       "</div>"
      ],
      "text/plain": [
       "  order_status  price  freight_value  order_item_id order_purchase_timestamp  \\\n",
       "0    delivered   58.9          13.29              1      2017-09-13 08:59:02   \n",
       "1    delivered   55.9          17.96              1      2017-06-28 11:52:20   \n",
       "\n",
       "    order_approved_at order_estimated_delivery_date  \\\n",
       "0 2017-09-13 09:45:35                    2017-09-29   \n",
       "1 2017-06-29 02:44:11                    2017-07-26   \n",
       "\n",
       "  order_delivered_customer_date customer_state product_category_name_english  \\\n",
       "0           2017-09-20 23:43:48             RJ                    cool_stuff   \n",
       "1           2017-07-13 20:39:29             GO                    cool_stuff   \n",
       "\n",
       "   product_name_lenght  product_description_lenght  product_photos_qty  \\\n",
       "0                 58.0                       598.0                 4.0   \n",
       "1                 58.0                       598.0                 4.0   \n",
       "\n",
       "   review_score  \n",
       "0             5  \n",
       "1             5  "
      ]
     },
     "execution_count": 185,
     "metadata": {},
     "output_type": "execute_result"
    }
   ],
   "source": [
    "model_df.head(2)"
   ]
  },
  {
   "cell_type": "code",
   "execution_count": 187,
   "id": "convenient-diagnosis",
   "metadata": {},
   "outputs": [
    {
     "data": {
      "text/plain": [
       "array(['delivered', 'shipped', 'invoiced', 'processing', 'canceled',\n",
       "       'unavailable', 'approved'], dtype=object)"
      ]
     },
     "execution_count": 187,
     "metadata": {},
     "output_type": "execute_result"
    }
   ],
   "source": [
    "model_df['order_status'].unique()"
   ]
  },
  {
   "cell_type": "markdown",
   "id": "unsigned-sword",
   "metadata": {},
   "source": [
    "##### Class Balances"
   ]
  },
  {
   "cell_type": "code",
   "execution_count": 50,
   "id": "verified-grocery",
   "metadata": {},
   "outputs": [
    {
     "data": {
      "text/plain": [
       "5    0.561657\n",
       "4    0.188857\n",
       "1    0.129611\n",
       "3    0.084423\n",
       "2    0.035452\n",
       "Name: review_score, dtype: float64"
      ]
     },
     "execution_count": 50,
     "metadata": {},
     "output_type": "execute_result"
    }
   ],
   "source": [
    "# We keep the same proportion of classes\n",
    "model_df['review_score'].value_counts() / len(model_df['review_score'])"
   ]
  },
  {
   "cell_type": "code",
   "execution_count": 51,
   "id": "diagnostic-pattern",
   "metadata": {},
   "outputs": [],
   "source": [
    "train_set, test_set = train_test_split(model_df, test_size=0.2, random_state=42)"
   ]
  },
  {
   "cell_type": "code",
   "execution_count": 52,
   "id": "million-minimum",
   "metadata": {},
   "outputs": [
    {
     "data": {
      "text/plain": [
       "5    0.559916\n",
       "4    0.190256\n",
       "1    0.130383\n",
       "3    0.083462\n",
       "2    0.035984\n",
       "Name: review_score, dtype: float64"
      ]
     },
     "execution_count": 52,
     "metadata": {},
     "output_type": "execute_result"
    }
   ],
   "source": [
    "test_set['review_score'].value_counts() / len(test_set['review_score'])"
   ]
  },
  {
   "cell_type": "markdown",
   "id": "exposed-conditions",
   "metadata": {},
   "source": [
    "Now lets do a stratified shuffle split and compare to the full dataset again"
   ]
  },
  {
   "cell_type": "code",
   "execution_count": 53,
   "id": "headed-hierarchy",
   "metadata": {},
   "outputs": [],
   "source": [
    "split = StratifiedShuffleSplit(n_splits=1, test_size=0.2, random_state=42)\n",
    "for train_index, test_index in split.split(model_df, model_df['review_score']):\n",
    "    strat_train_set = model_df.loc[train_index]\n",
    "    strat_test_set = model_df.loc[test_index]"
   ]
  },
  {
   "cell_type": "code",
   "execution_count": 54,
   "id": "senior-repeat",
   "metadata": {},
   "outputs": [
    {
     "data": {
      "text/plain": [
       "5    0.561674\n",
       "4    0.188840\n",
       "1    0.129611\n",
       "3    0.084406\n",
       "2    0.035469\n",
       "Name: review_score, dtype: float64"
      ]
     },
     "execution_count": 54,
     "metadata": {},
     "output_type": "execute_result"
    }
   ],
   "source": [
    "strat_test_set['review_score'].value_counts() / len(strat_test_set['review_score'])"
   ]
  },
  {
   "cell_type": "markdown",
   "id": "gentle-enhancement",
   "metadata": {},
   "source": [
    "By doing a stratified split we keep the same proportion between classes. This split better represents the original data and will possibly reduce bias."
   ]
  },
  {
   "cell_type": "markdown",
   "id": "scenic-cooking",
   "metadata": {},
   "source": [
    "Split X and y"
   ]
  },
  {
   "cell_type": "code",
   "execution_count": 55,
   "id": "sudden-franchise",
   "metadata": {},
   "outputs": [],
   "source": [
    "#X Train\n",
    "orders_features = strat_train_set.drop('review_score', axis=1)\n",
    "#y Train\n",
    "orders_labels = strat_train_set['review_score'].copy()"
   ]
  },
  {
   "cell_type": "markdown",
   "id": "acting-exclusive",
   "metadata": {},
   "source": [
    "Feature Engineering"
   ]
  },
  {
   "cell_type": "code",
   "execution_count": 57,
   "id": "temporal-marriage",
   "metadata": {},
   "outputs": [
    {
     "data": {
      "text/plain": [
       "review_score                  1.000000\n",
       "product_photos_qty            0.022787\n",
       "product_description_lenght    0.009918\n",
       "product_name_lenght          -0.004798\n",
       "price                        -0.005871\n",
       "freight_value                -0.039021\n",
       "order_item_id                -0.131426\n",
       "Name: review_score, dtype: float64"
      ]
     },
     "execution_count": 57,
     "metadata": {},
     "output_type": "execute_result"
    }
   ],
   "source": [
    "corr_matrix = strat_train_set.corr()\n",
    "corr_matrix['review_score'].sort_values(ascending=False)"
   ]
  },
  {
   "cell_type": "markdown",
   "id": "metropolitan-sentence",
   "metadata": {},
   "source": [
    "It's clear that we have to create more informative features to model this problem."
   ]
  },
  {
   "cell_type": "code",
   "execution_count": 261,
   "id": "declared-security",
   "metadata": {},
   "outputs": [],
   "source": [
    "from sklearn.base import BaseEstimator, TransformerMixin\n",
    "\n",
    "class AttributesAdder(BaseEstimator, TransformerMixin):\n",
    "    def __init__(self):\n",
    "        pass    \n",
    "    \n",
    "    def fit(self, X, y=None):\n",
    "        return self\n",
    "    \n",
    "    def transform(self, X, y=None):\n",
    "        df = X.copy()\n",
    "        \n",
    "        # Calculate the estimated delivery time and actual delivery time in working days. \n",
    "        # This would allow us to exclude hollidays that could influence delivery times.\n",
    "        # If the order_delivered_customer_date is null, it returns 0.\n",
    "        df['wd_estimated_delivery_time'] = (df['order_estimated_delivery_date'] - df['order_approved_at']) / (np.timedelta64(1, 'D'))\n",
    "        \n",
    "        df['wd_actual_delivery_time'] = (df['order_delivered_customer_date'] - df['order_approved_at']) / (np.timedelta64(1, 'D'))\n",
    "         \n",
    "\n",
    "        # Calculate the time between the actual and estimated delivery date. If negative was delivered early, if positive was delivered late.\n",
    "        df['wd_delivery_time_delta'] = df.wd_actual_delivery_time - df.wd_estimated_delivery_time\n",
    "        \n",
    "        # Calculate the average product value.\n",
    "        df['average_product_value'] = df.price / df.order_item_id\n",
    "\n",
    "        # Calculate the total order value\n",
    "        df['total_order_value'] = df.price + df.freight_value\n",
    "        \n",
    "        # Calculate the order freight ratio.\n",
    "        df['order_freight_ratio'] = df.freight_value / df.price\n",
    "\n",
    "\n",
    "        # Calculate the time between the actual and estimated delivery date. If negative was delivered early, if positive was delivered late.\n",
    "        #df['is_late'] = df.order_delivered_customer_date > df.order_estimated_delivery_date\n",
    "        \n",
    "        # Calculate the order freight ratio.\n",
    "        #df['purchase_dayofweek'] = df.order_purchase_timestamp.dt.dayofweek\n",
    "        df['order_status_cat'] = df['order_status'].astype('category').cat.codes\n",
    "        \n",
    "        \n",
    "        # With that we can remove the timestamps from the dataset\n",
    "        cols2drop = ['order_purchase_timestamp', 'order_approved_at', 'order_estimated_delivery_date', \n",
    "                     'order_delivered_customer_date','order_item_id','price','product_name_lenght','order_status']\n",
    "        df.drop(cols2drop, axis=1, inplace=True)\n",
    "        \n",
    "\n",
    "        \n",
    "        return df"
   ]
  },
  {
   "cell_type": "code",
   "execution_count": 262,
   "id": "beautiful-lease",
   "metadata": {},
   "outputs": [
    {
     "data": {
      "text/html": [
       "<div>\n",
       "<style scoped>\n",
       "    .dataframe tbody tr th:only-of-type {\n",
       "        vertical-align: middle;\n",
       "    }\n",
       "\n",
       "    .dataframe tbody tr th {\n",
       "        vertical-align: top;\n",
       "    }\n",
       "\n",
       "    .dataframe thead th {\n",
       "        text-align: right;\n",
       "    }\n",
       "</style>\n",
       "<table border=\"1\" class=\"dataframe\">\n",
       "  <thead>\n",
       "    <tr style=\"text-align: right;\">\n",
       "      <th></th>\n",
       "      <th>freight_value</th>\n",
       "      <th>customer_state</th>\n",
       "      <th>product_category_name_english</th>\n",
       "      <th>product_description_lenght</th>\n",
       "      <th>product_photos_qty</th>\n",
       "      <th>review_score</th>\n",
       "      <th>wd_estimated_delivery_time</th>\n",
       "      <th>wd_actual_delivery_time</th>\n",
       "      <th>wd_delivery_time_delta</th>\n",
       "      <th>average_product_value</th>\n",
       "      <th>total_order_value</th>\n",
       "      <th>order_freight_ratio</th>\n",
       "      <th>order_status_cat</th>\n",
       "    </tr>\n",
       "  </thead>\n",
       "  <tbody>\n",
       "    <tr>\n",
       "      <th>90306</th>\n",
       "      <td>15.23</td>\n",
       "      <td>RS</td>\n",
       "      <td>cine_photo</td>\n",
       "      <td>300.0</td>\n",
       "      <td>1.0</td>\n",
       "      <td>5</td>\n",
       "      <td>27.892222</td>\n",
       "      <td>11.657269</td>\n",
       "      <td>-16.234954</td>\n",
       "      <td>10.0</td>\n",
       "      <td>25.23</td>\n",
       "      <td>1.523000</td>\n",
       "      <td>2</td>\n",
       "    </tr>\n",
       "    <tr>\n",
       "      <th>110121</th>\n",
       "      <td>19.32</td>\n",
       "      <td>MG</td>\n",
       "      <td>home_appliances</td>\n",
       "      <td>190.0</td>\n",
       "      <td>1.0</td>\n",
       "      <td>1</td>\n",
       "      <td>33.340150</td>\n",
       "      <td>6.075266</td>\n",
       "      <td>-27.264884</td>\n",
       "      <td>40.0</td>\n",
       "      <td>59.32</td>\n",
       "      <td>0.483000</td>\n",
       "      <td>2</td>\n",
       "    </tr>\n",
       "    <tr>\n",
       "      <th>60796</th>\n",
       "      <td>18.40</td>\n",
       "      <td>PR</td>\n",
       "      <td>sports_leisure</td>\n",
       "      <td>799.0</td>\n",
       "      <td>1.0</td>\n",
       "      <td>4</td>\n",
       "      <td>20.552639</td>\n",
       "      <td>4.200058</td>\n",
       "      <td>-16.352581</td>\n",
       "      <td>43.0</td>\n",
       "      <td>61.40</td>\n",
       "      <td>0.427907</td>\n",
       "      <td>2</td>\n",
       "    </tr>\n",
       "  </tbody>\n",
       "</table>\n",
       "</div>"
      ],
      "text/plain": [
       "        freight_value customer_state product_category_name_english  \\\n",
       "90306           15.23             RS                    cine_photo   \n",
       "110121          19.32             MG               home_appliances   \n",
       "60796           18.40             PR                sports_leisure   \n",
       "\n",
       "        product_description_lenght  product_photos_qty  review_score  \\\n",
       "90306                        300.0                 1.0             5   \n",
       "110121                       190.0                 1.0             1   \n",
       "60796                        799.0                 1.0             4   \n",
       "\n",
       "        wd_estimated_delivery_time  wd_actual_delivery_time  \\\n",
       "90306                    27.892222                11.657269   \n",
       "110121                   33.340150                 6.075266   \n",
       "60796                    20.552639                 4.200058   \n",
       "\n",
       "        wd_delivery_time_delta  average_product_value  total_order_value  \\\n",
       "90306               -16.234954                   10.0              25.23   \n",
       "110121              -27.264884                   40.0              59.32   \n",
       "60796               -16.352581                   43.0              61.40   \n",
       "\n",
       "        order_freight_ratio  order_status_cat  \n",
       "90306              1.523000                 2  \n",
       "110121             0.483000                 2  \n",
       "60796              0.427907                 2  "
      ]
     },
     "execution_count": 262,
     "metadata": {},
     "output_type": "execute_result"
    }
   ],
   "source": [
    "# Executing the estimator we just created\n",
    "attr_adder = AttributesAdder()\n",
    "feat_eng = attr_adder.transform(strat_train_set)\n",
    "feat_eng.head(3)"
   ]
  },
  {
   "cell_type": "markdown",
   "id": "legendary-worst",
   "metadata": {},
   "source": [
    "##### Dealing with Categorical and Numerical Attributes"
   ]
  },
  {
   "cell_type": "code",
   "execution_count": 263,
   "id": "separated-alexandria",
   "metadata": {},
   "outputs": [],
   "source": [
    "# selecting the numerical and text attributes\n",
    "cat_attribs = ['customer_state', 'product_category_name_english','product_photos_qty']\n",
    "num_attribs = orders_features.drop(cat_attribs, axis=1).columns"
   ]
  },
  {
   "cell_type": "code",
   "execution_count": 264,
   "id": "small-advertiser",
   "metadata": {},
   "outputs": [
    {
     "data": {
      "text/plain": [
       "Index(['freight_value', 'product_description_lenght',\n",
       "       'wd_estimated_delivery_time', 'wd_actual_delivery_time',\n",
       "       'wd_delivery_time_delta', 'average_product_value', 'total_order_value',\n",
       "       'order_freight_ratio', 'order_status_cat'],\n",
       "      dtype='object')"
      ]
     },
     "execution_count": 264,
     "metadata": {},
     "output_type": "execute_result"
    }
   ],
   "source": [
    "x = feat_eng.drop(cat_attribs, axis=1)\n",
    "final_columns = x.drop('review_score', axis=1).columns\n",
    "final_columns"
   ]
  },
  {
   "cell_type": "code",
   "execution_count": 265,
   "id": "green-eleven",
   "metadata": {},
   "outputs": [
    {
     "data": {
      "text/plain": [
       "Index(['order_status', 'price', 'freight_value', 'order_item_id',\n",
       "       'order_purchase_timestamp', 'order_approved_at',\n",
       "       'order_estimated_delivery_date', 'order_delivered_customer_date',\n",
       "       'product_name_lenght', 'product_description_lenght'],\n",
       "      dtype='object')"
      ]
     },
     "execution_count": 265,
     "metadata": {},
     "output_type": "execute_result"
    }
   ],
   "source": [
    "num_attribs"
   ]
  },
  {
   "cell_type": "code",
   "execution_count": 266,
   "id": "quality-support",
   "metadata": {},
   "outputs": [],
   "source": [
    "class DataFrameSelector(BaseEstimator, TransformerMixin):\n",
    "    def __init__(self, attribute_names):\n",
    "        self.attribute_names = attribute_names\n",
    "    \n",
    "    def fit(self, X, y=None):\n",
    "        return self\n",
    "    \n",
    "    def transform(self, X, y=None):\n",
    "        return X[self.attribute_names]"
   ]
  },
  {
   "cell_type": "markdown",
   "id": "current-weapon",
   "metadata": {},
   "source": [
    "Creating pipelines to handle unseen data"
   ]
  },
  {
   "cell_type": "code",
   "execution_count": 267,
   "id": "mineral-brand",
   "metadata": {},
   "outputs": [],
   "source": [
    "from sklearn.pipeline import Pipeline\n",
    "from sklearn.preprocessing import StandardScaler\n",
    "\n",
    "num_pipeline = Pipeline([('selector', DataFrameSelector(num_attribs)),\n",
    "                         ('attribs_adder', AttributesAdder()),\n",
    "                         ('std_scaller', StandardScaler())\n",
    "                        ])"
   ]
  },
  {
   "cell_type": "code",
   "execution_count": 268,
   "id": "advised-mexican",
   "metadata": {},
   "outputs": [
    {
     "data": {
      "text/plain": [
       "array([[-0.3053029 , -0.74315415,  0.49753199, ..., -0.60712004,\n",
       "         3.33877789, -0.10759662],\n",
       "       [-0.04792166, -0.91184207,  1.10851276, ..., -0.4278693 ,\n",
       "         0.44466092, -0.10759662],\n",
       "       [-0.10581671,  0.02207562, -0.32559636, ..., -0.41693232,\n",
       "         0.29134779, -0.10759662],\n",
       "       ...,\n",
       "       [-0.05232672, -1.06059415,  0.3779607 , ..., -0.38091391,\n",
       "         0.19381095, -0.10759662],\n",
       "       [-1.08751532,  0.58334635,  0.71713284, ..., -0.44111987,\n",
       "        -0.7551402 , -0.10759662],\n",
       "       [ 0.45362564, -0.28769675,  0.31345674, ...,  0.13459628,\n",
       "        -0.35308312, -0.10759662]])"
      ]
     },
     "execution_count": 268,
     "metadata": {},
     "output_type": "execute_result"
    }
   ],
   "source": [
    "# lets see how the resulting data looks like\n",
    "orders_features_prepared = num_pipeline.fit_transform(orders_features)\n",
    "orders_features_prepared"
   ]
  },
  {
   "cell_type": "markdown",
   "id": "athletic-smith",
   "metadata": {},
   "source": [
    "### Linear Regression"
   ]
  },
  {
   "cell_type": "code",
   "execution_count": 269,
   "id": "round-poverty",
   "metadata": {},
   "outputs": [
    {
     "data": {
      "text/plain": [
       "LinearRegression()"
      ]
     },
     "execution_count": 269,
     "metadata": {},
     "output_type": "execute_result"
    }
   ],
   "source": [
    "from sklearn.linear_model import LinearRegression\n",
    "\n",
    "lin_reg = LinearRegression()\n",
    "lin_reg.fit(orders_features_prepared, orders_labels)"
   ]
  },
  {
   "cell_type": "code",
   "execution_count": 270,
   "id": "filled-booth",
   "metadata": {},
   "outputs": [],
   "source": [
    "some_data = orders_features.iloc[:8]\n",
    "some_labels = orders_labels.iloc[:8]\n",
    "some_data_prepared = num_pipeline.transform(some_data)"
   ]
  },
  {
   "cell_type": "code",
   "execution_count": 271,
   "id": "exempt-spring",
   "metadata": {},
   "outputs": [
    {
     "data": {
      "text/plain": [
       "array([[-0.3053029 , -0.74315415,  0.49753199, -0.04266034, -0.47429158,\n",
       "        -0.57626705, -0.60712004,  3.33877789, -5.98110623],\n",
       "       [-0.04792166, -0.91184207,  1.10851276, -0.64189807, -1.55656233,\n",
       "        -0.41130801, -0.4278693 ,  0.44466092, -5.98110623],\n",
       "       [-0.10581671,  0.02207562, -0.32559636, -0.84320497, -0.48583332,\n",
       "        -0.39481211, -0.41693232,  0.29134779, -5.98110623],\n",
       "       [-0.28264832,  1.30870442, -0.33893095,  1.85612254,  1.99306305,\n",
       "         0.02803291, -0.02735511, -0.53759954, -5.98110623],\n",
       "       [-0.2845362 ,  1.03573669, -0.34429049, -0.64785708, -0.29092633,\n",
       "        -0.35637665, -0.39511095, -0.0332517 , -5.98110623],\n",
       "       [-0.34998277,  0.71522964,  0.23686689,  0.10365737, -0.1124944 ,\n",
       "        -0.53530223, -0.4799251 ,  0.25834058, -5.98110623],\n",
       "       [ 0.7814878 ,  1.5034623 ,  1.62407325,  0.04521543, -1.37960207,\n",
       "        -0.38408977, -0.09618445,  0.10658574, -3.04435142],\n",
       "       [-0.72126622, -0.55759743, -1.35881235, -0.66481593,  0.5811957 ,\n",
       "        -0.35632166, -0.43155001, -0.41967824, -5.98110623]])"
      ]
     },
     "execution_count": 271,
     "metadata": {},
     "output_type": "execute_result"
    }
   ],
   "source": [
    "some_data_prepared"
   ]
  },
  {
   "cell_type": "code",
   "execution_count": 272,
   "id": "interstate-daughter",
   "metadata": {},
   "outputs": [
    {
     "name": "stdout",
     "output_type": "stream",
     "text": [
      "Predicted: [5.378002591467221, 5.813033273898545, 5.789527029863785, 4.633321005151231, 5.72341542358237, 5.3279532296276875, 4.688182303169263, 5.615832478259216] \n",
      " Labels: [5, 1, 4, 3, 5, 5, 1, 5]\n"
     ]
    }
   ],
   "source": [
    "print('Predicted: {} \\n Labels: {}'.format(list(lin_reg.predict(some_data_prepared)), list(some_labels.values)))"
   ]
  },
  {
   "cell_type": "markdown",
   "id": "twenty-slide",
   "metadata": {},
   "source": [
    "Looks like we are not even close to predicting the right values. Lets see whats the root mean squared error."
   ]
  },
  {
   "cell_type": "code",
   "execution_count": 273,
   "id": "exempt-lawsuit",
   "metadata": {},
   "outputs": [
    {
     "data": {
      "text/plain": [
       "1.3059763838361371"
      ]
     },
     "execution_count": 273,
     "metadata": {},
     "output_type": "execute_result"
    }
   ],
   "source": [
    "from sklearn.metrics import mean_squared_error\n",
    "\n",
    "predictions = lin_reg.predict(orders_features_prepared)\n",
    "lin_mse = mean_squared_error(orders_labels, predictions)\n",
    "lin_rmse = np.sqrt(lin_mse)\n",
    "lin_rmse"
   ]
  },
  {
   "cell_type": "markdown",
   "id": "technical-humanity",
   "metadata": {},
   "source": [
    "A typical prediction error of about 1.25 is not at all satisfying when we are trying to predict values that range from 1 to 5. So let's try a different model."
   ]
  },
  {
   "cell_type": "markdown",
   "id": "satisfied-black",
   "metadata": {},
   "source": [
    "### Tree - based models"
   ]
  },
  {
   "cell_type": "markdown",
   "id": "scenic-munich",
   "metadata": {},
   "source": [
    "#### Random forest"
   ]
  },
  {
   "cell_type": "code",
   "execution_count": 275,
   "id": "acoustic-european",
   "metadata": {},
   "outputs": [
    {
     "data": {
      "text/plain": [
       "0.4421222613543888"
      ]
     },
     "execution_count": 275,
     "metadata": {},
     "output_type": "execute_result"
    }
   ],
   "source": [
    "from sklearn.ensemble import RandomForestRegressor\n",
    "\n",
    "forest_reg = RandomForestRegressor(n_jobs=-1)\n",
    "forest_reg.fit(orders_features_prepared, orders_labels)\n",
    "\n",
    "predictions = forest_reg.predict(orders_features_prepared)\n",
    "forest_mse = mean_squared_error(orders_labels, predictions)\n",
    "forest_rmse = np.sqrt(forest_mse)\n",
    "forest_rmse"
   ]
  },
  {
   "cell_type": "markdown",
   "id": "considerable-index",
   "metadata": {},
   "source": [
    "Much better! We got a typical error of 0.45 with Random Forest. Looks like it's a good algorithm! Let's see some examples of predictions."
   ]
  },
  {
   "cell_type": "markdown",
   "id": "robust-shareware",
   "metadata": {},
   "source": [
    "Randomized Search CV"
   ]
  },
  {
   "cell_type": "code",
   "execution_count": 277,
   "id": "fuzzy-relay",
   "metadata": {},
   "outputs": [],
   "source": [
    "from sklearn.model_selection import cross_val_score, RandomizedSearchCV\n",
    "from sklearn.ensemble import RandomForestRegressor\n",
    "from sklearn.preprocessing import MinMaxScaler"
   ]
  },
  {
   "cell_type": "code",
   "execution_count": 278,
   "id": "respective-growing",
   "metadata": {},
   "outputs": [],
   "source": [
    "random_grid = {\n",
    "               'max_depth': [100,150,200,250,300],\n",
    "               'n_estimators': [1000,1500,2000,2500]}"
   ]
  },
  {
   "cell_type": "code",
   "execution_count": null,
   "id": "assured-spell",
   "metadata": {},
   "outputs": [
    {
     "name": "stdout",
     "output_type": "stream",
     "text": [
      "Fitting 5 folds for each of 10 candidates, totalling 50 fits\n"
     ]
    }
   ],
   "source": [
    "rf_random = RandomizedSearchCV(estimator = forest_reg, param_distributions = random_grid, cv = 5, verbose=2, \n",
    "                               random_state=42, n_jobs = -1)\n",
    "# Fit the random search model\n",
    "rf_random.fit(orders_features_prepared, orders_labels)"
   ]
  },
  {
   "cell_type": "code",
   "execution_count": null,
   "id": "quick-entry",
   "metadata": {},
   "outputs": [],
   "source": [
    "print(rf_random.best_params_)\n",
    "print(rf_random.best_score_)\n",
    "print(rf_random.best_estimator_)"
   ]
  },
  {
   "cell_type": "code",
   "execution_count": 279,
   "id": "arranged-packaging",
   "metadata": {},
   "outputs": [
    {
     "data": {
      "text/plain": [
       "0.432437385868357"
      ]
     },
     "execution_count": 279,
     "metadata": {},
     "output_type": "execute_result"
    }
   ],
   "source": [
    "bestforest_reg = RandomForestRegressor(n_estimators = 2000, max_depth = 300,n_jobs=-1)\n",
    "bestforest_reg.fit(orders_features_prepared, orders_labels)\n",
    "\n",
    "predictions = bestforest_reg.predict(orders_features_prepared)\n",
    "forest_mse = mean_squared_error(orders_labels, predictions)\n",
    "forest_rmse = np.sqrt(forest_mse)\n",
    "forest_rmse"
   ]
  },
  {
   "cell_type": "markdown",
   "id": "driving-granny",
   "metadata": {},
   "source": [
    "After Grid search we can see that we have significantly reduced the RMSE"
   ]
  },
  {
   "cell_type": "markdown",
   "id": "cross-arrangement",
   "metadata": {},
   "source": [
    "#### Gradient Boosting"
   ]
  },
  {
   "cell_type": "code",
   "execution_count": 287,
   "id": "fatty-pregnancy",
   "metadata": {},
   "outputs": [
    {
     "data": {
      "text/plain": [
       "1.2179965123249512"
      ]
     },
     "execution_count": 287,
     "metadata": {},
     "output_type": "execute_result"
    }
   ],
   "source": [
    "from sklearn.ensemble import GradientBoostingRegressor\n",
    "\n",
    "gbr = GradientBoostingRegressor()\n",
    "gbr.fit(orders_features_prepared, orders_labels)\n",
    "\n",
    "gbr_pred = gbr.predict(orders_features_prepared)\n",
    "gbr_mse = mean_squared_error(orders_labels, gbr_pred)\n",
    "gbr_rmse = np.sqrt(gbr_mse)\n",
    "gbr_rmse"
   ]
  },
  {
   "cell_type": "markdown",
   "id": "arranged-airport",
   "metadata": {},
   "source": [
    "Randomized Search CV"
   ]
  },
  {
   "cell_type": "code",
   "execution_count": 290,
   "id": "boxed-condition",
   "metadata": {},
   "outputs": [
    {
     "name": "stdout",
     "output_type": "stream",
     "text": [
      "0.26586611390129844\n",
      "{'n_estimators': 1000, 'min_samples_split': 100, 'min_samples_leaf': 4, 'max_depth': 4, 'learning_rate': 0.125}\n"
     ]
    }
   ],
   "source": [
    "param_dist = {\"learning_rate\": np.linspace(0.05, 0.15,5),\n",
    "               \"max_depth\": range(3, 5),\n",
    "               \"min_samples_leaf\": range(3, 5),\n",
    "              \"min_samples_split\": [50, 100],\n",
    "             'n_estimators' : [500,1000]}\n",
    "\n",
    "rand = RandomizedSearchCV(gbr, param_dist, cv=7,n_iter=10, random_state=5,n_jobs=-1)\n",
    "rand.fit(orders_features_prepared, orders_labels)\n",
    "\n",
    "print(rand.best_score_)\n",
    "print(rand.best_params_)"
   ]
  },
  {
   "cell_type": "code",
   "execution_count": 292,
   "id": "popular-citation",
   "metadata": {},
   "outputs": [
    {
     "data": {
      "text/plain": [
       "1.1191182498088796"
      ]
     },
     "execution_count": 292,
     "metadata": {},
     "output_type": "execute_result"
    }
   ],
   "source": [
    "gbr_best = GradientBoostingRegressor(n_estimators= 1000, min_samples_split= 100, min_samples_leaf= 4, max_depth= 4,\n",
    "                                     learning_rate= 0.125)\n",
    "gbr_best.fit(orders_features_prepared, orders_labels)\n",
    "\n",
    "gbr_pred_best = gbr_best.predict(orders_features_prepared)\n",
    "gbr_mse_best = mean_squared_error(orders_labels, gbr_pred_best)\n",
    "gbr_rmse_best = np.sqrt(gbr_mse_best)\n",
    "gbr_rmse_best"
   ]
  },
  {
   "cell_type": "markdown",
   "id": "assured-plant",
   "metadata": {},
   "source": [
    "##### Neural Network"
   ]
  },
  {
   "cell_type": "raw",
   "id": "human-theory",
   "metadata": {},
   "source": [
    "!pip install keras"
   ]
  },
  {
   "cell_type": "raw",
   "id": "simple-battlefield",
   "metadata": {},
   "source": [
    "!pip install tensorflow"
   ]
  },
  {
   "cell_type": "code",
   "execution_count": 176,
   "id": "suitable-impression",
   "metadata": {},
   "outputs": [],
   "source": [
    "# Regression Example With Boston Dataset: Baseline\n",
    "from pandas import read_csv\n",
    "from keras.models import Sequential\n",
    "from keras.layers import Dense\n",
    "from keras.wrappers.scikit_learn import KerasRegressor\n",
    "from sklearn.model_selection import cross_val_score\n",
    "from sklearn.model_selection import KFold"
   ]
  },
  {
   "cell_type": "code",
   "execution_count": 177,
   "id": "extra-coverage",
   "metadata": {},
   "outputs": [],
   "source": [
    "y = np.array(orders_labels)"
   ]
  },
  {
   "cell_type": "code",
   "execution_count": 178,
   "id": "viral-pleasure",
   "metadata": {},
   "outputs": [
    {
     "data": {
      "text/plain": [
       "array([[5],\n",
       "       [1],\n",
       "       [4],\n",
       "       ...,\n",
       "       [5],\n",
       "       [5],\n",
       "       [5]])"
      ]
     },
     "execution_count": 178,
     "metadata": {},
     "output_type": "execute_result"
    }
   ],
   "source": [
    "y_train=np.reshape(y, (-1,1))\n",
    "y_train"
   ]
  },
  {
   "cell_type": "code",
   "execution_count": 180,
   "id": "atomic-samoa",
   "metadata": {},
   "outputs": [
    {
     "name": "stdout",
     "output_type": "stream",
     "text": [
      "Baseline: -1.64 (0.02) MSE\n"
     ]
    }
   ],
   "source": [
    "# define base model\n",
    "def baseline_model():\n",
    "    # create model\n",
    "    model = Sequential()\n",
    "    model.add(Dense(13, input_dim=9, kernel_initializer='normal', activation='relu'))\n",
    "    model.add(Dense(1, kernel_initializer='normal'))\n",
    "    # Compile model\n",
    "    model.compile(loss='mean_squared_error', optimizer='adam')\n",
    "    return model\n",
    "# evaluate model\n",
    "estimator = KerasRegressor(build_fn=baseline_model, epochs=100, batch_size=5, verbose=0)\n",
    "kfold = KFold(n_splits=10)\n",
    "results = cross_val_score(estimator, orders_features_prepared, orders_labels, cv=kfold , n_jobs=-1)\n",
    "print(\"Baseline: %.2f (%.2f) MSE\" % (results.mean(), results.std()))"
   ]
  },
  {
   "cell_type": "markdown",
   "id": "assumed-logic",
   "metadata": {},
   "source": [
    "##### Tune the NN model"
   ]
  },
  {
   "cell_type": "code",
   "execution_count": 181,
   "id": "atlantic-method",
   "metadata": {},
   "outputs": [
    {
     "name": "stdout",
     "output_type": "stream",
     "text": [
      "Baseline: -1.64 (0.02) MSE\n"
     ]
    }
   ],
   "source": [
    "# define the model\n",
    "def larger_model():\n",
    "    # create model\n",
    "    model = Sequential()\n",
    "    model.add(Dense(20, input_dim=9, kernel_initializer='normal', activation='relu'))\n",
    "    model.add(Dense(1, kernel_initializer='normal'))\n",
    "    # Compile model\n",
    "    model.compile(loss='mean_squared_error', optimizer='adam')\n",
    "    return model\n",
    "\n",
    "\n",
    "estimator = KerasRegressor(build_fn=larger_model, epochs=50, batch_size=5, verbose=0)\n",
    "kfold = KFold(n_splits=10)\n",
    "results = cross_val_score(estimator, orders_features_prepared, orders_labels, cv=kfold , n_jobs=-1)\n",
    "print(\"Baseline: %.2f (%.2f) MSE\" % (results.mean(), results.std()))"
   ]
  },
  {
   "cell_type": "markdown",
   "id": "recreational-letters",
   "metadata": {},
   "source": [
    "RF has the lowest RMSE hence we shall now test the model on Test Data"
   ]
  },
  {
   "cell_type": "markdown",
   "id": "national-cycle",
   "metadata": {},
   "source": [
    "## Model Testing"
   ]
  },
  {
   "cell_type": "code",
   "execution_count": 280,
   "id": "faced-stocks",
   "metadata": {},
   "outputs": [],
   "source": [
    "X_test = strat_test_set.drop('review_score', axis=1)\n",
    "#y Train\n",
    "y_test = strat_test_set['review_score'].copy()"
   ]
  },
  {
   "cell_type": "code",
   "execution_count": 281,
   "id": "analyzed-accordance",
   "metadata": {},
   "outputs": [
    {
     "data": {
      "text/html": [
       "<div>\n",
       "<style scoped>\n",
       "    .dataframe tbody tr th:only-of-type {\n",
       "        vertical-align: middle;\n",
       "    }\n",
       "\n",
       "    .dataframe tbody tr th {\n",
       "        vertical-align: top;\n",
       "    }\n",
       "\n",
       "    .dataframe thead th {\n",
       "        text-align: right;\n",
       "    }\n",
       "</style>\n",
       "<table border=\"1\" class=\"dataframe\">\n",
       "  <thead>\n",
       "    <tr style=\"text-align: right;\">\n",
       "      <th></th>\n",
       "      <th>freight_value</th>\n",
       "      <th>customer_state</th>\n",
       "      <th>product_category_name_english</th>\n",
       "      <th>product_description_lenght</th>\n",
       "      <th>product_photos_qty</th>\n",
       "      <th>review_score</th>\n",
       "      <th>wd_estimated_delivery_time</th>\n",
       "      <th>wd_actual_delivery_time</th>\n",
       "      <th>wd_delivery_time_delta</th>\n",
       "      <th>average_product_value</th>\n",
       "      <th>total_order_value</th>\n",
       "      <th>order_freight_ratio</th>\n",
       "      <th>order_status_cat</th>\n",
       "    </tr>\n",
       "  </thead>\n",
       "  <tbody>\n",
       "    <tr>\n",
       "      <th>108360</th>\n",
       "      <td>18.21</td>\n",
       "      <td>SP</td>\n",
       "      <td>luggage_accessories</td>\n",
       "      <td>1345.0</td>\n",
       "      <td>2.0</td>\n",
       "      <td>4</td>\n",
       "      <td>26.048414</td>\n",
       "      <td>14.484387</td>\n",
       "      <td>-11.564028</td>\n",
       "      <td>110.90</td>\n",
       "      <td>129.11</td>\n",
       "      <td>0.164202</td>\n",
       "      <td>1</td>\n",
       "    </tr>\n",
       "    <tr>\n",
       "      <th>48074</th>\n",
       "      <td>7.39</td>\n",
       "      <td>SP</td>\n",
       "      <td>housewares</td>\n",
       "      <td>215.0</td>\n",
       "      <td>2.0</td>\n",
       "      <td>5</td>\n",
       "      <td>13.877014</td>\n",
       "      <td>1.635938</td>\n",
       "      <td>-12.241076</td>\n",
       "      <td>17.99</td>\n",
       "      <td>25.38</td>\n",
       "      <td>0.410784</td>\n",
       "      <td>1</td>\n",
       "    </tr>\n",
       "    <tr>\n",
       "      <th>49623</th>\n",
       "      <td>35.12</td>\n",
       "      <td>SP</td>\n",
       "      <td>housewares</td>\n",
       "      <td>106.0</td>\n",
       "      <td>1.0</td>\n",
       "      <td>5</td>\n",
       "      <td>6.794699</td>\n",
       "      <td>3.526377</td>\n",
       "      <td>-3.268322</td>\n",
       "      <td>115.00</td>\n",
       "      <td>150.12</td>\n",
       "      <td>0.305391</td>\n",
       "      <td>1</td>\n",
       "    </tr>\n",
       "  </tbody>\n",
       "</table>\n",
       "</div>"
      ],
      "text/plain": [
       "        freight_value customer_state product_category_name_english  \\\n",
       "108360          18.21             SP           luggage_accessories   \n",
       "48074            7.39             SP                    housewares   \n",
       "49623           35.12             SP                    housewares   \n",
       "\n",
       "        product_description_lenght  product_photos_qty  review_score  \\\n",
       "108360                      1345.0                 2.0             4   \n",
       "48074                        215.0                 2.0             5   \n",
       "49623                        106.0                 1.0             5   \n",
       "\n",
       "        wd_estimated_delivery_time  wd_actual_delivery_time  \\\n",
       "108360                   26.048414                14.484387   \n",
       "48074                    13.877014                 1.635938   \n",
       "49623                     6.794699                 3.526377   \n",
       "\n",
       "        wd_delivery_time_delta  average_product_value  total_order_value  \\\n",
       "108360              -11.564028                 110.90             129.11   \n",
       "48074               -12.241076                  17.99              25.38   \n",
       "49623                -3.268322                 115.00             150.12   \n",
       "\n",
       "        order_freight_ratio  order_status_cat  \n",
       "108360             0.164202                 1  \n",
       "48074              0.410784                 1  \n",
       "49623              0.305391                 1  "
      ]
     },
     "execution_count": 281,
     "metadata": {},
     "output_type": "execute_result"
    }
   ],
   "source": [
    "# Executing the estimator we just created\n",
    "attr = AttributesAdder()\n",
    "feat_eng_test = attr.transform(strat_test_set)\n",
    "feat_eng_test.head(3)"
   ]
  },
  {
   "cell_type": "code",
   "execution_count": 282,
   "id": "constant-antarctica",
   "metadata": {},
   "outputs": [
    {
     "data": {
      "text/plain": [
       "array([[-0.11341568,  0.84573047,  0.3048347 , ..., -0.06248245,\n",
       "        -0.48549372, -0.10576883],\n",
       "       [-0.80423014, -0.88032671, -1.07572276, ..., -0.59760145,\n",
       "         0.29952418, -0.10576883],\n",
       "       [ 0.96622132, -1.0468225 , -1.87904384, ...,  0.04590327,\n",
       "        -0.03600332, -0.10576883],\n",
       "       ...,\n",
       "       [-0.17343099, -0.07534252, -0.43512122, ...,  1.21720153,\n",
       "        -0.85548042, -0.10576883],\n",
       "       [ 0.48035275,  0.71131186,  1.60257518, ..., -0.25134494,\n",
       "         0.33935779, -0.10576883],\n",
       "       [-0.71356872, -0.61301697, -1.38065321, ...,  0.08557419,\n",
       "        -0.82000885,  5.94602537]])"
      ]
     },
     "execution_count": 282,
     "metadata": {},
     "output_type": "execute_result"
    }
   ],
   "source": [
    "# lets see how the resulting data looks like\n",
    "X_test_prepared = num_pipeline.fit_transform(X_test)\n",
    "X_test_prepared"
   ]
  },
  {
   "cell_type": "markdown",
   "id": "designed-baghdad",
   "metadata": {},
   "source": [
    "##### RF Testing"
   ]
  },
  {
   "cell_type": "code",
   "execution_count": 283,
   "id": "baking-marine",
   "metadata": {},
   "outputs": [
    {
     "data": {
      "text/plain": [
       "1.210675998329534"
      ]
     },
     "execution_count": 283,
     "metadata": {},
     "output_type": "execute_result"
    }
   ],
   "source": [
    "#testing the predictions and rmse score\n",
    "predictions_test = bestforest_reg.predict(X_test_prepared)\n",
    "forest_mse_test = mean_squared_error(y_test, predictions_test)\n",
    "forest_rmse_test = np.sqrt(forest_mse_test)\n",
    "forest_rmse_test"
   ]
  },
  {
   "cell_type": "code",
   "execution_count": 284,
   "id": "heard-inside",
   "metadata": {},
   "outputs": [
    {
     "name": "stdout",
     "output_type": "stream",
     "text": [
      "Test score is : 0.24993494970445262\n"
     ]
    }
   ],
   "source": [
    "print(f'Test score is : {bestforest_reg.score(X_test_prepared,y_test)}')"
   ]
  },
  {
   "cell_type": "markdown",
   "id": "controlling-domestic",
   "metadata": {},
   "source": [
    "RF model has been overfitted hence we will test the GBM model next on new data"
   ]
  },
  {
   "cell_type": "markdown",
   "id": "compound-double",
   "metadata": {},
   "source": [
    "##### GBM Testing"
   ]
  },
  {
   "cell_type": "code",
   "execution_count": 293,
   "id": "precious-nicholas",
   "metadata": {},
   "outputs": [
    {
     "data": {
      "text/plain": [
       "1.237611764689012"
      ]
     },
     "execution_count": 293,
     "metadata": {},
     "output_type": "execute_result"
    }
   ],
   "source": [
    "gbr_pred_best = gbr_best.predict(X_test_prepared)\n",
    "gbr_mse_best = mean_squared_error(y_test, gbr_pred_best)\n",
    "gbr_rmse_best = np.sqrt(gbr_mse_best)\n",
    "gbr_rmse_best"
   ]
  },
  {
   "cell_type": "markdown",
   "id": "acceptable-assembly",
   "metadata": {},
   "source": [
    "According to the current model GBM is performing the best with the lowest RMSE score"
   ]
  },
  {
   "cell_type": "code",
   "execution_count": null,
   "id": "australian-china",
   "metadata": {},
   "outputs": [],
   "source": []
  }
 ],
 "metadata": {
  "kernelspec": {
   "display_name": "Python 3",
   "language": "python",
   "name": "python3"
  },
  "language_info": {
   "codemirror_mode": {
    "name": "ipython",
    "version": 3
   },
   "file_extension": ".py",
   "mimetype": "text/x-python",
   "name": "python",
   "nbconvert_exporter": "python",
   "pygments_lexer": "ipython3",
   "version": "3.7.6"
  }
 },
 "nbformat": 4,
 "nbformat_minor": 5
}
